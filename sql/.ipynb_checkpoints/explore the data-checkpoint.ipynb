{
 "cells": [
  {
   "cell_type": "code",
   "execution_count": 4,
   "metadata": {
    "ExecuteTime": {
     "end_time": "2020-03-01T21:58:52.823449Z",
     "start_time": "2020-03-01T21:58:52.783856Z"
    }
   },
   "outputs": [
    {
     "name": "stdout",
     "output_type": "stream",
     "text": [
      "Populating the interactive namespace from numpy and matplotlib\n"
     ]
    },
    {
     "data": {
      "text/html": [
       "<style>.container { width:95% !important; }</style>"
      ],
      "text/plain": [
       "<IPython.core.display.HTML object>"
      ]
     },
     "metadata": {},
     "output_type": "display_data"
    }
   ],
   "source": [
    "from datetime import datetime as dt\n",
    "\n",
    "#######################\n",
    "# standard code block #\n",
    "#######################\n",
    "\n",
    "# see https://ipython.readthedocs.io/en/stable/interactive/magics.html\n",
    "%pylab inline\n",
    "\n",
    "# sets backend to render higher res images\n",
    "%config InlineBackend.figure_formats = ['retina']\n",
    "\n",
    "#######################\n",
    "#       imports       #\n",
    "#######################\n",
    "import pandas as pd\n",
    "import numpy as np\n",
    "import seaborn as sns\n",
    "\n",
    "import itertools\n",
    "import pickle\n",
    "\n",
    "\n",
    "from sklearn.tree import DecisionTreeClassifier, DecisionTreeRegressor\n",
    "from sklearn.ensemble import (RandomForestClassifier, ExtraTreesClassifier, VotingClassifier, \n",
    "                              AdaBoostClassifier, BaggingRegressor)\n",
    "\n",
    "from sklearn.svm import SVC\n",
    "from sklearn.neighbors import KNeighborsClassifier\n",
    "from sklearn.naive_bayes import GaussianNB, MultinomialNB, BernoulliNB\n",
    "from sklearn.linear_model import LogisticRegression\n",
    "from sklearn.metrics import accuracy_score, make_scorer\n",
    "from sklearn.model_selection import train_test_split, GridSearchCV, cross_validate\n",
    "from sklearn.datasets.california_housing import fetch_california_housing\n",
    "\n",
    "from sklearn.ensemble import GradientBoostingClassifier\n",
    "\n",
    "# change margin size of jupyter notebook\n",
    "from IPython.core.display import display, HTML\n",
    "display(HTML(\"<style>.container { width:95% !important; }</style>\"))\n",
    "\n",
    "sns.set_style(\"whitegrid\")"
   ]
  },
  {
   "cell_type": "markdown",
   "metadata": {},
   "source": [
    "variables to shift\n",
    "* how many weeks to rollon \n",
    "* \n",
    "\n",
    "stuff to visualize \n",
    "* earnings over time as a subsection of total holdings "
   ]
  },
  {
   "cell_type": "code",
   "execution_count": 5,
   "metadata": {
    "ExecuteTime": {
     "end_time": "2020-03-01T21:58:54.912815Z",
     "start_time": "2020-03-01T21:58:54.840548Z"
    },
    "scrolled": true
   },
   "outputs": [
    {
     "name": "stdout",
     "output_type": "stream",
     "text": [
      "(1451, 8) (320, 8) (1237, 8)\n"
     ]
    },
    {
     "name": "stderr",
     "output_type": "stream",
     "text": [
      "/Library/Frameworks/Python.framework/Versions/3.6/lib/python3.6/site-packages/ipykernel_launcher.py:5: FutureWarning: Sorting because non-concatenation axis is not aligned. A future version\n",
      "of pandas will change to not sort by default.\n",
      "\n",
      "To accept the future behavior, pass 'sort=False'.\n",
      "\n",
      "To retain the current behavior and silence the warning, pass 'sort=True'.\n",
      "\n",
      "  \"\"\"\n"
     ]
    }
   ],
   "source": [
    "btcusd = pd.read_csv('btcusd.csv')\n",
    "ltcusd = pd.read_csv('ltcusd.csv')\n",
    "ethusd = pd.read_csv('ethusd.csv')\n",
    "print(btcusd.shape,ltcusd.shape, ethusd.shape)\n",
    "crypto = pd.concat([ethusd,ltcusd,btcusd])"
   ]
  },
  {
   "cell_type": "code",
   "execution_count": 21,
   "metadata": {
    "ExecuteTime": {
     "end_time": "2020-02-12T12:53:22.825569Z",
     "start_time": "2020-02-12T12:53:22.810145Z"
    }
   },
   "outputs": [
    {
     "data": {
      "text/html": [
       "<div>\n",
       "<style scoped>\n",
       "    .dataframe tbody tr th:only-of-type {\n",
       "        vertical-align: middle;\n",
       "    }\n",
       "\n",
       "    .dataframe tbody tr th {\n",
       "        vertical-align: top;\n",
       "    }\n",
       "\n",
       "    .dataframe thead th {\n",
       "        text-align: right;\n",
       "    }\n",
       "</style>\n",
       "<table border=\"1\" class=\"dataframe\">\n",
       "  <thead>\n",
       "    <tr style=\"text-align: right;\">\n",
       "      <th></th>\n",
       "      <th>Date</th>\n",
       "      <th>Symbol</th>\n",
       "      <th>Open</th>\n",
       "      <th>High</th>\n",
       "      <th>Low</th>\n",
       "      <th>Close</th>\n",
       "      <th>Volume ETH</th>\n",
       "      <th>Volume USD</th>\n",
       "    </tr>\n",
       "  </thead>\n",
       "  <tbody>\n",
       "    <tr>\n",
       "      <th>0</th>\n",
       "      <td>2019-09-27</td>\n",
       "      <td>ETHUSD</td>\n",
       "      <td>167.46</td>\n",
       "      <td>167.46</td>\n",
       "      <td>165.85</td>\n",
       "      <td>165.85</td>\n",
       "      <td>0.00</td>\n",
       "      <td>0.00</td>\n",
       "    </tr>\n",
       "    <tr>\n",
       "      <th>1</th>\n",
       "      <td>2019-09-26</td>\n",
       "      <td>ETHUSD</td>\n",
       "      <td>169.87</td>\n",
       "      <td>170.93</td>\n",
       "      <td>152.11</td>\n",
       "      <td>167.46</td>\n",
       "      <td>26025.31</td>\n",
       "      <td>4231157.10</td>\n",
       "    </tr>\n",
       "    <tr>\n",
       "      <th>2</th>\n",
       "      <td>2019-09-25</td>\n",
       "      <td>ETHUSD</td>\n",
       "      <td>166.15</td>\n",
       "      <td>175.00</td>\n",
       "      <td>162.47</td>\n",
       "      <td>169.87</td>\n",
       "      <td>16209.66</td>\n",
       "      <td>2728669.98</td>\n",
       "    </tr>\n",
       "    <tr>\n",
       "      <th>3</th>\n",
       "      <td>2019-09-24</td>\n",
       "      <td>ETHUSD</td>\n",
       "      <td>200.68</td>\n",
       "      <td>202.69</td>\n",
       "      <td>152.39</td>\n",
       "      <td>166.15</td>\n",
       "      <td>57331.20</td>\n",
       "      <td>9978628.61</td>\n",
       "    </tr>\n",
       "    <tr>\n",
       "      <th>4</th>\n",
       "      <td>2019-09-23</td>\n",
       "      <td>ETHUSD</td>\n",
       "      <td>211.37</td>\n",
       "      <td>211.41</td>\n",
       "      <td>198.34</td>\n",
       "      <td>200.68</td>\n",
       "      <td>11158.06</td>\n",
       "      <td>2298918.33</td>\n",
       "    </tr>\n",
       "    <tr>\n",
       "      <th>...</th>\n",
       "      <td>...</td>\n",
       "      <td>...</td>\n",
       "      <td>...</td>\n",
       "      <td>...</td>\n",
       "      <td>...</td>\n",
       "      <td>...</td>\n",
       "      <td>...</td>\n",
       "      <td>...</td>\n",
       "    </tr>\n",
       "    <tr>\n",
       "      <th>1232</th>\n",
       "      <td>2016-05-13</td>\n",
       "      <td>ETHUSD</td>\n",
       "      <td>10.20</td>\n",
       "      <td>11.59</td>\n",
       "      <td>10.20</td>\n",
       "      <td>10.69</td>\n",
       "      <td>1769.71</td>\n",
       "      <td>18923.55</td>\n",
       "    </tr>\n",
       "    <tr>\n",
       "      <th>1233</th>\n",
       "      <td>2016-05-12</td>\n",
       "      <td>ETHUSD</td>\n",
       "      <td>10.43</td>\n",
       "      <td>12.00</td>\n",
       "      <td>9.92</td>\n",
       "      <td>10.20</td>\n",
       "      <td>2072.56</td>\n",
       "      <td>22183.39</td>\n",
       "    </tr>\n",
       "    <tr>\n",
       "      <th>1234</th>\n",
       "      <td>2016-05-11</td>\n",
       "      <td>ETHUSD</td>\n",
       "      <td>9.68</td>\n",
       "      <td>10.47</td>\n",
       "      <td>9.68</td>\n",
       "      <td>10.43</td>\n",
       "      <td>3052.51</td>\n",
       "      <td>30978.11</td>\n",
       "    </tr>\n",
       "    <tr>\n",
       "      <th>1235</th>\n",
       "      <td>2016-05-10</td>\n",
       "      <td>ETHUSD</td>\n",
       "      <td>9.98</td>\n",
       "      <td>9.98</td>\n",
       "      <td>9.36</td>\n",
       "      <td>9.68</td>\n",
       "      <td>672.06</td>\n",
       "      <td>6578.20</td>\n",
       "    </tr>\n",
       "    <tr>\n",
       "      <th>1236</th>\n",
       "      <td>2016-05-09</td>\n",
       "      <td>ETHUSD</td>\n",
       "      <td>12.00</td>\n",
       "      <td>12.00</td>\n",
       "      <td>9.36</td>\n",
       "      <td>9.98</td>\n",
       "      <td>1317.90</td>\n",
       "      <td>12885.06</td>\n",
       "    </tr>\n",
       "  </tbody>\n",
       "</table>\n",
       "<p>1237 rows × 8 columns</p>\n",
       "</div>"
      ],
      "text/plain": [
       "            Date  Symbol    Open    High     Low   Close  Volume ETH  \\\n",
       "0     2019-09-27  ETHUSD  167.46  167.46  165.85  165.85        0.00   \n",
       "1     2019-09-26  ETHUSD  169.87  170.93  152.11  167.46    26025.31   \n",
       "2     2019-09-25  ETHUSD  166.15  175.00  162.47  169.87    16209.66   \n",
       "3     2019-09-24  ETHUSD  200.68  202.69  152.39  166.15    57331.20   \n",
       "4     2019-09-23  ETHUSD  211.37  211.41  198.34  200.68    11158.06   \n",
       "...          ...     ...     ...     ...     ...     ...         ...   \n",
       "1232  2016-05-13  ETHUSD   10.20   11.59   10.20   10.69     1769.71   \n",
       "1233  2016-05-12  ETHUSD   10.43   12.00    9.92   10.20     2072.56   \n",
       "1234  2016-05-11  ETHUSD    9.68   10.47    9.68   10.43     3052.51   \n",
       "1235  2016-05-10  ETHUSD    9.98    9.98    9.36    9.68      672.06   \n",
       "1236  2016-05-09  ETHUSD   12.00   12.00    9.36    9.98     1317.90   \n",
       "\n",
       "      Volume USD  \n",
       "0           0.00  \n",
       "1     4231157.10  \n",
       "2     2728669.98  \n",
       "3     9978628.61  \n",
       "4     2298918.33  \n",
       "...          ...  \n",
       "1232    18923.55  \n",
       "1233    22183.39  \n",
       "1234    30978.11  \n",
       "1235     6578.20  \n",
       "1236    12885.06  \n",
       "\n",
       "[1237 rows x 8 columns]"
      ]
     },
     "execution_count": 21,
     "metadata": {},
     "output_type": "execute_result"
    }
   ],
   "source": [
    "ethusd"
   ]
  },
  {
   "cell_type": "code",
   "execution_count": null,
   "metadata": {
    "ExecuteTime": {
     "end_time": "2020-02-12T12:37:19.188580Z",
     "start_time": "2020-02-12T12:35:51.571998Z"
    }
   },
   "outputs": [],
   "source": [
    "\n"
   ]
  },
  {
   "cell_type": "markdown",
   "metadata": {},
   "source": [
    "Given that you can only hold one type of crypto at any time, and assuming you start with $1,000 USD, analyze the historical price data provided for BTC, ETH, and LTC: on which days would you trade from one currency to another in order to maximize returns? Assume your trades are filled at the average daily price for each coin on the days you trade. What is your trade history and ending account balance between Jan 01, 2018 and Sept 01, 2019?"
   ]
  },
  {
   "cell_type": "markdown",
   "metadata": {},
   "source": [
    "# base model 1\n",
    "\n",
    "for each end of week day (monday), find the average direction of all crypto from the previous week. \n",
    "Based on overall direction shift to the crypto with the historically most traction up, or the least traction down. \n",
    "the proportion of the shift is relative to the intensity of the shift. \n",
    "\n",
    "steps)\n",
    "1) create week #\n",
    "\n",
    "2) collapse onto week\n",
    "\n",
    "3) find week min and max and take diff as growth\n",
    "\n",
    "4) join back onto week\n",
    "\n",
    "5) single out end of week days, \n",
    "\n",
    "6) find the historical sensitivity up and down for each coin doing shifts\n",
    "\n",
    "6a) as a correlation of each coin relative to the average change in the overall market. \n",
    "\n",
    "7) trade at end of week prices based on average direction * highest sensitivity when going up or lowest sensitivity when going down\n"
   ]
  },
  {
   "cell_type": "markdown",
   "metadata": {},
   "source": [
    "# base model 2\n",
    "\n",
    "will focus on trading on fridays, because a model should trade as regularly as it's model is sophisticated. \n",
    "\n",
    "\n"
   ]
  },
  {
   "cell_type": "code",
   "execution_count": 22,
   "metadata": {
    "ExecuteTime": {
     "end_time": "2020-02-12T12:53:22.842099Z",
     "start_time": "2020-02-12T12:53:22.827763Z"
    }
   },
   "outputs": [
    {
     "data": {
      "text/html": [
       "<div>\n",
       "<style scoped>\n",
       "    .dataframe tbody tr th:only-of-type {\n",
       "        vertical-align: middle;\n",
       "    }\n",
       "\n",
       "    .dataframe tbody tr th {\n",
       "        vertical-align: top;\n",
       "    }\n",
       "\n",
       "    .dataframe thead th {\n",
       "        text-align: right;\n",
       "    }\n",
       "</style>\n",
       "<table border=\"1\" class=\"dataframe\">\n",
       "  <thead>\n",
       "    <tr style=\"text-align: right;\">\n",
       "      <th></th>\n",
       "      <th>Date</th>\n",
       "      <th>Symbol</th>\n",
       "      <th>Open</th>\n",
       "      <th>High</th>\n",
       "      <th>Low</th>\n",
       "      <th>Close</th>\n",
       "      <th>Volume LTC</th>\n",
       "      <th>Volume USD</th>\n",
       "    </tr>\n",
       "  </thead>\n",
       "  <tbody>\n",
       "    <tr>\n",
       "      <th>315</th>\n",
       "      <td>2018-11-16</td>\n",
       "      <td>LTCUSD</td>\n",
       "      <td>43.20</td>\n",
       "      <td>43.61</td>\n",
       "      <td>41.00</td>\n",
       "      <td>41.72</td>\n",
       "      <td>2287.93</td>\n",
       "      <td>96738.05</td>\n",
       "    </tr>\n",
       "    <tr>\n",
       "      <th>316</th>\n",
       "      <td>2018-11-15</td>\n",
       "      <td>LTCUSD</td>\n",
       "      <td>42.72</td>\n",
       "      <td>43.73</td>\n",
       "      <td>39.59</td>\n",
       "      <td>43.20</td>\n",
       "      <td>8301.32</td>\n",
       "      <td>353446.78</td>\n",
       "    </tr>\n",
       "    <tr>\n",
       "      <th>317</th>\n",
       "      <td>2018-11-14</td>\n",
       "      <td>LTCUSD</td>\n",
       "      <td>49.20</td>\n",
       "      <td>49.90</td>\n",
       "      <td>40.24</td>\n",
       "      <td>42.72</td>\n",
       "      <td>12849.72</td>\n",
       "      <td>551213.20</td>\n",
       "    </tr>\n",
       "    <tr>\n",
       "      <th>318</th>\n",
       "      <td>2018-11-13</td>\n",
       "      <td>LTCUSD</td>\n",
       "      <td>50.50</td>\n",
       "      <td>50.50</td>\n",
       "      <td>48.35</td>\n",
       "      <td>49.20</td>\n",
       "      <td>4842.46</td>\n",
       "      <td>239937.06</td>\n",
       "    </tr>\n",
       "    <tr>\n",
       "      <th>319</th>\n",
       "      <td>2018-11-12</td>\n",
       "      <td>LTCUSD</td>\n",
       "      <td>50.32</td>\n",
       "      <td>50.50</td>\n",
       "      <td>50.00</td>\n",
       "      <td>50.50</td>\n",
       "      <td>361.87</td>\n",
       "      <td>18176.56</td>\n",
       "    </tr>\n",
       "  </tbody>\n",
       "</table>\n",
       "</div>"
      ],
      "text/plain": [
       "           Date  Symbol   Open   High    Low  Close  Volume LTC  Volume USD\n",
       "315  2018-11-16  LTCUSD  43.20  43.61  41.00  41.72     2287.93    96738.05\n",
       "316  2018-11-15  LTCUSD  42.72  43.73  39.59  43.20     8301.32   353446.78\n",
       "317  2018-11-14  LTCUSD  49.20  49.90  40.24  42.72    12849.72   551213.20\n",
       "318  2018-11-13  LTCUSD  50.50  50.50  48.35  49.20     4842.46   239937.06\n",
       "319  2018-11-12  LTCUSD  50.32  50.50  50.00  50.50      361.87    18176.56"
      ]
     },
     "execution_count": 22,
     "metadata": {},
     "output_type": "execute_result"
    }
   ],
   "source": [
    "ltcusd.tail()"
   ]
  },
  {
   "cell_type": "code",
   "execution_count": 6,
   "metadata": {
    "ExecuteTime": {
     "end_time": "2020-03-01T23:24:03.968638Z",
     "start_time": "2020-03-01T23:24:03.384484Z"
    },
    "scrolled": true
   },
   "outputs": [
    {
     "name": "stderr",
     "output_type": "stream",
     "text": [
      "/Library/Frameworks/Python.framework/Versions/3.6/lib/python3.6/site-packages/ipykernel_launcher.py:44: FutureWarning: using a dict on a Series for aggregation\n",
      "is deprecated and will be removed in a future version. Use                 named aggregation instead.\n",
      "\n",
      "    >>> grouper.agg(name_1=func_1, name_2=func_2)\n",
      "\n"
     ]
    }
   ],
   "source": [
    "class BuildModelData:\n",
    "    \n",
    "    def __init__(self, data, initialAmmount = 1000, aggBin=3, window=4):\n",
    "        self.initialAmmount = initialAmmount\n",
    "        self.data = data\n",
    "        self.mergedCrypto = self.mergeCrypto()\n",
    "        self.AggData = self.buildAggData(aggBin)\n",
    "        self.buildRollingAverages(window) \n",
    "        self.buildLabel()\n",
    "    \n",
    "    def mergeCrypto(self):\n",
    "        mergedCrypto = self.data['BTC'].merge(self.data['ETH'], how='outer', on='Date',suffixes=('_BTC', '_ETH'))\n",
    "        self.data['LTC'].columns = ['Date','Symbol_LTC','Open_LTC', 'High_LTC', 'Low_LTC', 'Close_LTC', 'Volume LTC', 'Volume USD_LTC']\n",
    "        mergedCrypto = mergedCrypto.merge(self.data['LTC'], how='outer', on='Date')\n",
    "        mergedCrypto.drop(columns=['Symbol_BTC','Symbol_ETH','Symbol_LTC'], inplace=True)\n",
    "        return mergedCrypto\n",
    "\n",
    "    def buildAggData(self, aggBin):\n",
    "        self.mergedCrypto = self.mergedCrypto.reindex(index=self.mergedCrypto.index[::-1])\n",
    "        self.mergedCrypto.reset_index(inplace=True,drop=True)\n",
    "        def collapseWithGrowth(cryptoData):\n",
    "        # group by id/3\n",
    "            #get first day      \n",
    "            columns = [x for x in cryptoData.columns]\n",
    "            groupByObject = cryptoData.groupby(cryptoData.index//aggBin)[columns]\n",
    "            crypto_Agg_first = groupByObject.first()\n",
    "            crypto_Agg_first.columns = [x +'_fstd' for x in columns]\n",
    "            crypto_Agg_first.reset_index(inplace=True)\n",
    "\n",
    "            crypto_Agg_last = groupByObject.last()\n",
    "            crypto_Agg_last.columns = [x +'_lstd' for x in columns]\n",
    "            crypto_Agg_last.reset_index(inplace=True)\n",
    "            crypto_Agg = crypto_Agg_first.merge(crypto_Agg_last, how='outer', on='index')\n",
    "            \n",
    "\n",
    "        # findGrowth\n",
    "            for eachCrypto in self.data:\n",
    "                \n",
    "                #get price growth \n",
    "                crypto_Agg['growth_'+eachCrypto] = (crypto_Agg['price_'+eachCrypto+'_lstd'] - crypto_Agg['price_'+eachCrypto+'_fstd'])/crypto_Agg['price_'+eachCrypto+'_fstd']        \n",
    "                #get volume change Volume LTC_lstd\n",
    "                crypto_Agg['volu_growth_'+eachCrypto] = (crypto_Agg['Volume '+eachCrypto+'_lstd'] - crypto_Agg['Volume '+eachCrypto+'_fstd'])/crypto_Agg['Volume '+eachCrypto+'_fstd']        \n",
    "                #get price volatility\n",
    "                crypto_Vol = cryptoData.groupby(cryptoData.index//aggBin)['price_'+eachCrypto].agg({ 'volatility_'+eachCrypto : np.std })\n",
    "                crypto_Agg['volat_'+eachCrypto] = crypto_Vol['volatility_'+eachCrypto]\n",
    "                #get price volatility\n",
    "                \n",
    "            dropcolumns = [x for x in crypto_Agg.columns if x.startswith(('Open','High','Close','Low'))]\n",
    "            crypto_Agg.drop(dropcolumns, axis=1, inplace=True)\n",
    "            return crypto_Agg\n",
    "        \n",
    "\n",
    "        #get average price per day\n",
    "        for eachCrypto in self.data:\n",
    "            self.mergedCrypto['price_'+eachCrypto] = (self.mergedCrypto['High_'+eachCrypto] + self.mergedCrypto['Low_'+eachCrypto])/2\n",
    "            self.mergedCrypto['range_'+eachCrypto] = self.mergedCrypto['High_'+eachCrypto] - self.mergedCrypto['Low_'+eachCrypto]\n",
    "        \n",
    "        return collapseWithGrowth(self.mergedCrypto)\n",
    "                        \n",
    "    def buildLabel(self):\n",
    "        def whichCrypto(row, direction):\n",
    "            b = row['growth_BTC']\n",
    "            e = row['growth_ETH']\n",
    "            l = row['growth_LTC']\n",
    "\n",
    "            maxGrowthForThatDay = np.nanmax([b,e,l])\n",
    "            minGrowthForThatDAy = np.nanmin([b,e,l])\n",
    "            \n",
    "            if direction == 'up':\n",
    "                comp = maxGrowthForThatDay # what will gain you the most money\n",
    "            elif direction == 'dwn':\n",
    "                comp = minGrowthForThatDAy #what will lose you the most money\n",
    "\n",
    "            if comp == b:\n",
    "                return 'BTC'\n",
    "            elif comp == e:\n",
    "                return 'ETH'\n",
    "            elif comp == l:\n",
    "                return 'LTC'\n",
    "\n",
    "        self.AggData['WhichCryptoUp'] = self.AggData.apply(whichCrypto, direction='up', axis=1)\n",
    "        self.AggData['WhichCryptoDwn'] = self.AggData.apply(whichCrypto, direction='dwn', axis=1)\n",
    "        self.AggData['upORdwn'] = self.AggData[['growth_BTC','growth_ETH','growth_LTC']].mean(axis=1)\n",
    "        self.AggData['upORdwn'] = self.AggData['upORdwn'].apply(lambda x: 1 if x > 0 else 0)\n",
    "    \n",
    "    \n",
    "    def buildRollingAverages(self,window):\n",
    "        self.AggData.sort_index(inplace=True)\n",
    "        for i in range(len(self.AggData.columns)):\n",
    "            name = self.AggData.columns[i]\n",
    "            dtype = self.AggData[name].dtype\n",
    "            if dtype =='float':\n",
    "                self.AggData['rol_'+ name] = self.AggData.iloc[:,i].rolling(window=window).mean()\n",
    "        \n",
    "    \n",
    "A1 = BuildModelData({'BTC': btcusd,'ETH':ethusd,'LTC':ltcusd})\n"
   ]
  },
  {
   "cell_type": "markdown",
   "metadata": {
    "ExecuteTime": {
     "end_time": "2020-02-06T01:45:22.948779Z",
     "start_time": "2020-02-06T01:45:22.943774Z"
    }
   },
   "source": [
    "# Train Model on Prior Period"
   ]
  },
  {
   "cell_type": "markdown",
   "metadata": {},
   "source": [
    "## build label"
   ]
  },
  {
   "cell_type": "markdown",
   "metadata": {
    "ExecuteTime": {
     "end_time": "2020-02-06T22:03:13.366877Z",
     "start_time": "2020-02-06T22:03:13.362429Z"
    }
   },
   "source": [
    "## separate out features"
   ]
  },
  {
   "cell_type": "code",
   "execution_count": 44,
   "metadata": {
    "ExecuteTime": {
     "end_time": "2020-02-12T13:00:58.021549Z",
     "start_time": "2020-02-12T13:00:58.018822Z"
    }
   },
   "outputs": [],
   "source": [
    "AggData = A1.AggData"
   ]
  },
  {
   "cell_type": "code",
   "execution_count": 28,
   "metadata": {
    "ExecuteTime": {
     "end_time": "2020-02-12T12:53:42.967767Z",
     "start_time": "2020-02-12T12:53:42.932729Z"
    }
   },
   "outputs": [
    {
     "data": {
      "text/html": [
       "<div>\n",
       "<style scoped>\n",
       "    .dataframe tbody tr th:only-of-type {\n",
       "        vertical-align: middle;\n",
       "    }\n",
       "\n",
       "    .dataframe tbody tr th {\n",
       "        vertical-align: top;\n",
       "    }\n",
       "\n",
       "    .dataframe thead th {\n",
       "        text-align: right;\n",
       "    }\n",
       "</style>\n",
       "<table border=\"1\" class=\"dataframe\">\n",
       "  <thead>\n",
       "    <tr style=\"text-align: right;\">\n",
       "      <th></th>\n",
       "      <th>index</th>\n",
       "      <th>Date_fstd</th>\n",
       "      <th>Volume BTC_fstd</th>\n",
       "      <th>Volume USD_BTC_fstd</th>\n",
       "      <th>Volume ETH_fstd</th>\n",
       "      <th>Volume USD_ETH_fstd</th>\n",
       "      <th>Volume LTC_fstd</th>\n",
       "      <th>Volume USD_LTC_fstd</th>\n",
       "      <th>price_BTC_fstd</th>\n",
       "      <th>range_BTC_fstd</th>\n",
       "      <th>...</th>\n",
       "      <th>rol_volat_BTC</th>\n",
       "      <th>rol_growth_ETH</th>\n",
       "      <th>rol_volu_growth_ETH</th>\n",
       "      <th>rol_volat_ETH</th>\n",
       "      <th>rol_growth_LTC</th>\n",
       "      <th>rol_volu_growth_LTC</th>\n",
       "      <th>rol_volat_LTC</th>\n",
       "      <th>WhichCryptoUp</th>\n",
       "      <th>WhichCryptoDwn</th>\n",
       "      <th>upORdwn</th>\n",
       "    </tr>\n",
       "  </thead>\n",
       "  <tbody>\n",
       "    <tr>\n",
       "      <th>0</th>\n",
       "      <td>0</td>\n",
       "      <td>2015-10-08</td>\n",
       "      <td>18.80</td>\n",
       "      <td>4595.84</td>\n",
       "      <td>NaN</td>\n",
       "      <td>NaN</td>\n",
       "      <td>NaN</td>\n",
       "      <td>NaN</td>\n",
       "      <td>243.750</td>\n",
       "      <td>2.50</td>\n",
       "      <td>...</td>\n",
       "      <td>NaN</td>\n",
       "      <td>NaN</td>\n",
       "      <td>NaN</td>\n",
       "      <td>NaN</td>\n",
       "      <td>NaN</td>\n",
       "      <td>NaN</td>\n",
       "      <td>NaN</td>\n",
       "      <td>BTC</td>\n",
       "      <td>BTC</td>\n",
       "      <td>1</td>\n",
       "    </tr>\n",
       "    <tr>\n",
       "      <th>1</th>\n",
       "      <td>1</td>\n",
       "      <td>2015-10-11</td>\n",
       "      <td>12.22</td>\n",
       "      <td>3021.12</td>\n",
       "      <td>NaN</td>\n",
       "      <td>NaN</td>\n",
       "      <td>NaN</td>\n",
       "      <td>NaN</td>\n",
       "      <td>247.900</td>\n",
       "      <td>3.20</td>\n",
       "      <td>...</td>\n",
       "      <td>NaN</td>\n",
       "      <td>NaN</td>\n",
       "      <td>NaN</td>\n",
       "      <td>NaN</td>\n",
       "      <td>NaN</td>\n",
       "      <td>NaN</td>\n",
       "      <td>NaN</td>\n",
       "      <td>BTC</td>\n",
       "      <td>BTC</td>\n",
       "      <td>1</td>\n",
       "    </tr>\n",
       "    <tr>\n",
       "      <th>2</th>\n",
       "      <td>2</td>\n",
       "      <td>2015-10-14</td>\n",
       "      <td>119.54</td>\n",
       "      <td>30115.77</td>\n",
       "      <td>NaN</td>\n",
       "      <td>NaN</td>\n",
       "      <td>NaN</td>\n",
       "      <td>NaN</td>\n",
       "      <td>252.375</td>\n",
       "      <td>4.75</td>\n",
       "      <td>...</td>\n",
       "      <td>NaN</td>\n",
       "      <td>NaN</td>\n",
       "      <td>NaN</td>\n",
       "      <td>NaN</td>\n",
       "      <td>NaN</td>\n",
       "      <td>NaN</td>\n",
       "      <td>NaN</td>\n",
       "      <td>BTC</td>\n",
       "      <td>BTC</td>\n",
       "      <td>1</td>\n",
       "    </tr>\n",
       "    <tr>\n",
       "      <th>3</th>\n",
       "      <td>3</td>\n",
       "      <td>2015-10-17</td>\n",
       "      <td>664.66</td>\n",
       "      <td>180981.35</td>\n",
       "      <td>NaN</td>\n",
       "      <td>NaN</td>\n",
       "      <td>NaN</td>\n",
       "      <td>NaN</td>\n",
       "      <td>274.070</td>\n",
       "      <td>21.86</td>\n",
       "      <td>...</td>\n",
       "      <td>2.536863</td>\n",
       "      <td>NaN</td>\n",
       "      <td>NaN</td>\n",
       "      <td>NaN</td>\n",
       "      <td>NaN</td>\n",
       "      <td>NaN</td>\n",
       "      <td>NaN</td>\n",
       "      <td>BTC</td>\n",
       "      <td>BTC</td>\n",
       "      <td>0</td>\n",
       "    </tr>\n",
       "    <tr>\n",
       "      <th>4</th>\n",
       "      <td>4</td>\n",
       "      <td>2015-10-20</td>\n",
       "      <td>202.09</td>\n",
       "      <td>54949.01</td>\n",
       "      <td>NaN</td>\n",
       "      <td>NaN</td>\n",
       "      <td>NaN</td>\n",
       "      <td>NaN</td>\n",
       "      <td>271.005</td>\n",
       "      <td>9.97</td>\n",
       "      <td>...</td>\n",
       "      <td>2.812039</td>\n",
       "      <td>NaN</td>\n",
       "      <td>NaN</td>\n",
       "      <td>NaN</td>\n",
       "      <td>NaN</td>\n",
       "      <td>NaN</td>\n",
       "      <td>NaN</td>\n",
       "      <td>BTC</td>\n",
       "      <td>BTC</td>\n",
       "      <td>1</td>\n",
       "    </tr>\n",
       "    <tr>\n",
       "      <th>...</th>\n",
       "      <td>...</td>\n",
       "      <td>...</td>\n",
       "      <td>...</td>\n",
       "      <td>...</td>\n",
       "      <td>...</td>\n",
       "      <td>...</td>\n",
       "      <td>...</td>\n",
       "      <td>...</td>\n",
       "      <td>...</td>\n",
       "      <td>...</td>\n",
       "      <td>...</td>\n",
       "      <td>...</td>\n",
       "      <td>...</td>\n",
       "      <td>...</td>\n",
       "      <td>...</td>\n",
       "      <td>...</td>\n",
       "      <td>...</td>\n",
       "      <td>...</td>\n",
       "      <td>...</td>\n",
       "      <td>...</td>\n",
       "      <td>...</td>\n",
       "    </tr>\n",
       "    <tr>\n",
       "      <th>479</th>\n",
       "      <td>479</td>\n",
       "      <td>2019-09-14</td>\n",
       "      <td>288.31</td>\n",
       "      <td>2986871.05</td>\n",
       "      <td>5842.43</td>\n",
       "      <td>1087778.85</td>\n",
       "      <td>2573.39</td>\n",
       "      <td>180178.57</td>\n",
       "      <td>10338.030</td>\n",
       "      <td>211.98</td>\n",
       "      <td>...</td>\n",
       "      <td>92.089386</td>\n",
       "      <td>0.015369</td>\n",
       "      <td>0.275755</td>\n",
       "      <td>1.841889</td>\n",
       "      <td>0.013027</td>\n",
       "      <td>0.494636</td>\n",
       "      <td>0.847442</td>\n",
       "      <td>ETH</td>\n",
       "      <td>BTC</td>\n",
       "      <td>1</td>\n",
       "    </tr>\n",
       "    <tr>\n",
       "      <th>480</th>\n",
       "      <td>480</td>\n",
       "      <td>2019-09-17</td>\n",
       "      <td>661.45</td>\n",
       "      <td>6760798.55</td>\n",
       "      <td>16399.13</td>\n",
       "      <td>3363033.45</td>\n",
       "      <td>12330.89</td>\n",
       "      <td>919460.44</td>\n",
       "      <td>10211.320</td>\n",
       "      <td>143.18</td>\n",
       "      <td>...</td>\n",
       "      <td>102.656860</td>\n",
       "      <td>0.023871</td>\n",
       "      <td>0.215677</td>\n",
       "      <td>2.501087</td>\n",
       "      <td>0.006620</td>\n",
       "      <td>0.692801</td>\n",
       "      <td>0.895348</td>\n",
       "      <td>ETH</td>\n",
       "      <td>BTC</td>\n",
       "      <td>1</td>\n",
       "    </tr>\n",
       "    <tr>\n",
       "      <th>481</th>\n",
       "      <td>481</td>\n",
       "      <td>2019-09-20</td>\n",
       "      <td>925.30</td>\n",
       "      <td>9402772.44</td>\n",
       "      <td>7633.77</td>\n",
       "      <td>1655313.62</td>\n",
       "      <td>8190.57</td>\n",
       "      <td>614659.86</td>\n",
       "      <td>10166.225</td>\n",
       "      <td>217.35</td>\n",
       "      <td>...</td>\n",
       "      <td>95.730606</td>\n",
       "      <td>0.017515</td>\n",
       "      <td>0.203111</td>\n",
       "      <td>3.356752</td>\n",
       "      <td>-0.006527</td>\n",
       "      <td>0.510749</td>\n",
       "      <td>0.989623</td>\n",
       "      <td>BTC</td>\n",
       "      <td>LTC</td>\n",
       "      <td>0</td>\n",
       "    </tr>\n",
       "    <tr>\n",
       "      <th>482</th>\n",
       "      <td>482</td>\n",
       "      <td>2019-09-23</td>\n",
       "      <td>2114.59</td>\n",
       "      <td>20720560.84</td>\n",
       "      <td>11158.06</td>\n",
       "      <td>2298918.33</td>\n",
       "      <td>25770.89</td>\n",
       "      <td>1737183.76</td>\n",
       "      <td>9831.790</td>\n",
       "      <td>432.08</td>\n",
       "      <td>...</td>\n",
       "      <td>240.536730</td>\n",
       "      <td>-0.028759</td>\n",
       "      <td>0.478111</td>\n",
       "      <td>7.858648</td>\n",
       "      <td>-0.045652</td>\n",
       "      <td>0.340630</td>\n",
       "      <td>2.327220</td>\n",
       "      <td>BTC</td>\n",
       "      <td>ETH</td>\n",
       "      <td>0</td>\n",
       "    </tr>\n",
       "    <tr>\n",
       "      <th>483</th>\n",
       "      <td>483</td>\n",
       "      <td>2019-09-26</td>\n",
       "      <td>5740.30</td>\n",
       "      <td>46021625.19</td>\n",
       "      <td>26025.31</td>\n",
       "      <td>4231157.10</td>\n",
       "      <td>12735.92</td>\n",
       "      <td>692000.27</td>\n",
       "      <td>8088.215</td>\n",
       "      <td>740.43</td>\n",
       "      <td>...</td>\n",
       "      <td>228.690272</td>\n",
       "      <td>-0.033005</td>\n",
       "      <td>-0.200903</td>\n",
       "      <td>7.630441</td>\n",
       "      <td>-0.045870</td>\n",
       "      <td>-0.236680</td>\n",
       "      <td>2.336859</td>\n",
       "      <td>ETH</td>\n",
       "      <td>BTC</td>\n",
       "      <td>1</td>\n",
       "    </tr>\n",
       "  </tbody>\n",
       "</table>\n",
       "<p>484 rows × 72 columns</p>\n",
       "</div>"
      ],
      "text/plain": [
       "     index   Date_fstd  Volume BTC_fstd  Volume USD_BTC_fstd  Volume ETH_fstd  \\\n",
       "0        0  2015-10-08            18.80              4595.84              NaN   \n",
       "1        1  2015-10-11            12.22              3021.12              NaN   \n",
       "2        2  2015-10-14           119.54             30115.77              NaN   \n",
       "3        3  2015-10-17           664.66            180981.35              NaN   \n",
       "4        4  2015-10-20           202.09             54949.01              NaN   \n",
       "..     ...         ...              ...                  ...              ...   \n",
       "479    479  2019-09-14           288.31           2986871.05          5842.43   \n",
       "480    480  2019-09-17           661.45           6760798.55         16399.13   \n",
       "481    481  2019-09-20           925.30           9402772.44          7633.77   \n",
       "482    482  2019-09-23          2114.59          20720560.84         11158.06   \n",
       "483    483  2019-09-26          5740.30          46021625.19         26025.31   \n",
       "\n",
       "     Volume USD_ETH_fstd  Volume LTC_fstd  Volume USD_LTC_fstd  \\\n",
       "0                    NaN              NaN                  NaN   \n",
       "1                    NaN              NaN                  NaN   \n",
       "2                    NaN              NaN                  NaN   \n",
       "3                    NaN              NaN                  NaN   \n",
       "4                    NaN              NaN                  NaN   \n",
       "..                   ...              ...                  ...   \n",
       "479           1087778.85          2573.39            180178.57   \n",
       "480           3363033.45         12330.89            919460.44   \n",
       "481           1655313.62          8190.57            614659.86   \n",
       "482           2298918.33         25770.89           1737183.76   \n",
       "483           4231157.10         12735.92            692000.27   \n",
       "\n",
       "     price_BTC_fstd  range_BTC_fstd  ...  rol_volat_BTC  rol_growth_ETH  \\\n",
       "0           243.750            2.50  ...            NaN             NaN   \n",
       "1           247.900            3.20  ...            NaN             NaN   \n",
       "2           252.375            4.75  ...            NaN             NaN   \n",
       "3           274.070           21.86  ...       2.536863             NaN   \n",
       "4           271.005            9.97  ...       2.812039             NaN   \n",
       "..              ...             ...  ...            ...             ...   \n",
       "479       10338.030          211.98  ...      92.089386        0.015369   \n",
       "480       10211.320          143.18  ...     102.656860        0.023871   \n",
       "481       10166.225          217.35  ...      95.730606        0.017515   \n",
       "482        9831.790          432.08  ...     240.536730       -0.028759   \n",
       "483        8088.215          740.43  ...     228.690272       -0.033005   \n",
       "\n",
       "     rol_volu_growth_ETH  rol_volat_ETH rol_growth_LTC  rol_volu_growth_LTC  \\\n",
       "0                    NaN            NaN            NaN                  NaN   \n",
       "1                    NaN            NaN            NaN                  NaN   \n",
       "2                    NaN            NaN            NaN                  NaN   \n",
       "3                    NaN            NaN            NaN                  NaN   \n",
       "4                    NaN            NaN            NaN                  NaN   \n",
       "..                   ...            ...            ...                  ...   \n",
       "479             0.275755       1.841889       0.013027             0.494636   \n",
       "480             0.215677       2.501087       0.006620             0.692801   \n",
       "481             0.203111       3.356752      -0.006527             0.510749   \n",
       "482             0.478111       7.858648      -0.045652             0.340630   \n",
       "483            -0.200903       7.630441      -0.045870            -0.236680   \n",
       "\n",
       "     rol_volat_LTC  WhichCryptoUp  WhichCryptoDwn  upORdwn  \n",
       "0              NaN            BTC             BTC        1  \n",
       "1              NaN            BTC             BTC        1  \n",
       "2              NaN            BTC             BTC        1  \n",
       "3              NaN            BTC             BTC        0  \n",
       "4              NaN            BTC             BTC        1  \n",
       "..             ...            ...             ...      ...  \n",
       "479       0.847442            ETH             BTC        1  \n",
       "480       0.895348            ETH             BTC        1  \n",
       "481       0.989623            BTC             LTC        0  \n",
       "482       2.327220            BTC             ETH        0  \n",
       "483       2.336859            ETH             BTC        1  \n",
       "\n",
       "[484 rows x 72 columns]"
      ]
     },
     "execution_count": 28,
     "metadata": {},
     "output_type": "execute_result"
    }
   ],
   "source": [
    "AggData"
   ]
  },
  {
   "cell_type": "code",
   "execution_count": 26,
   "metadata": {
    "ExecuteTime": {
     "end_time": "2020-02-12T12:53:23.447856Z",
     "start_time": "2020-02-12T12:53:23.436605Z"
    },
    "scrolled": true
   },
   "outputs": [
    {
     "ename": "NameError",
     "evalue": "name 'jointDataFrame' is not defined",
     "output_type": "error",
     "traceback": [
      "\u001b[0;31m---------------------------------------------------------------------------\u001b[0m",
      "\u001b[0;31mNameError\u001b[0m                                 Traceback (most recent call last)",
      "\u001b[0;32m<ipython-input-26-ac598b4159a8>\u001b[0m in \u001b[0;36m<module>\u001b[0;34m()\u001b[0m\n\u001b[0;32m----> 1\u001b[0;31m \u001b[0mjointDataFrame\u001b[0m\u001b[0;34m.\u001b[0m\u001b[0mtail\u001b[0m\u001b[0;34m(\u001b[0m\u001b[0;34m)\u001b[0m\u001b[0;34m[\u001b[0m\u001b[0;34m'WhichCryptoDwn'\u001b[0m\u001b[0;34m]\u001b[0m\u001b[0;34m\u001b[0m\u001b[0m\n\u001b[0m",
      "\u001b[0;31mNameError\u001b[0m: name 'jointDataFrame' is not defined"
     ]
    }
   ],
   "source": [
    "jointDataFrame.tail()['WhichCryptoDwn']"
   ]
  },
  {
   "cell_type": "code",
   "execution_count": 13,
   "metadata": {
    "ExecuteTime": {
     "end_time": "2020-03-01T23:32:02.158892Z",
     "start_time": "2020-03-01T23:32:00.503039Z"
    },
    "scrolled": false
   },
   "outputs": [
    {
     "name": "stdout",
     "output_type": "stream",
     "text": [
      "to buy:  0.0 prev val:  1000.0 % to change:  0.4367367311046875\n",
      "1000.0\n",
      "1000.0 withUSD\n",
      "1000.0 initial\n"
     ]
    },
    {
     "name": "stderr",
     "output_type": "stream",
     "text": [
      "/Library/Frameworks/Python.framework/Versions/3.6/lib/python3.6/site-packages/ipykernel_launcher.py:199: FutureWarning: Comparing Series of datetimes with 'datetime.date'.  Currently, the\n",
      "'datetime.date' is coerced to a datetime. In the future pandas will\n",
      "not coerce, and a TypeError will be raised. To retain the current\n",
      "behavior, convert the 'datetime.date' to a datetime with\n",
      "'pd.Timestamp'.\n"
     ]
    }
   ],
   "source": [
    "AggData = A1.AggData\n",
    "class CryptoModel:\n",
    "    \n",
    "    initial_breakdown = {'BTC': 0.030638125273752783, 'ETH': 0.80073259360567473, 'LTC': 0}\n",
    "\n",
    "    def __init__(self, date, prev_holdings, ifusd_crypto_prev, ifusd_USD_prev_val, past_data, curr_data): \n",
    "        self.date = date\n",
    "        self.b_price = curr_data['price_BTC_fstd']\n",
    "        self.e_price = curr_data['price_ETH_fstd'] if not math.isnan(curr_data['price_ETH_fstd']) else 0\n",
    "        self.l_price = curr_data['price_LTC_fstd'] if not math.isnan(curr_data['price_LTC_fstd']) else 0\n",
    "        #crypto holdings only\n",
    "        self.prev_holdings = prev_holdings\n",
    "        self.prev_holdings_val = self.convertHoldingsToUSD(self.prev_holdings)\n",
    "        self.init_holdings_val = self.convertHoldingsToUSD(self.initial_breakdown)\n",
    "        \n",
    "        # ifusd vars\n",
    "        self.ifusd_crypto_prev = ifusd_crypto_prev\n",
    "        self.ifusd_crypto_prev_val = self.convertHoldingsToUSD(ifusd_crypto_prev)\n",
    "        self.ifusd_USD_prev_val = ifusd_USD_prev_val\n",
    "        \n",
    "        self.past_data = past_data\n",
    "        self.curr_data = curr_data\n",
    "        \n",
    "        self.model_up = self.buildCoinModel('WhichCryptoUp')\n",
    "        self.model_dwn = self.buildCoinModel('WhichCryptoDwn')\n",
    "        self.model_dir = self.buildDirModel()\n",
    "        self.predictedupORdwn = self.predictDir()\n",
    "        self.predictions_Up = self.setPredictions(self.model_up)\n",
    "        self.predictions_Dwn = self.setPredictions(self.model_dwn)\n",
    "        self.find_holdingChanges()\n",
    "    \n",
    "    def buildDirModel(self):\n",
    "        #label\n",
    "        y = self.past_data['upORdwn']\n",
    "        # features\n",
    "        X = self.past_data.filter(regex='^rol', axis=1).fillna(-99999999)\n",
    "        X['date'] = X.index\n",
    "        X['date'] = X['date'].apply(lambda x: x.toordinal())\n",
    "        #fit\n",
    "        dir_model = GradientBoostingClassifier(n_estimators=10)\n",
    "        dir_model.fit(X, y)\n",
    "        #score\n",
    "        self.dir_R2 = np.round(dir_model.score(X, y), 4)\n",
    "#         print(f'dir model R^2 Score: {np.round(dir_model.score(X, y), 4)}')\n",
    "        \n",
    "        return dir_model\n",
    "        \n",
    "    def buildCoinModel(self,which_crypto_upORdwn):\n",
    "        # label\n",
    "        cleanup_nums = {'BTC': 0,\"ETH\": 1, 'LTC': 2} #this should be whichCrypto\n",
    "        y = self.past_data[which_crypto_upORdwn].replace(cleanup_nums).astype(int)\n",
    "        # features\n",
    "        X = self.past_data.filter(regex='^rol', axis=1).fillna(-99999999)\n",
    "        X['date'] = X.index\n",
    "        X['date'] = X['date'].apply(lambda x: x.toordinal())\n",
    "        #fit\n",
    "        coin_model = GradientBoostingClassifier(n_estimators=10)\n",
    "        coin_model.fit(X, y)\n",
    "        #score \n",
    "        self.coin_R2 = np.round(coin_model.score(X, y), 4)\n",
    "#         print(f'coin model R^2 Score: {np.round(coin_model.score(X, y), 4)}')\n",
    "        \n",
    "#         def bias_metric(y_true, y_pred):\n",
    "#             return np.mean((np.mean(y_pred) - y_true)**2)\n",
    "\n",
    "#         def variance_metric(y_true, y_pred):\n",
    "#             return np.var(y_true - y_pred)\n",
    "        \n",
    "#         self.bias = bias_metric(y_true, y_pred)\n",
    "#         self.variance = variance_metric(y_true, y_pred)\n",
    "\n",
    "        return coin_model\n",
    "\n",
    "    def predictDir(self):\n",
    "        date=self.curr_data['date'].toordinal()\n",
    "        X = self.curr_data.filter(regex='^rol').fillna(-99999999)       \n",
    "        X['date'] = date\n",
    "        self.dir_probs_soft = self.model_dir.predict_proba( X.values.reshape(1, -1))\n",
    "        return self.model_dir.predict(X.values.reshape(1, -1))\n",
    "    \n",
    "    def setPredictions(self, model):\n",
    "        date=self.curr_data['date'].toordinal()\n",
    "        X = self.curr_data.filter(regex='^rol').fillna(-99999999)       \n",
    "        X['date'] = date\n",
    "        probs_ = model.predict_proba( X.values.reshape(1, -1))\n",
    "        probs = {}\n",
    "        \n",
    "        probs['BTC'] = probs_[0][0]\n",
    "        if len(probs_[0])>1:\n",
    "            probs['ETH'] = probs_[0][1]\n",
    "        if len(probs_[0])>2:   \n",
    "            probs['LTC'] = probs_[0][0]\n",
    "        return probs\n",
    "        \n",
    "    def convertHoldingsToUSD(self,holdings):\n",
    "        return holdings['BTC'] * self.b_price + holdings['ETH'] * self.e_price + holdings['LTC'] * self.l_price\n",
    "            \n",
    "    def find_holdingChanges(self):\n",
    "        dwn_inverse = {x: 1-self.predictions_Dwn[x] for x in self.predictions_Dwn}\n",
    "        predictions = self.predictions_Up if self.predictedupORdwn == 1 else dwn_inverse         \n",
    "        prob_upORdwn = self.dir_probs_soft[0][1] if self.predictions_Up else self.dir_probs_soft[0][0]\n",
    "        \n",
    "        relative_predictions = {}\n",
    "        total_confidence = math.fsum(predictions.values()) # sum up all\n",
    "        relative_predictions['BTC'] = predictions['BTC'] / total_confidence\n",
    "        if len(predictions) > 1: relative_predictions['ETH'] = predictions['ETH'] / total_confidence\n",
    "        if len(predictions) > 2: relative_predictions['LTC'] = predictions['LTC'] / total_confidence\n",
    "        \n",
    "        amountToChange_portion =  total_confidence * self.dir_R2 *prob_upORdwn\n",
    "        amountToChange = self.prev_holdings_val * amountToChange_portion\n",
    "        amountRemains = self.prev_holdings_val - amountToChange\n",
    "        \n",
    "        def determinHoldover(amountRemains, prev_holdings, prev_holdings_val):\n",
    "            BTCShare = (prev_holdings['BTC' ] * self.b_price) / prev_holdings_val\n",
    "            ETHShare = (prev_holdings['ETH' ] * self.e_price) / prev_holdings_val \n",
    "            LTCShare = (prev_holdings['LTC' ] * self.l_price) / prev_holdings_val\n",
    "            \n",
    "            holdOver_BTC = (amountRemains * BTCShare)/ self.b_price\n",
    "            holdOver_ETH = (amountRemains * ETHShare)/ self.e_price\n",
    "            holdOver_ETH = holdOver_ETH if not math.isnan(holdOver_ETH) else 0.0\n",
    "\n",
    "            if self.l_price == 0 or math.isnan(self.l_price):\n",
    "                holdOver_LTC = 0\n",
    "            else:\n",
    "                holdOver_LTC = (amountRemains * LTCShare )/ self.l_price\n",
    "                \n",
    "            return [holdOver_BTC,  holdOver_ETH,holdOver_LTC]\n",
    "        \n",
    "#         holdOver_BTC, holdOver_ETH, holdOver_LTC = determinHoldover(amountRemains, self.prev_holdings, self.prev_holdings_val)\n",
    "                \n",
    "        def findChanges(relative_predictions,amountToChange):\n",
    "            changes_BTC = amountToChange*relative_predictions['BTC'] / self.b_price\n",
    "            changes_ETH = amountToChange*relative_predictions['ETH'] / self.e_price if 'ETH' in predictions else 0\n",
    "            changes_LTC = amountToChange*relative_predictions['LTC'] / self.l_price if 'LTC' in predictions else 0\n",
    "            return [changes_BTC, changes_ETH, changes_LTC]\n",
    "        \n",
    "        h = determinHoldover(amountRemains, self.prev_holdings, self.prev_holdings_val)\n",
    "        c = findChanges(relative_predictions, amountToChange)\n",
    "        \n",
    "        def setHoldings(h, c):\n",
    "            new_holdings = {}\n",
    "            new_holdings['BTC'] = h[0] + c[0]\n",
    "            new_holdings['ETH'] = h[1] + c[1]\n",
    "            new_holdings['LTC'] = h[2] + c[2]\n",
    "            \n",
    "            new_holdings_val = self.convertHoldingsToUSD(new_holdings)\n",
    "            \n",
    "            new_holdings_rel = {}    \n",
    "            new_holdings_rel['BTC'] = ((h[0] + c[0])*self.b_price)/new_holdings_val\n",
    "            new_holdings_rel['ETH'] = ((h[1] + c[1])*self.e_price)/new_holdings_val\n",
    "            new_holdings_rel['LTC'] = ((h[2] + c[2])*self.l_price)/new_holdings_val\n",
    "        \n",
    "            return new_holdings, new_holdings_rel, new_holdings_val\n",
    "        \n",
    "        self.new_holdings, self.new_holdings_rel, self.new_holdings_val = setHoldings(h, c)\n",
    "        \n",
    "        def determine_earnings_ifyoucantradeintoUSD(predictedupORdwn, relative_predictions, findChanges):\n",
    "        \n",
    "            if predictedupORdwn == 1: # buy into crypto\n",
    "                cryptoToBuy = self.ifusd_USD_prev_val * amountToChange_portion\n",
    "                print(\"to buy: \", cryptoToBuy, \"prev val: \", self.ifusd_crypto_prev_val,\"% to change: \", amountToChange_portion)\n",
    "                cryptoToChange = (self.ifusd_crypto_prev_val-cryptoToBuy) * amountToChange_portion\n",
    "                cryptoChanges = cryptoToChange + cryptoToBuy\n",
    "                cryptoRemains = self.ifusd_crypto_prev_val - cryptoToChange\n",
    "                \n",
    "                self.ifusd_USD_new_val = self.ifusd_USD_prev_val - cryptoToBuy\n",
    "                \n",
    "                h = determinHoldover(cryptoRemains, self.ifusd_crypto_prev, self.ifusd_crypto_prev_val)\n",
    "                c = findChanges(relative_predictions, cryptoChanges)\n",
    "\n",
    "                self.ifusd_crypto_new, self.ifusd_crypto_new_rel,self.ifusd_crypto_new_val = setHoldings(h, c)\n",
    "                \n",
    "            \n",
    "            else: # sell out of crypto\n",
    "                amountToSell = self.ifusd_crypto_prev_val * amountToChange_portion # shift out the previous value \n",
    "                print(\"to sell: \", amountToSell, \"prev val: \", self.ifusd_crypto_prev_val,\"% to change: \", amountToChange_portion)\n",
    "                amountRemains = self.ifusd_crypto_prev_val - amountToSell # \n",
    "                amountToChange = amountRemains * amountToChange_portion \n",
    "                amountNotToChange = amountRemains - amountToChange\n",
    "                self.ifusd_USD_new_val = self.ifusd_USD_prev_val +  amountToSell\n",
    "                h = determinHoldover(amountNotToChange, self.ifusd_crypto_prev, self.ifusd_crypto_prev_val)\n",
    "                c = findChanges(relative_predictions, amountToChange)\n",
    "                \n",
    "                self.ifusd_crypto_new, self.ifusd_crypto_new_rel,self.ifusd_crypto_new_val = setHoldings(h, c)\n",
    "            \n",
    "            \n",
    "            self.ifusd_total_bal_new = self.ifusd_crypto_new_val + self.ifusd_USD_new_val\n",
    "            print(self.new_holdings_val)\n",
    "            print(self.ifusd_total_bal_new,'withUSD')\n",
    "            print(self.init_holdings_val,'initial')\n",
    "                \n",
    "\n",
    "        determine_earnings_ifyoucantradeintoUSD(self.predictedupORdwn,relative_predictions,findChanges)\n",
    "        \n",
    "def setup(initial_amount,AggData,startDate, endDate,):\n",
    "    startdate_DT = dt.strptime(startDate, '%Y-%m-%d').date()\n",
    "    AggData['date'] = pd.to_datetime(AggData['Date_fstd']) \n",
    "    AggData.set_index('date',inplace=True, drop=False)\n",
    "    dataBefore = AggData[pd.to_datetime(AggData['Date_fstd']) < startdate_DT]\n",
    "    \n",
    "    def find_intial_holdings(startDate):\n",
    "        b_mean = dataBefore['growth_BTC'].mean()\n",
    "        e_mean = dataBefore['growth_ETH'].mean()\n",
    "        b_share = b_mean/(b_mean+e_mean)\n",
    "        e_share = e_mean/(b_mean+e_mean)\n",
    "        \n",
    "        b_price = AggData.loc[startDate]['price_BTC_fstd']\n",
    "        e_price = AggData.loc[startDate]['price_ETH_fstd']\n",
    "\n",
    "        initial_holdings = {\n",
    "            'BTC': ((initial_amount*b_share)/b_price),\n",
    "            'ETH': ((initial_amount*e_share)/e_price),\n",
    "            'LTC': 0\n",
    "        }\n",
    "\n",
    "        return initial_holdings\n",
    "        \n",
    "    return CryptoModel(date=startDate, prev_holdings=find_intial_holdings(startdate_DT), ifusd_crypto_prev=find_intial_holdings(startdate_DT),ifusd_USD_prev_val=0, past_data=dataBefore, curr_data=AggData.loc[startdate_DT] )\n",
    "\n",
    "first_day = setup(initial_amount=1000, startDate='2018-01-01', endDate = '2019-09-01',AggData=AggData)\n",
    " \n",
    "        \n",
    "#build model print('predictions', predictions, self.predictedupORdwn, self.predictions_Dwn, self.predictions_Up )"
   ]
  },
  {
   "cell_type": "code",
   "execution_count": 16,
   "metadata": {
    "ExecuteTime": {
     "end_time": "2020-03-02T01:20:05.943846Z",
     "start_time": "2020-03-02T01:20:05.839859Z"
    }
   },
   "outputs": [
    {
     "name": "stdout",
     "output_type": "stream",
     "text": [
      "1.0293758334849437\n",
      "to buy:  0.0 prev val:  1206.1172356626114 % to change:  0.5433858522087807\n",
      "1206.1172356626114\n",
      "1206.1172356626114 withUSD\n",
      "1214.2647723353223 initial\n"
     ]
    },
    {
     "name": "stderr",
     "output_type": "stream",
     "text": [
      "/Library/Frameworks/Python.framework/Versions/3.6/lib/python3.6/site-packages/ipykernel_launcher.py:5: FutureWarning: Comparing Series of datetimes with 'datetime.date'.  Currently, the\n",
      "'datetime.date' is coerced to a datetime. In the future pandas will\n",
      "not coerce, and a TypeError will be raised. To retain the current\n",
      "behavior, convert the 'datetime.date' to a datetime with\n",
      "'pd.Timestamp'.\n",
      "  \"\"\"\n"
     ]
    }
   ],
   "source": [
    "print(0.3115953681716913+ 0.7177804653132523)\n",
    "# first_day\n",
    "startDate_2 = '2018-01-04'\n",
    "startdate_2 = dt.strptime(startDate_2, '%Y-%m-%d').date()\n",
    "dataBefore = AggData[(pd.to_datetime(AggData['Date_fstd']) < startdate_2)]\n",
    "second_day = CryptoModel(date=startDate_2, prev_holdings=first_day.new_holdings, ifusd_crypto_prev=first_day.ifusd_crypto_new, ifusd_USD_prev_val=first_day.ifusd_USD_new_val, past_data=dataBefore, curr_data=AggData.loc[startDate_2])\n",
    "\n",
    "\n",
    "# # printout(second_day)\n",
    "\n",
    "# # Plot feature importance\n",
    "# feature_importance = second_day.feature_importances_\n",
    "# # make importances relative to max importance\n",
    "# feature_importance = 100.0 * (feature_importance / feature_importance.max())\n",
    "# # sorted_idx = np.argsort(feature_importance)\n",
    "# pos = np.arange(sorted_idx.shape[0]) + .5\n",
    "# plt.subplot(1, 2, 2)\n",
    "# plt.barh(pos, feature_importance[sorted_idx], align='center')\n",
    "# # plt.yticks(pos, boston.feature_names[sorted_idx])\n",
    "# plt.xlabel('Relative Importance')\n",
    "# plt.title('Variable Importance')\n",
    "# plt.show()\n"
   ]
  },
  {
   "cell_type": "markdown",
   "metadata": {},
   "source": [
    "1) build an object with the following \n",
    "\n",
    "2) model assumes only prior knowledge to replicate actual trading circumstances \n",
    "\n",
    "3) show how the model improves over time \n",
    "\n",
    "4) build a bar shifter to show how these changes happen over time, \n",
    "\n",
    "[date, B_bal, E_bal, L_bal, total_holdings, prev_date, model_built_toDate, prev_period, predicted_direction, predicted_coinIfUp, predicted_coinIfDwn ]\n",
    "\n",
    "## issues \n",
    "1) why does the previous value not match\n"
   ]
  },
  {
   "cell_type": "code",
   "execution_count": null,
   "metadata": {
    "ExecuteTime": {
     "start_time": "2020-03-02T01:20:26.555Z"
    }
   },
   "outputs": [
    {
     "name": "stderr",
     "output_type": "stream",
     "text": [
      "/Library/Frameworks/Python.framework/Versions/3.6/lib/python3.6/site-packages/ipykernel_launcher.py:9: FutureWarning: Comparing Series of datetimes with 'datetime.date'.  Currently, the\n",
      "'datetime.date' is coerced to a datetime. In the future pandas will\n",
      "not coerce, and a TypeError will be raised. To retain the current\n",
      "behavior, convert the 'datetime.date' to a datetime with\n",
      "'pd.Timestamp'.\n",
      "  if __name__ == '__main__':\n",
      "/Library/Frameworks/Python.framework/Versions/3.6/lib/python3.6/site-packages/ipykernel_launcher.py:12: FutureWarning: Comparing Series of datetimes with 'datetime.date'.  Currently, the\n",
      "'datetime.date' is coerced to a datetime. In the future pandas will\n",
      "not coerce, and a TypeError will be raised. To retain the current\n",
      "behavior, convert the 'datetime.date' to a datetime with\n",
      "'pd.Timestamp'.\n",
      "  if sys.path[0] == '':\n",
      "/Library/Frameworks/Python.framework/Versions/3.6/lib/python3.6/site-packages/ipykernel_launcher.py:12: FutureWarning: Comparing Series of datetimes with 'datetime.date'.  Currently, the\n",
      "'datetime.date' is coerced to a datetime. In the future pandas will\n",
      "not coerce, and a TypeError will be raised. To retain the current\n",
      "behavior, convert the 'datetime.date' to a datetime with\n",
      "'pd.Timestamp'.\n",
      "  if sys.path[0] == '':\n",
      "/Library/Frameworks/Python.framework/Versions/3.6/lib/python3.6/site-packages/ipykernel_launcher.py:12: FutureWarning: Comparing Series of datetimes with 'datetime.date'.  Currently, the\n",
      "'datetime.date' is coerced to a datetime. In the future pandas will\n",
      "not coerce, and a TypeError will be raised. To retain the current\n",
      "behavior, convert the 'datetime.date' to a datetime with\n",
      "'pd.Timestamp'.\n",
      "  if sys.path[0] == '':\n"
     ]
    },
    {
     "name": "stdout",
     "output_type": "stream",
     "text": [
      "2018-01-04\n",
      "to buy:  0.0 prev val:  1206.1172356626114 % to change:  0.5433858522087807\n",
      "1206.1172356626114\n",
      "1206.1172356626114 withUSD\n",
      "1214.2647723353223 initial\n",
      "2018-01-07\n",
      "to buy:  0.0 prev val:  1342.6377766856124 % to change:  0.6379298312019133\n",
      "1342.6377766856124\n",
      "1342.6377766856124 withUSD\n",
      "1351.0664061646778 initial\n",
      "2018-01-10\n",
      "to buy:  0.0 prev val:  1423.731458992168 % to change:  0.6528774639977681\n",
      "1423.731458992168\n",
      "1423.731458992168 withUSD\n",
      "1473.3227832735683 initial\n",
      "2018-01-13\n",
      "to buy:  0.0 prev val:  1431.910217271425 % to change:  0.44223596683778776\n",
      "1431.9102172714247\n",
      "1431.9102172714247 withUSD\n",
      "1485.3191709638822 initial\n",
      "2018-01-16\n",
      "to sell:  355.3099142381063 prev val:  1182.275655167471 % to change:  0.3005305172995177\n",
      "1182.2756551674706\n",
      "1182.2756551674709 withUSD\n",
      "1221.9595252764493 initial\n",
      "2018-01-19\n"
     ]
    },
    {
     "name": "stderr",
     "output_type": "stream",
     "text": [
      "/Library/Frameworks/Python.framework/Versions/3.6/lib/python3.6/site-packages/ipykernel_launcher.py:12: FutureWarning: Comparing Series of datetimes with 'datetime.date'.  Currently, the\n",
      "'datetime.date' is coerced to a datetime. In the future pandas will\n",
      "not coerce, and a TypeError will be raised. To retain the current\n",
      "behavior, convert the 'datetime.date' to a datetime with\n",
      "'pd.Timestamp'.\n",
      "  if sys.path[0] == '':\n",
      "/Library/Frameworks/Python.framework/Versions/3.6/lib/python3.6/site-packages/ipykernel_launcher.py:12: FutureWarning: Comparing Series of datetimes with 'datetime.date'.  Currently, the\n",
      "'datetime.date' is coerced to a datetime. In the future pandas will\n",
      "not coerce, and a TypeError will be raised. To retain the current\n",
      "behavior, convert the 'datetime.date' to a datetime with\n",
      "'pd.Timestamp'.\n",
      "  if sys.path[0] == '':\n",
      "/Library/Frameworks/Python.framework/Versions/3.6/lib/python3.6/site-packages/ipykernel_launcher.py:12: FutureWarning: Comparing Series of datetimes with 'datetime.date'.  Currently, the\n",
      "'datetime.date' is coerced to a datetime. In the future pandas will\n",
      "not coerce, and a TypeError will be raised. To retain the current\n",
      "behavior, convert the 'datetime.date' to a datetime with\n",
      "'pd.Timestamp'.\n",
      "  if sys.path[0] == '':\n"
     ]
    },
    {
     "name": "stdout",
     "output_type": "stream",
     "text": [
      "to sell:  248.74839433270574 prev val:  808.6624161639907 % to change:  0.3076047425484177\n",
      "1156.1082165328226\n",
      "1163.9723304020968 withUSD\n",
      "1195.135722825925 initial\n",
      "2018-01-22\n",
      "to buy:  266.38727184421685 prev val:  531.3247123177456 % to change:  0.44099595695402816\n",
      "1097.0771254279775\n",
      "1135.3830208885577 withUSD\n",
      "1134.0808218774007 initial\n",
      "2018-01-25\n",
      "to buy:  167.40558607532242 prev val:  831.5241299947838 % to change:  0.4957653096284568\n",
      "1143.7516608425944\n",
      "1169.195166721379 withUSD\n",
      "1190.6215400529227 initial\n",
      "2018-01-28\n"
     ]
    },
    {
     "name": "stderr",
     "output_type": "stream",
     "text": [
      "/Library/Frameworks/Python.framework/Versions/3.6/lib/python3.6/site-packages/ipykernel_launcher.py:12: FutureWarning: Comparing Series of datetimes with 'datetime.date'.  Currently, the\n",
      "'datetime.date' is coerced to a datetime. In the future pandas will\n",
      "not coerce, and a TypeError will be raised. To retain the current\n",
      "behavior, convert the 'datetime.date' to a datetime with\n",
      "'pd.Timestamp'.\n",
      "  if sys.path[0] == '':\n",
      "/Library/Frameworks/Python.framework/Versions/3.6/lib/python3.6/site-packages/ipykernel_launcher.py:12: FutureWarning: Comparing Series of datetimes with 'datetime.date'.  Currently, the\n",
      "'datetime.date' is coerced to a datetime. In the future pandas will\n",
      "not coerce, and a TypeError will be raised. To retain the current\n",
      "behavior, convert the 'datetime.date' to a datetime with\n",
      "'pd.Timestamp'.\n",
      "  if sys.path[0] == '':\n",
      "/Library/Frameworks/Python.framework/Versions/3.6/lib/python3.6/site-packages/ipykernel_launcher.py:12: FutureWarning: Comparing Series of datetimes with 'datetime.date'.  Currently, the\n",
      "'datetime.date' is coerced to a datetime. In the future pandas will\n",
      "not coerce, and a TypeError will be raised. To retain the current\n",
      "behavior, convert the 'datetime.date' to a datetime with\n",
      "'pd.Timestamp'.\n",
      "  if sys.path[0] == '':\n"
     ]
    },
    {
     "name": "stdout",
     "output_type": "stream",
     "text": [
      "to buy:  79.24057848895613 prev val:  1059.2006597247366 % to change:  0.4653943485648879\n",
      "1212.9619017038808\n",
      "1229.4661103760093 withUSD\n",
      "1283.7471408463825 initial\n",
      "2018-01-31\n",
      "to sell:  291.12510668307596 prev val:  1007.0027622148966 % to change:  0.2891006038977967\n",
      "1073.0258781663397\n",
      "1098.0276343772132 withUSD\n",
      "1156.539681357795 initial\n",
      "2018-02-03\n",
      "to sell:  152.20947666961317 prev val:  627.0507066838471 % to change:  0.24273870525490962\n",
      "939.8583635754184\n",
      "1009.2006855292396 withUSD\n",
      "1006.472493229574 initial\n",
      "2018-02-06\n"
     ]
    },
    {
     "name": "stderr",
     "output_type": "stream",
     "text": [
      "/Library/Frameworks/Python.framework/Versions/3.6/lib/python3.6/site-packages/ipykernel_launcher.py:12: FutureWarning: Comparing Series of datetimes with 'datetime.date'.  Currently, the\n",
      "'datetime.date' is coerced to a datetime. In the future pandas will\n",
      "not coerce, and a TypeError will be raised. To retain the current\n",
      "behavior, convert the 'datetime.date' to a datetime with\n",
      "'pd.Timestamp'.\n",
      "  if sys.path[0] == '':\n",
      "/Library/Frameworks/Python.framework/Versions/3.6/lib/python3.6/site-packages/ipykernel_launcher.py:12: FutureWarning: Comparing Series of datetimes with 'datetime.date'.  Currently, the\n",
      "'datetime.date' is coerced to a datetime. In the future pandas will\n",
      "not coerce, and a TypeError will be raised. To retain the current\n",
      "behavior, convert the 'datetime.date' to a datetime with\n",
      "'pd.Timestamp'.\n",
      "  if sys.path[0] == '':\n",
      "/Library/Frameworks/Python.framework/Versions/3.6/lib/python3.6/site-packages/ipykernel_launcher.py:12: FutureWarning: Comparing Series of datetimes with 'datetime.date'.  Currently, the\n",
      "'datetime.date' is coerced to a datetime. In the future pandas will\n",
      "not coerce, and a TypeError will be raised. To retain the current\n",
      "behavior, convert the 'datetime.date' to a datetime with\n",
      "'pd.Timestamp'.\n",
      "  if sys.path[0] == '':\n"
     ]
    },
    {
     "name": "stdout",
     "output_type": "stream",
     "text": [
      "to sell:  123.45360915778802 prev val:  365.1134415306839 % to change:  0.3381239776882141\n",
      "722.6452551031009\n",
      "899.4728970456896 withUSD\n",
      "764.2579558992983 initial\n",
      "2018-02-09\n",
      "to buy:  300.48378920123514 prev val:  289.1783460827936 % to change:  0.45679206652835386\n",
      "864.7485606004411\n",
      "946.9914107555875 withUSD\n",
      "917.8484221829304 initial\n",
      "2018-02-12\n",
      "to buy:  172.57212184740962 prev val:  605.3727932216295 % to change:  0.48294985519915895\n",
      "887.6300578537364\n",
      "962.702068693188 withUSD\n",
      "935.918262325109 initial\n",
      "2018-02-15\n"
     ]
    },
    {
     "name": "stderr",
     "output_type": "stream",
     "text": [
      "/Library/Frameworks/Python.framework/Versions/3.6/lib/python3.6/site-packages/ipykernel_launcher.py:12: FutureWarning: Comparing Series of datetimes with 'datetime.date'.  Currently, the\n",
      "'datetime.date' is coerced to a datetime. In the future pandas will\n",
      "not coerce, and a TypeError will be raised. To retain the current\n",
      "behavior, convert the 'datetime.date' to a datetime with\n",
      "'pd.Timestamp'.\n",
      "  if sys.path[0] == '':\n",
      "/Library/Frameworks/Python.framework/Versions/3.6/lib/python3.6/site-packages/ipykernel_launcher.py:12: FutureWarning: Comparing Series of datetimes with 'datetime.date'.  Currently, the\n",
      "'datetime.date' is coerced to a datetime. In the future pandas will\n",
      "not coerce, and a TypeError will be raised. To retain the current\n",
      "behavior, convert the 'datetime.date' to a datetime with\n",
      "'pd.Timestamp'.\n",
      "  if sys.path[0] == '':\n",
      "/Library/Frameworks/Python.framework/Versions/3.6/lib/python3.6/site-packages/ipykernel_launcher.py:12: FutureWarning: Comparing Series of datetimes with 'datetime.date'.  Currently, the\n",
      "'datetime.date' is coerced to a datetime. In the future pandas will\n",
      "not coerce, and a TypeError will be raised. To retain the current\n",
      "behavior, convert the 'datetime.date' to a datetime with\n",
      "'pd.Timestamp'.\n",
      "  if sys.path[0] == '':\n"
     ]
    },
    {
     "name": "stdout",
     "output_type": "stream",
     "text": [
      "to buy:  107.06819310744136 prev val:  880.9315257882504 % to change:  0.5795076997410877\n",
      "1004.9209740466943\n",
      "1065.6886794123993 withUSD\n",
      "1043.1854381393362 initial\n",
      "2018-02-18\n",
      "to buy:  42.707948058933816 prev val:  1053.7726241122382 % to change:  0.5497299458621168\n",
      "1071.6519987895913\n",
      "1131.4615846289457 withUSD\n",
      "1086.0197142037273 initial\n",
      "2018-02-21\n",
      "to buy:  20.048455967439494 prev val:  1063.4504023645031 % to change:  0.5731239480744111\n",
      "1039.2438789146643\n",
      "1098.431414822277 withUSD\n",
      "1019.226271465888 initial\n",
      "2018-02-24\n"
     ]
    },
    {
     "name": "stderr",
     "output_type": "stream",
     "text": [
      "/Library/Frameworks/Python.framework/Versions/3.6/lib/python3.6/site-packages/ipykernel_launcher.py:12: FutureWarning: Comparing Series of datetimes with 'datetime.date'.  Currently, the\n",
      "'datetime.date' is coerced to a datetime. In the future pandas will\n",
      "not coerce, and a TypeError will be raised. To retain the current\n",
      "behavior, convert the 'datetime.date' to a datetime with\n",
      "'pd.Timestamp'.\n",
      "  if sys.path[0] == '':\n",
      "/Library/Frameworks/Python.framework/Versions/3.6/lib/python3.6/site-packages/ipykernel_launcher.py:12: FutureWarning: Comparing Series of datetimes with 'datetime.date'.  Currently, the\n",
      "'datetime.date' is coerced to a datetime. In the future pandas will\n",
      "not coerce, and a TypeError will be raised. To retain the current\n",
      "behavior, convert the 'datetime.date' to a datetime with\n",
      "'pd.Timestamp'.\n",
      "  if sys.path[0] == '':\n",
      "/Library/Frameworks/Python.framework/Versions/3.6/lib/python3.6/site-packages/ipykernel_launcher.py:12: FutureWarning: Comparing Series of datetimes with 'datetime.date'.  Currently, the\n",
      "'datetime.date' is coerced to a datetime. In the future pandas will\n",
      "not coerce, and a TypeError will be raised. To retain the current\n",
      "behavior, convert the 'datetime.date' to a datetime with\n",
      "'pd.Timestamp'.\n",
      "  if sys.path[0] == '':\n"
     ]
    },
    {
     "name": "stdout",
     "output_type": "stream",
     "text": [
      "to sell:  378.22138283726787 prev val:  1023.918180174953 % to change:  0.36938633394774045\n",
      "982.1298339816944\n",
      "1038.8507366652875 withUSD\n",
      "980.4748208714731 initial\n",
      "2018-02-27\n",
      "to buy:  179.9434478895876 prev val:  676.493354614801 % to change:  0.4576920892547554\n",
      "1028.9681995971105\n",
      "1069.647293942403 withUSD\n",
      "1023.7976005666866 initial\n",
      "2018-03-02\n",
      "to buy:  94.63946078540124 prev val:  876.5392923644941 % to change:  0.44387806691452236\n",
      "1053.0671671810842\n",
      "1089.7497838025088 withUSD\n",
      "1026.7357306231568 initial\n",
      "2018-03-05\n"
     ]
    },
    {
     "name": "stderr",
     "output_type": "stream",
     "text": [
      "/Library/Frameworks/Python.framework/Versions/3.6/lib/python3.6/site-packages/ipykernel_launcher.py:12: FutureWarning: Comparing Series of datetimes with 'datetime.date'.  Currently, the\n",
      "'datetime.date' is coerced to a datetime. In the future pandas will\n",
      "not coerce, and a TypeError will be raised. To retain the current\n",
      "behavior, convert the 'datetime.date' to a datetime with\n",
      "'pd.Timestamp'.\n",
      "  if sys.path[0] == '':\n",
      "/Library/Frameworks/Python.framework/Versions/3.6/lib/python3.6/site-packages/ipykernel_launcher.py:12: FutureWarning: Comparing Series of datetimes with 'datetime.date'.  Currently, the\n",
      "'datetime.date' is coerced to a datetime. In the future pandas will\n",
      "not coerce, and a TypeError will be raised. To retain the current\n",
      "behavior, convert the 'datetime.date' to a datetime with\n",
      "'pd.Timestamp'.\n",
      "  if sys.path[0] == '':\n",
      "/Library/Frameworks/Python.framework/Versions/3.6/lib/python3.6/site-packages/ipykernel_launcher.py:12: FutureWarning: Comparing Series of datetimes with 'datetime.date'.  Currently, the\n",
      "'datetime.date' is coerced to a datetime. In the future pandas will\n",
      "not coerce, and a TypeError will be raised. To retain the current\n",
      "behavior, convert the 'datetime.date' to a datetime with\n",
      "'pd.Timestamp'.\n",
      "  if sys.path[0] == '':\n"
     ]
    },
    {
     "name": "stdout",
     "output_type": "stream",
     "text": [
      "to sell:  346.8905332618883 prev val:  1000.2451642803576 % to change:  0.3468055089388653\n",
      "1084.5645633110792\n",
      "1118.816194932971 withUSD\n",
      "1040.9938998224222 initial\n",
      "2018-03-08\n",
      "to sell:  170.03758760005343 prev val:  547.0545012048442 % to change:  0.31082385251480266\n",
      "908.11155659127\n",
      "1012.5160651193457 withUSD\n",
      "877.1461578533042 initial\n",
      "2018-03-11\n",
      "to sell:  97.33716004742081 prev val:  361.7201144331632 % to change:  0.2690952373493354\n",
      "871.2676300483936\n",
      "997.2192659477182 withUSD\n",
      "843.383827136717 initial\n",
      "2018-03-14\n"
     ]
    },
    {
     "name": "stderr",
     "output_type": "stream",
     "text": [
      "/Library/Frameworks/Python.framework/Versions/3.6/lib/python3.6/site-packages/ipykernel_launcher.py:12: FutureWarning: Comparing Series of datetimes with 'datetime.date'.  Currently, the\n",
      "'datetime.date' is coerced to a datetime. In the future pandas will\n",
      "not coerce, and a TypeError will be raised. To retain the current\n",
      "behavior, convert the 'datetime.date' to a datetime with\n",
      "'pd.Timestamp'.\n",
      "  if sys.path[0] == '':\n",
      "/Library/Frameworks/Python.framework/Versions/3.6/lib/python3.6/site-packages/ipykernel_launcher.py:12: FutureWarning: Comparing Series of datetimes with 'datetime.date'.  Currently, the\n",
      "'datetime.date' is coerced to a datetime. In the future pandas will\n",
      "not coerce, and a TypeError will be raised. To retain the current\n",
      "behavior, convert the 'datetime.date' to a datetime with\n",
      "'pd.Timestamp'.\n",
      "  if sys.path[0] == '':\n",
      "/Library/Frameworks/Python.framework/Versions/3.6/lib/python3.6/site-packages/ipykernel_launcher.py:12: FutureWarning: Comparing Series of datetimes with 'datetime.date'.  Currently, the\n",
      "'datetime.date' is coerced to a datetime. In the future pandas will\n",
      "not coerce, and a TypeError will be raised. To retain the current\n",
      "behavior, convert the 'datetime.date' to a datetime with\n",
      "'pd.Timestamp'.\n",
      "  if sys.path[0] == '':\n"
     ]
    },
    {
     "name": "stdout",
     "output_type": "stream",
     "text": [
      "to sell:  62.20040932107156 prev val:  246.58524107262303 % to change:  0.25224708928444184\n",
      "812.6127758021514\n",
      "979.4215526345989 withUSD\n",
      "780.6172929339259 initial\n",
      "2018-03-17\n",
      "to sell:  54.42664383743798 prev val:  170.1255416793868 % to change:  0.3199204734348985\n",
      "749.7685650992408\n",
      "965.1622625624342 withUSD\n",
      "716.6955008898951 initial\n",
      "2018-03-20\n",
      "to sell:  36.70071949588577 prev val:  117.65823881759727 % to change:  0.31192647335799417\n",
      "762.4587609710254\n",
      "967.1216035380827 withUSD\n",
      "700.230839822098 initial\n",
      "2018-03-23\n"
     ]
    },
    {
     "name": "stderr",
     "output_type": "stream",
     "text": [
      "/Library/Frameworks/Python.framework/Versions/3.6/lib/python3.6/site-packages/ipykernel_launcher.py:12: FutureWarning: Comparing Series of datetimes with 'datetime.date'.  Currently, the\n",
      "'datetime.date' is coerced to a datetime. In the future pandas will\n",
      "not coerce, and a TypeError will be raised. To retain the current\n",
      "behavior, convert the 'datetime.date' to a datetime with\n",
      "'pd.Timestamp'.\n",
      "  if sys.path[0] == '':\n",
      "/Library/Frameworks/Python.framework/Versions/3.6/lib/python3.6/site-packages/ipykernel_launcher.py:12: FutureWarning: Comparing Series of datetimes with 'datetime.date'.  Currently, the\n",
      "'datetime.date' is coerced to a datetime. In the future pandas will\n",
      "not coerce, and a TypeError will be raised. To retain the current\n",
      "behavior, convert the 'datetime.date' to a datetime with\n",
      "'pd.Timestamp'.\n",
      "  if sys.path[0] == '':\n",
      "/Library/Frameworks/Python.framework/Versions/3.6/lib/python3.6/site-packages/ipykernel_launcher.py:12: FutureWarning: Comparing Series of datetimes with 'datetime.date'.  Currently, the\n",
      "'datetime.date' is coerced to a datetime. In the future pandas will\n",
      "not coerce, and a TypeError will be raised. To retain the current\n",
      "behavior, convert the 'datetime.date' to a datetime with\n",
      "'pd.Timestamp'.\n",
      "  if sys.path[0] == '':\n"
     ]
    },
    {
     "name": "stdout",
     "output_type": "stream",
     "text": [
      "to sell:  26.31589958151074 prev val:  79.55210760713685 % to change:  0.3308007842038602\n",
      "749.2218795093372\n",
      "965.716191823508 withUSD\n",
      "684.1039724965294 initial\n",
      "2018-03-26\n",
      "to buy:  366.71735913313705 prev val:  50.40886718012289 % to change:  0.40189085310869294\n",
      "709.4311103747223\n",
      "962.8888509780049 withUSD\n",
      "647.1467695533804 initial\n",
      "2018-03-29\n",
      "to sell:  113.84345841627712 prev val:  368.45493384669 % to change:  0.30897525846036333\n",
      "626.5148024781446\n",
      "914.2175585114348 withUSD\n",
      "559.6554723457263 initial\n",
      "2018-04-01\n"
     ]
    },
    {
     "name": "stderr",
     "output_type": "stream",
     "text": [
      "/Library/Frameworks/Python.framework/Versions/3.6/lib/python3.6/site-packages/ipykernel_launcher.py:12: FutureWarning: Comparing Series of datetimes with 'datetime.date'.  Currently, the\n",
      "'datetime.date' is coerced to a datetime. In the future pandas will\n",
      "not coerce, and a TypeError will be raised. To retain the current\n",
      "behavior, convert the 'datetime.date' to a datetime with\n",
      "'pd.Timestamp'.\n",
      "  if sys.path[0] == '':\n",
      "/Library/Frameworks/Python.framework/Versions/3.6/lib/python3.6/site-packages/ipykernel_launcher.py:12: FutureWarning: Comparing Series of datetimes with 'datetime.date'.  Currently, the\n",
      "'datetime.date' is coerced to a datetime. In the future pandas will\n",
      "not coerce, and a TypeError will be raised. To retain the current\n",
      "behavior, convert the 'datetime.date' to a datetime with\n",
      "'pd.Timestamp'.\n",
      "  if sys.path[0] == '':\n",
      "/Library/Frameworks/Python.framework/Versions/3.6/lib/python3.6/site-packages/ipykernel_launcher.py:12: FutureWarning: Comparing Series of datetimes with 'datetime.date'.  Currently, the\n",
      "'datetime.date' is coerced to a datetime. In the future pandas will\n",
      "not coerce, and a TypeError will be raised. To retain the current\n",
      "behavior, convert the 'datetime.date' to a datetime with\n",
      "'pd.Timestamp'.\n",
      "  if sys.path[0] == '':\n"
     ]
    },
    {
     "name": "stdout",
     "output_type": "stream",
     "text": [
      "to buy:  285.89204619273437 prev val:  231.68997532851947 % to change:  0.4334284560526364\n",
      "570.121456862182\n",
      "891.2960584095414 withUSD\n",
      "510.3266129367932 initial\n",
      "2018-04-04\n",
      "to sell:  173.01840943571983 prev val:  540.3568293544001 % to change:  0.3201928800315827\n",
      "595.2042700848126\n",
      "914.0708662426878 withUSD\n",
      "531.6089544962806 initial\n",
      "2018-04-07\n",
      "to buy:  250.0383671464892 prev val:  355.9189071044724 % to change:  0.45733222680972946\n",
      "576.7024287059678\n",
      "902.6513534284798 withUSD\n",
      "515.6471586830849 initial\n",
      "2018-04-10\n"
     ]
    },
    {
     "name": "stderr",
     "output_type": "stream",
     "text": [
      "/Library/Frameworks/Python.framework/Versions/3.6/lib/python3.6/site-packages/ipykernel_launcher.py:12: FutureWarning: Comparing Series of datetimes with 'datetime.date'.  Currently, the\n",
      "'datetime.date' is coerced to a datetime. In the future pandas will\n",
      "not coerce, and a TypeError will be raised. To retain the current\n",
      "behavior, convert the 'datetime.date' to a datetime with\n",
      "'pd.Timestamp'.\n",
      "  if sys.path[0] == '':\n",
      "/Library/Frameworks/Python.framework/Versions/3.6/lib/python3.6/site-packages/ipykernel_launcher.py:12: FutureWarning: Comparing Series of datetimes with 'datetime.date'.  Currently, the\n",
      "'datetime.date' is coerced to a datetime. In the future pandas will\n",
      "not coerce, and a TypeError will be raised. To retain the current\n",
      "behavior, convert the 'datetime.date' to a datetime with\n",
      "'pd.Timestamp'.\n",
      "  if sys.path[0] == '':\n",
      "/Library/Frameworks/Python.framework/Versions/3.6/lib/python3.6/site-packages/ipykernel_launcher.py:12: FutureWarning: Comparing Series of datetimes with 'datetime.date'.  Currently, the\n",
      "'datetime.date' is coerced to a datetime. In the future pandas will\n",
      "not coerce, and a TypeError will be raised. To retain the current\n",
      "behavior, convert the 'datetime.date' to a datetime with\n",
      "'pd.Timestamp'.\n",
      "  if sys.path[0] == '':\n"
     ]
    },
    {
     "name": "stdout",
     "output_type": "stream",
     "text": [
      "to buy:  170.44857662814198 prev val:  617.4475765023852 % to change:  0.5744926798022115\n",
      "587.5378355596478\n",
      "914.1416556799037 withUSD\n",
      "531.4524883440873 initial\n",
      "2018-04-13\n",
      "to buy:  75.88922601992898 prev val:  952.5551951774173 % to change:  0.6011241944262349\n",
      "710.2674072019786\n",
      "1078.8006977267935 withUSD\n",
      "648.9091752956285 initial\n",
      "2018-04-16\n",
      "to buy:  31.306332878901916 prev val:  1053.6004811104126 % to change:  0.621696738451157\n",
      "727.6427689936679\n",
      "1103.95675763986 withUSD\n",
      "665.1023493792446 initial\n",
      "2018-04-19\n"
     ]
    },
    {
     "name": "stderr",
     "output_type": "stream",
     "text": [
      "/Library/Frameworks/Python.framework/Versions/3.6/lib/python3.6/site-packages/ipykernel_launcher.py:12: FutureWarning: Comparing Series of datetimes with 'datetime.date'.  Currently, the\n",
      "'datetime.date' is coerced to a datetime. In the future pandas will\n",
      "not coerce, and a TypeError will be raised. To retain the current\n",
      "behavior, convert the 'datetime.date' to a datetime with\n",
      "'pd.Timestamp'.\n",
      "  if sys.path[0] == '':\n",
      "/Library/Frameworks/Python.framework/Versions/3.6/lib/python3.6/site-packages/ipykernel_launcher.py:12: FutureWarning: Comparing Series of datetimes with 'datetime.date'.  Currently, the\n",
      "'datetime.date' is coerced to a datetime. In the future pandas will\n",
      "not coerce, and a TypeError will be raised. To retain the current\n",
      "behavior, convert the 'datetime.date' to a datetime with\n",
      "'pd.Timestamp'.\n",
      "  if sys.path[0] == '':\n",
      "/Library/Frameworks/Python.framework/Versions/3.6/lib/python3.6/site-packages/ipykernel_launcher.py:12: FutureWarning: Comparing Series of datetimes with 'datetime.date'.  Currently, the\n",
      "'datetime.date' is coerced to a datetime. In the future pandas will\n",
      "not coerce, and a TypeError will be raised. To retain the current\n",
      "behavior, convert the 'datetime.date' to a datetime with\n",
      "'pd.Timestamp'.\n",
      "  if sys.path[0] == '':\n"
     ]
    },
    {
     "name": "stdout",
     "output_type": "stream",
     "text": [
      "to buy:  11.475254025435287 prev val:  1113.6809723375272 % to change:  0.6023773212109621\n",
      "746.9416439752438\n",
      "1132.7309159880726 withUSD\n",
      "687.357236454485 initial\n",
      "2018-04-22\n",
      "to buy:  4.613228497808681 prev val:  1246.15994782384 % to change:  0.6090320166407671\n",
      "827.2696494796983\n",
      "1253.73463744895 withUSD\n",
      "766.4505269670856 initial\n",
      "2018-04-25\n",
      "to buy:  1.8472982918122676 prev val:  1309.813973562916 % to change:  0.6237793482353107\n",
      "866.3195546886827\n",
      "1312.7754346902177 withUSD\n",
      "803.8825125688485 initial\n",
      "2018-04-28\n"
     ]
    },
    {
     "name": "stderr",
     "output_type": "stream",
     "text": [
      "/Library/Frameworks/Python.framework/Versions/3.6/lib/python3.6/site-packages/ipykernel_launcher.py:12: FutureWarning: Comparing Series of datetimes with 'datetime.date'.  Currently, the\n",
      "'datetime.date' is coerced to a datetime. In the future pandas will\n",
      "not coerce, and a TypeError will be raised. To retain the current\n",
      "behavior, convert the 'datetime.date' to a datetime with\n",
      "'pd.Timestamp'.\n",
      "  if sys.path[0] == '':\n",
      "/Library/Frameworks/Python.framework/Versions/3.6/lib/python3.6/site-packages/ipykernel_launcher.py:12: FutureWarning: Comparing Series of datetimes with 'datetime.date'.  Currently, the\n",
      "'datetime.date' is coerced to a datetime. In the future pandas will\n",
      "not coerce, and a TypeError will be raised. To retain the current\n",
      "behavior, convert the 'datetime.date' to a datetime with\n",
      "'pd.Timestamp'.\n",
      "  if sys.path[0] == '':\n",
      "/Library/Frameworks/Python.framework/Versions/3.6/lib/python3.6/site-packages/ipykernel_launcher.py:12: FutureWarning: Comparing Series of datetimes with 'datetime.date'.  Currently, the\n",
      "'datetime.date' is coerced to a datetime. In the future pandas will\n",
      "not coerce, and a TypeError will be raised. To retain the current\n",
      "behavior, convert the 'datetime.date' to a datetime with\n",
      "'pd.Timestamp'.\n",
      "  if sys.path[0] == '':\n"
     ]
    },
    {
     "name": "stdout",
     "output_type": "stream",
     "text": [
      "to buy:  0.7024896700202029 prev val:  1323.257356430748 % to change:  0.6305089773630878\n",
      "873.979320647404\n",
      "1324.371519266237 withUSD\n",
      "814.054346411149 initial\n",
      "2018-05-01\n",
      "to buy:  0.261179746561696 prev val:  1299.7729289064819 % to change:  0.6344347129456422\n",
      "858.0128341065106\n",
      "1300.1846020719508 withUSD\n",
      "798.466360600337 initial\n",
      "2018-05-04\n",
      "to buy:  0.08496423115097632 prev val:  1485.3880987845714 % to change:  0.5645710740571113\n",
      "980.3456753454761\n",
      "1485.5385922034786 withUSD\n",
      "920.6420489347345 initial\n",
      "2018-05-07\n"
     ]
    },
    {
     "name": "stderr",
     "output_type": "stream",
     "text": [
      "/Library/Frameworks/Python.framework/Versions/3.6/lib/python3.6/site-packages/ipykernel_launcher.py:12: FutureWarning: Comparing Series of datetimes with 'datetime.date'.  Currently, the\n",
      "'datetime.date' is coerced to a datetime. In the future pandas will\n",
      "not coerce, and a TypeError will be raised. To retain the current\n",
      "behavior, convert the 'datetime.date' to a datetime with\n",
      "'pd.Timestamp'.\n",
      "  if sys.path[0] == '':\n",
      "/Library/Frameworks/Python.framework/Versions/3.6/lib/python3.6/site-packages/ipykernel_launcher.py:12: FutureWarning: Comparing Series of datetimes with 'datetime.date'.  Currently, the\n",
      "'datetime.date' is coerced to a datetime. In the future pandas will\n",
      "not coerce, and a TypeError will be raised. To retain the current\n",
      "behavior, convert the 'datetime.date' to a datetime with\n",
      "'pd.Timestamp'.\n",
      "  if sys.path[0] == '':\n",
      "/Library/Frameworks/Python.framework/Versions/3.6/lib/python3.6/site-packages/ipykernel_launcher.py:12: FutureWarning: Comparing Series of datetimes with 'datetime.date'.  Currently, the\n",
      "'datetime.date' is coerced to a datetime. In the future pandas will\n",
      "not coerce, and a TypeError will be raised. To retain the current\n",
      "behavior, convert the 'datetime.date' to a datetime with\n",
      "'pd.Timestamp'.\n",
      "  if sys.path[0] == '':\n"
     ]
    },
    {
     "name": "stdout",
     "output_type": "stream",
     "text": [
      "to buy:  0.03804004503342486 prev val:  1426.7025226023554 % to change:  0.5805053646464587\n",
      "941.559710062149\n",
      "1426.7680517901115 withUSD\n",
      "881.5086961284708 initial\n",
      "2018-05-10\n",
      "to buy:  0.01248907695372407 prev val:  1414.9002215928786 % to change:  0.45432762598873505\n",
      "933.7458394336293\n",
      "1414.9277107356015 withUSD\n",
      "876.7228488104679 initial\n",
      "2018-05-13\n",
      "to sell:  524.7741837551389 prev val:  1330.3877095412972 % to change:  0.39445206836439817\n",
      "877.9651130613335\n",
      "1330.4027096070663 withUSD\n",
      "826.3053019274016 initial\n",
      "2018-05-16\n"
     ]
    },
    {
     "name": "stderr",
     "output_type": "stream",
     "text": [
      "/Library/Frameworks/Python.framework/Versions/3.6/lib/python3.6/site-packages/ipykernel_launcher.py:12: FutureWarning: Comparing Series of datetimes with 'datetime.date'.  Currently, the\n",
      "'datetime.date' is coerced to a datetime. In the future pandas will\n",
      "not coerce, and a TypeError will be raised. To retain the current\n",
      "behavior, convert the 'datetime.date' to a datetime with\n",
      "'pd.Timestamp'.\n",
      "  if sys.path[0] == '':\n",
      "/Library/Frameworks/Python.framework/Versions/3.6/lib/python3.6/site-packages/ipykernel_launcher.py:12: FutureWarning: Comparing Series of datetimes with 'datetime.date'.  Currently, the\n",
      "'datetime.date' is coerced to a datetime. In the future pandas will\n",
      "not coerce, and a TypeError will be raised. To retain the current\n",
      "behavior, convert the 'datetime.date' to a datetime with\n",
      "'pd.Timestamp'.\n",
      "  if sys.path[0] == '':\n",
      "/Library/Frameworks/Python.framework/Versions/3.6/lib/python3.6/site-packages/ipykernel_launcher.py:12: FutureWarning: Comparing Series of datetimes with 'datetime.date'.  Currently, the\n",
      "'datetime.date' is coerced to a datetime. In the future pandas will\n",
      "not coerce, and a TypeError will be raised. To retain the current\n",
      "behavior, convert the 'datetime.date' to a datetime with\n",
      "'pd.Timestamp'.\n",
      "  if sys.path[0] == '':\n"
     ]
    },
    {
     "name": "stdout",
     "output_type": "stream",
     "text": [
      "to sell:  228.26732117003652 prev val:  788.0302767478747 % to change:  0.28966821187641906\n",
      "858.8027271740098\n",
      "1312.8194605687827 withUSD\n",
      "810.0253456709364 initial\n",
      "2018-05-19\n",
      "to sell:  167.89806764419305 prev val:  558.3425961115819 % to change:  0.3007079682142673\n",
      "856.6235755252558\n",
      "1311.3991011025264 withUSD\n",
      "808.3377513220355 initial\n",
      "2018-05-22\n",
      "to sell:  124.68564505495199 prev val:  381.0855907584139 % to change:  0.3271854094688021\n",
      "836.0903447333227\n",
      "1302.0401633935514 withUSD\n",
      "785.1952789223253 initial\n",
      "2018-05-25\n"
     ]
    },
    {
     "name": "stderr",
     "output_type": "stream",
     "text": [
      "/Library/Frameworks/Python.framework/Versions/3.6/lib/python3.6/site-packages/ipykernel_launcher.py:12: FutureWarning: Comparing Series of datetimes with 'datetime.date'.  Currently, the\n",
      "'datetime.date' is coerced to a datetime. In the future pandas will\n",
      "not coerce, and a TypeError will be raised. To retain the current\n",
      "behavior, convert the 'datetime.date' to a datetime with\n",
      "'pd.Timestamp'.\n",
      "  if sys.path[0] == '':\n",
      "/Library/Frameworks/Python.framework/Versions/3.6/lib/python3.6/site-packages/ipykernel_launcher.py:12: FutureWarning: Comparing Series of datetimes with 'datetime.date'.  Currently, the\n",
      "'datetime.date' is coerced to a datetime. In the future pandas will\n",
      "not coerce, and a TypeError will be raised. To retain the current\n",
      "behavior, convert the 'datetime.date' to a datetime with\n",
      "'pd.Timestamp'.\n",
      "  if sys.path[0] == '':\n",
      "/Library/Frameworks/Python.framework/Versions/3.6/lib/python3.6/site-packages/ipykernel_launcher.py:12: FutureWarning: Comparing Series of datetimes with 'datetime.date'.  Currently, the\n",
      "'datetime.date' is coerced to a datetime. In the future pandas will\n",
      "not coerce, and a TypeError will be raised. To retain the current\n",
      "behavior, convert the 'datetime.date' to a datetime with\n",
      "'pd.Timestamp'.\n",
      "  if sys.path[0] == '':\n"
     ]
    },
    {
     "name": "stdout",
     "output_type": "stream",
     "text": [
      "to sell:  60.58824327746475 prev val:  231.38515647925925 % to change:  0.2618501731025936\n",
      "754.5200302741086\n",
      "1277.0253741693487 withUSD\n",
      "703.9442374303619 initial\n",
      "2018-05-28\n",
      "to sell:  49.40928614311721 prev val:  161.12548792569385 % to change:  0.3066509636631993\n",
      "711.7951100283178\n",
      "1267.3539488932481 withUSD\n",
      "655.1948348638537 initial\n",
      "2018-05-31\n",
      "to buy:  529.9262286149749 prev val:  116.17390741510309 % to change:  0.4585573895798211\n",
      "740.1971957536878\n",
      "1271.8116545257744 withUSD\n",
      "684.7303902422774 initial\n",
      "2018-06-03\n"
     ]
    },
    {
     "name": "stderr",
     "output_type": "stream",
     "text": [
      "/Library/Frameworks/Python.framework/Versions/3.6/lib/python3.6/site-packages/ipykernel_launcher.py:12: FutureWarning: Comparing Series of datetimes with 'datetime.date'.  Currently, the\n",
      "'datetime.date' is coerced to a datetime. In the future pandas will\n",
      "not coerce, and a TypeError will be raised. To retain the current\n",
      "behavior, convert the 'datetime.date' to a datetime with\n",
      "'pd.Timestamp'.\n",
      "  if sys.path[0] == '':\n",
      "/Library/Frameworks/Python.framework/Versions/3.6/lib/python3.6/site-packages/ipykernel_launcher.py:12: FutureWarning: Comparing Series of datetimes with 'datetime.date'.  Currently, the\n",
      "'datetime.date' is coerced to a datetime. In the future pandas will\n",
      "not coerce, and a TypeError will be raised. To retain the current\n",
      "behavior, convert the 'datetime.date' to a datetime with\n",
      "'pd.Timestamp'.\n",
      "  if sys.path[0] == '':\n",
      "/Library/Frameworks/Python.framework/Versions/3.6/lib/python3.6/site-packages/ipykernel_launcher.py:12: FutureWarning: Comparing Series of datetimes with 'datetime.date'.  Currently, the\n",
      "'datetime.date' is coerced to a datetime. In the future pandas will\n",
      "not coerce, and a TypeError will be raised. To retain the current\n",
      "behavior, convert the 'datetime.date' to a datetime with\n",
      "'pd.Timestamp'.\n",
      "  if sys.path[0] == '':\n"
     ]
    },
    {
     "name": "stdout",
     "output_type": "stream",
     "text": [
      "to buy:  292.50284594162065 prev val:  676.2276061308362 % to change:  0.46747236912761486\n",
      "774.7251320452328\n",
      "1301.9391246265327 withUSD\n",
      "723.2294351233013 initial\n",
      "2018-06-06\n",
      "to buy:  152.13836732805996 prev val:  956.990378877445 % to change:  0.4565858570303859\n",
      "765.3344233113868\n",
      "1290.199051431521 withUSD\n",
      "714.7789114926095 initial\n",
      "2018-06-09\n",
      "to sell:  300.4841819377911 prev val:  1105.334960543968 % to change:  0.27184898032168814\n",
      "762.7171843232227\n",
      "1286.405265769984 withUSD\n",
      "711.9641176729018 initial\n",
      "2018-06-12\n"
     ]
    },
    {
     "name": "stderr",
     "output_type": "stream",
     "text": [
      "/Library/Frameworks/Python.framework/Versions/3.6/lib/python3.6/site-packages/ipykernel_launcher.py:12: FutureWarning: Comparing Series of datetimes with 'datetime.date'.  Currently, the\n",
      "'datetime.date' is coerced to a datetime. In the future pandas will\n",
      "not coerce, and a TypeError will be raised. To retain the current\n",
      "behavior, convert the 'datetime.date' to a datetime with\n",
      "'pd.Timestamp'.\n",
      "  if sys.path[0] == '':\n",
      "/Library/Frameworks/Python.framework/Versions/3.6/lib/python3.6/site-packages/ipykernel_launcher.py:12: FutureWarning: Comparing Series of datetimes with 'datetime.date'.  Currently, the\n",
      "'datetime.date' is coerced to a datetime. In the future pandas will\n",
      "not coerce, and a TypeError will be raised. To retain the current\n",
      "behavior, convert the 'datetime.date' to a datetime with\n",
      "'pd.Timestamp'.\n",
      "  if sys.path[0] == '':\n",
      "/Library/Frameworks/Python.framework/Versions/3.6/lib/python3.6/site-packages/ipykernel_launcher.py:12: FutureWarning: Comparing Series of datetimes with 'datetime.date'.  Currently, the\n",
      "'datetime.date' is coerced to a datetime. In the future pandas will\n",
      "not coerce, and a TypeError will be raised. To retain the current\n",
      "behavior, convert the 'datetime.date' to a datetime with\n",
      "'pd.Timestamp'.\n",
      "  if sys.path[0] == '':\n"
     ]
    },
    {
     "name": "stdout",
     "output_type": "stream",
     "text": [
      "to sell:  176.53105771663553 prev val:  698.6260534369194 % to change:  0.2526831870185542\n",
      "662.0578243311395\n",
      "1180.1805406007263 withUSD\n",
      "613.770295506625 initial\n",
      "2018-06-15\n",
      "to sell:  131.51030305805438 prev val:  511.26946812417793 % to change:  0.2572230717014241\n",
      "648.3298523941905\n",
      "1169.3550130046206 withUSD\n",
      "601.5038481682554 initial\n",
      "2018-06-18\n",
      "to sell:  98.37541586528556 prev val:  383.5697984970561 % to change:  0.25647331007485613\n",
      "654.8357088787773\n",
      "1173.165646435553 withUSD\n",
      "606.9861308229507 initial\n",
      "2018-06-21\n"
     ]
    },
    {
     "name": "stderr",
     "output_type": "stream",
     "text": [
      "/Library/Frameworks/Python.framework/Versions/3.6/lib/python3.6/site-packages/ipykernel_launcher.py:12: FutureWarning: Comparing Series of datetimes with 'datetime.date'.  Currently, the\n",
      "'datetime.date' is coerced to a datetime. In the future pandas will\n",
      "not coerce, and a TypeError will be raised. To retain the current\n",
      "behavior, convert the 'datetime.date' to a datetime with\n",
      "'pd.Timestamp'.\n",
      "  if sys.path[0] == '':\n",
      "/Library/Frameworks/Python.framework/Versions/3.6/lib/python3.6/site-packages/ipykernel_launcher.py:12: FutureWarning: Comparing Series of datetimes with 'datetime.date'.  Currently, the\n",
      "'datetime.date' is coerced to a datetime. In the future pandas will\n",
      "not coerce, and a TypeError will be raised. To retain the current\n",
      "behavior, convert the 'datetime.date' to a datetime with\n",
      "'pd.Timestamp'.\n",
      "  if sys.path[0] == '':\n",
      "/Library/Frameworks/Python.framework/Versions/3.6/lib/python3.6/site-packages/ipykernel_launcher.py:12: FutureWarning: Comparing Series of datetimes with 'datetime.date'.  Currently, the\n",
      "'datetime.date' is coerced to a datetime. In the future pandas will\n",
      "not coerce, and a TypeError will be raised. To retain the current\n",
      "behavior, convert the 'datetime.date' to a datetime with\n",
      "'pd.Timestamp'.\n",
      "  if sys.path[0] == '':\n"
     ]
    },
    {
     "name": "stdout",
     "output_type": "stream",
     "text": [
      "to sell:  94.79559060778743 prev val:  295.2928457964839 % to change:  0.32102230703252677\n",
      "678.0208626101656\n",
      "1183.2641096002662 withUSD\n",
      "633.4746241637606 initial\n",
      "2018-06-24\n",
      "to buy:  440.1100693475873 prev val:  174.43896581229072 % to change:  0.447827546657648\n",
      "589.9018682708039\n",
      "1157.2058202238607 withUSD\n",
      "543.0907237904443 initial\n",
      "2018-06-27\n",
      "to sell:  214.04444499433296 prev val:  609.3493330568452 % to change:  0.3512672179693107\n",
      "584.9480365358513\n",
      "1152.006118120828 withUSD\n",
      "532.3825703417006 initial\n",
      "2018-06-30\n"
     ]
    },
    {
     "name": "stderr",
     "output_type": "stream",
     "text": [
      "/Library/Frameworks/Python.framework/Versions/3.6/lib/python3.6/site-packages/ipykernel_launcher.py:12: FutureWarning: Comparing Series of datetimes with 'datetime.date'.  Currently, the\n",
      "'datetime.date' is coerced to a datetime. In the future pandas will\n",
      "not coerce, and a TypeError will be raised. To retain the current\n",
      "behavior, convert the 'datetime.date' to a datetime with\n",
      "'pd.Timestamp'.\n",
      "  if sys.path[0] == '':\n",
      "/Library/Frameworks/Python.framework/Versions/3.6/lib/python3.6/site-packages/ipykernel_launcher.py:12: FutureWarning: Comparing Series of datetimes with 'datetime.date'.  Currently, the\n",
      "'datetime.date' is coerced to a datetime. In the future pandas will\n",
      "not coerce, and a TypeError will be raised. To retain the current\n",
      "behavior, convert the 'datetime.date' to a datetime with\n",
      "'pd.Timestamp'.\n",
      "  if sys.path[0] == '':\n",
      "/Library/Frameworks/Python.framework/Versions/3.6/lib/python3.6/site-packages/ipykernel_launcher.py:12: FutureWarning: Comparing Series of datetimes with 'datetime.date'.  Currently, the\n",
      "'datetime.date' is coerced to a datetime. In the future pandas will\n",
      "not coerce, and a TypeError will be raised. To retain the current\n",
      "behavior, convert the 'datetime.date' to a datetime with\n",
      "'pd.Timestamp'.\n",
      "  if sys.path[0] == '':\n"
     ]
    },
    {
     "name": "stdout",
     "output_type": "stream",
     "text": [
      "to sell:  139.69720534756974 prev val:  411.9325279913759 % to change:  0.33912642448691116\n",
      "609.5573842954377\n",
      "1168.6337580496916 withUSD\n",
      "553.6055376111519 initial\n",
      "2018-07-03\n",
      "to buy:  502.0043841224185 prev val:  283.36890868245234 % to change:  0.5600237174612126\n",
      "634.4792290723121\n",
      "1179.7673440883377 withUSD\n",
      "578.8332515327608 initial\n",
      "2018-07-06\n",
      "to sell:  301.17825915087724 prev val:  777.8868786349742 % to change:  0.38717488033656117\n",
      "628.4848912816014\n",
      "1172.280929918441 withUSD\n",
      "570.9181348615372 initial\n",
      "2018-07-09\n"
     ]
    },
    {
     "name": "stderr",
     "output_type": "stream",
     "text": [
      "/Library/Frameworks/Python.framework/Versions/3.6/lib/python3.6/site-packages/ipykernel_launcher.py:12: FutureWarning: Comparing Series of datetimes with 'datetime.date'.  Currently, the\n",
      "'datetime.date' is coerced to a datetime. In the future pandas will\n",
      "not coerce, and a TypeError will be raised. To retain the current\n",
      "behavior, convert the 'datetime.date' to a datetime with\n",
      "'pd.Timestamp'.\n",
      "  if sys.path[0] == '':\n",
      "/Library/Frameworks/Python.framework/Versions/3.6/lib/python3.6/site-packages/ipykernel_launcher.py:12: FutureWarning: Comparing Series of datetimes with 'datetime.date'.  Currently, the\n",
      "'datetime.date' is coerced to a datetime. In the future pandas will\n",
      "not coerce, and a TypeError will be raised. To retain the current\n",
      "behavior, convert the 'datetime.date' to a datetime with\n",
      "'pd.Timestamp'.\n",
      "  if sys.path[0] == '':\n",
      "/Library/Frameworks/Python.framework/Versions/3.6/lib/python3.6/site-packages/ipykernel_launcher.py:12: FutureWarning: Comparing Series of datetimes with 'datetime.date'.  Currently, the\n",
      "'datetime.date' is coerced to a datetime. In the future pandas will\n",
      "not coerce, and a TypeError will be raised. To retain the current\n",
      "behavior, convert the 'datetime.date' to a datetime with\n",
      "'pd.Timestamp'.\n",
      "  if sys.path[0] == '':\n"
     ]
    },
    {
     "name": "stdout",
     "output_type": "stream",
     "text": [
      "to buy:  308.98254583400654 prev val:  490.45509867702157 % to change:  0.4442134070015885\n",
      "646.5894389555574\n",
      "1186.0274091113656 withUSD\n",
      "588.6044854295758 initial\n",
      "2018-07-12\n",
      "to buy:  171.65672636346684 prev val:  734.1217076658436 % to change:  0.44402811993982366\n",
      "593.7557758261311\n",
      "1120.711472266181 withUSD\n",
      "536.7914751763394 initial\n",
      "2018-07-15\n",
      "to buy:  117.06286894117041 prev val:  921.438115198891 % to change:  0.5446480908726525\n",
      "604.0290970133744\n",
      "1136.3711534357617 withUSD\n",
      "547.8232319624353 initial\n",
      "2018-07-18\n"
     ]
    },
    {
     "name": "stderr",
     "output_type": "stream",
     "text": [
      "/Library/Frameworks/Python.framework/Versions/3.6/lib/python3.6/site-packages/ipykernel_launcher.py:12: FutureWarning: Comparing Series of datetimes with 'datetime.date'.  Currently, the\n",
      "'datetime.date' is coerced to a datetime. In the future pandas will\n",
      "not coerce, and a TypeError will be raised. To retain the current\n",
      "behavior, convert the 'datetime.date' to a datetime with\n",
      "'pd.Timestamp'.\n",
      "  if sys.path[0] == '':\n",
      "/Library/Frameworks/Python.framework/Versions/3.6/lib/python3.6/site-packages/ipykernel_launcher.py:12: FutureWarning: Comparing Series of datetimes with 'datetime.date'.  Currently, the\n",
      "'datetime.date' is coerced to a datetime. In the future pandas will\n",
      "not coerce, and a TypeError will be raised. To retain the current\n",
      "behavior, convert the 'datetime.date' to a datetime with\n",
      "'pd.Timestamp'.\n",
      "  if sys.path[0] == '':\n",
      "/Library/Frameworks/Python.framework/Versions/3.6/lib/python3.6/site-packages/ipykernel_launcher.py:12: FutureWarning: Comparing Series of datetimes with 'datetime.date'.  Currently, the\n",
      "'datetime.date' is coerced to a datetime. In the future pandas will\n",
      "not coerce, and a TypeError will be raised. To retain the current\n",
      "behavior, convert the 'datetime.date' to a datetime with\n",
      "'pd.Timestamp'.\n",
      "  if sys.path[0] == '':\n"
     ]
    },
    {
     "name": "stdout",
     "output_type": "stream",
     "text": [
      "to buy:  53.824857286361706 prev val:  1193.1649242648 % to change:  0.5499618287543561\n",
      "693.930881862819\n",
      "1291.0350935605002 withUSD\n",
      "621.8616351071341 initial\n",
      "2018-07-21\n",
      "to buy:  18.889092644517667 prev val:  1199.9673494317735 % to change:  0.4288559163915742\n",
      "667.7311973651412\n",
      "1244.0126614411122 withUSD\n",
      "589.3252230618339 initial\n",
      "2018-07-24\n",
      "to buy:  12.4939083910337 prev val:  1308.7561734087637 % to change:  0.4966528638443001\n",
      "716.9523936062814\n",
      "1333.9123927735845 withUSD\n",
      "621.1919942444017 initial\n",
      "2018-07-27\n"
     ]
    },
    {
     "name": "stderr",
     "output_type": "stream",
     "text": [
      "/Library/Frameworks/Python.framework/Versions/3.6/lib/python3.6/site-packages/ipykernel_launcher.py:12: FutureWarning: Comparing Series of datetimes with 'datetime.date'.  Currently, the\n",
      "'datetime.date' is coerced to a datetime. In the future pandas will\n",
      "not coerce, and a TypeError will be raised. To retain the current\n",
      "behavior, convert the 'datetime.date' to a datetime with\n",
      "'pd.Timestamp'.\n",
      "  if sys.path[0] == '':\n",
      "/Library/Frameworks/Python.framework/Versions/3.6/lib/python3.6/site-packages/ipykernel_launcher.py:12: FutureWarning: Comparing Series of datetimes with 'datetime.date'.  Currently, the\n",
      "'datetime.date' is coerced to a datetime. In the future pandas will\n",
      "not coerce, and a TypeError will be raised. To retain the current\n",
      "behavior, convert the 'datetime.date' to a datetime with\n",
      "'pd.Timestamp'.\n",
      "  if sys.path[0] == '':\n",
      "/Library/Frameworks/Python.framework/Versions/3.6/lib/python3.6/site-packages/ipykernel_launcher.py:12: FutureWarning: Comparing Series of datetimes with 'datetime.date'.  Currently, the\n",
      "'datetime.date' is coerced to a datetime. In the future pandas will\n",
      "not coerce, and a TypeError will be raised. To retain the current\n",
      "behavior, convert the 'datetime.date' to a datetime with\n",
      "'pd.Timestamp'.\n",
      "  if sys.path[0] == '':\n"
     ]
    },
    {
     "name": "stdout",
     "output_type": "stream",
     "text": [
      "to buy:  6.582692658620998 prev val:  1313.2631720930708 % to change:  0.5198650287651407\n",
      "712.6190645710532\n",
      "1325.9254830668579 withUSD\n",
      "617.9471291621566 initial\n",
      "2018-07-30\n",
      "to buy:  2.695282634040639 prev val:  1315.1788261991028 % to change:  0.44333089584210056\n",
      "710.0972247423076\n",
      "1321.2584445142688 withUSD\n",
      "612.9551812826691 initial\n",
      "2018-08-02\n",
      "to buy:  1.3596976596531158 prev val:  1224.5042264741553 % to change:  0.4017620554710872\n",
      "659.7858176554946\n",
      "1227.8885621552806 withUSD\n",
      "564.9586802961505 initial\n",
      "2018-08-05\n"
     ]
    },
    {
     "name": "stderr",
     "output_type": "stream",
     "text": [
      "/Library/Frameworks/Python.framework/Versions/3.6/lib/python3.6/site-packages/ipykernel_launcher.py:12: FutureWarning: Comparing Series of datetimes with 'datetime.date'.  Currently, the\n",
      "'datetime.date' is coerced to a datetime. In the future pandas will\n",
      "not coerce, and a TypeError will be raised. To retain the current\n",
      "behavior, convert the 'datetime.date' to a datetime with\n",
      "'pd.Timestamp'.\n",
      "  if sys.path[0] == '':\n",
      "/Library/Frameworks/Python.framework/Versions/3.6/lib/python3.6/site-packages/ipykernel_launcher.py:12: FutureWarning: Comparing Series of datetimes with 'datetime.date'.  Currently, the\n",
      "'datetime.date' is coerced to a datetime. In the future pandas will\n",
      "not coerce, and a TypeError will be raised. To retain the current\n",
      "behavior, convert the 'datetime.date' to a datetime with\n",
      "'pd.Timestamp'.\n",
      "  if sys.path[0] == '':\n",
      "/Library/Frameworks/Python.framework/Versions/3.6/lib/python3.6/site-packages/ipykernel_launcher.py:12: FutureWarning: Comparing Series of datetimes with 'datetime.date'.  Currently, the\n",
      "'datetime.date' is coerced to a datetime. In the future pandas will\n",
      "not coerce, and a TypeError will be raised. To retain the current\n",
      "behavior, convert the 'datetime.date' to a datetime with\n",
      "'pd.Timestamp'.\n",
      "  if sys.path[0] == '':\n"
     ]
    },
    {
     "name": "stdout",
     "output_type": "stream",
     "text": [
      "to sell:  397.1275644373914 prev val:  1155.175645947626 % to change:  0.34378110881277757\n",
      "621.7414913704016\n",
      "1157.2002839690986 withUSD\n",
      "539.6603113680478 initial\n",
      "2018-08-08\n",
      "to sell:  177.53071731808635 prev val:  689.2302585387354 % to change:  0.257578240535284\n",
      "565.2975939392516\n",
      "1088.382460997599 withUSD\n",
      "488.08978524615844 initial\n",
      "2018-08-11\n",
      "to sell:  158.83913786776927 prev val:  471.4984324552081 % to change:  0.3368815820673144\n",
      "520.8846158044958\n",
      "1048.1813522321584 withUSD\n",
      "440.5113431228219 initial\n",
      "2018-08-14\n"
     ]
    },
    {
     "name": "stderr",
     "output_type": "stream",
     "text": [
      "/Library/Frameworks/Python.framework/Versions/3.6/lib/python3.6/site-packages/ipykernel_launcher.py:12: FutureWarning: Comparing Series of datetimes with 'datetime.date'.  Currently, the\n",
      "'datetime.date' is coerced to a datetime. In the future pandas will\n",
      "not coerce, and a TypeError will be raised. To retain the current\n",
      "behavior, convert the 'datetime.date' to a datetime with\n",
      "'pd.Timestamp'.\n",
      "  if sys.path[0] == '':\n",
      "/Library/Frameworks/Python.framework/Versions/3.6/lib/python3.6/site-packages/ipykernel_launcher.py:12: FutureWarning: Comparing Series of datetimes with 'datetime.date'.  Currently, the\n",
      "'datetime.date' is coerced to a datetime. In the future pandas will\n",
      "not coerce, and a TypeError will be raised. To retain the current\n",
      "behavior, convert the 'datetime.date' to a datetime with\n",
      "'pd.Timestamp'.\n",
      "  if sys.path[0] == '':\n",
      "/Library/Frameworks/Python.framework/Versions/3.6/lib/python3.6/site-packages/ipykernel_launcher.py:12: FutureWarning: Comparing Series of datetimes with 'datetime.date'.  Currently, the\n",
      "'datetime.date' is coerced to a datetime. In the future pandas will\n",
      "not coerce, and a TypeError will be raised. To retain the current\n",
      "behavior, convert the 'datetime.date' to a datetime with\n",
      "'pd.Timestamp'.\n",
      "  if sys.path[0] == '':\n"
     ]
    },
    {
     "name": "stdout",
     "output_type": "stream",
     "text": [
      "to buy:  385.7857036777021 prev val:  294.3772394612548 % to change:  0.5245059609946447\n",
      "490.4260002243897\n",
      "1029.8992971059743 withUSD\n",
      "400.1305282451954 initial\n",
      "2018-08-17\n",
      "to buy:  179.9555606899543 prev val:  738.5205999670304 % to change:  0.5145463394032106\n",
      "532.6275068677826\n",
      "1088.256953934048 withUSD\n",
      "438.66904887678544 initial\n",
      "2018-08-20\n",
      "to buy:  78.05195076193053 prev val:  895.4837246753111 % to change:  0.4597219111502122\n",
      "519.256251108635\n",
      "1065.264517952374 withUSD\n",
      "424.82799087390106 initial\n",
      "2018-08-23\n"
     ]
    },
    {
     "name": "stderr",
     "output_type": "stream",
     "text": [
      "/Library/Frameworks/Python.framework/Versions/3.6/lib/python3.6/site-packages/ipykernel_launcher.py:12: FutureWarning: Comparing Series of datetimes with 'datetime.date'.  Currently, the\n",
      "'datetime.date' is coerced to a datetime. In the future pandas will\n",
      "not coerce, and a TypeError will be raised. To retain the current\n",
      "behavior, convert the 'datetime.date' to a datetime with\n",
      "'pd.Timestamp'.\n",
      "  if sys.path[0] == '':\n",
      "/Library/Frameworks/Python.framework/Versions/3.6/lib/python3.6/site-packages/ipykernel_launcher.py:12: FutureWarning: Comparing Series of datetimes with 'datetime.date'.  Currently, the\n",
      "'datetime.date' is coerced to a datetime. In the future pandas will\n",
      "not coerce, and a TypeError will be raised. To retain the current\n",
      "behavior, convert the 'datetime.date' to a datetime with\n",
      "'pd.Timestamp'.\n",
      "  if sys.path[0] == '':\n",
      "/Library/Frameworks/Python.framework/Versions/3.6/lib/python3.6/site-packages/ipykernel_launcher.py:12: FutureWarning: Comparing Series of datetimes with 'datetime.date'.  Currently, the\n",
      "'datetime.date' is coerced to a datetime. In the future pandas will\n",
      "not coerce, and a TypeError will be raised. To retain the current\n",
      "behavior, convert the 'datetime.date' to a datetime with\n",
      "'pd.Timestamp'.\n",
      "  if sys.path[0] == '':\n"
     ]
    },
    {
     "name": "stdout",
     "output_type": "stream",
     "text": [
      "to buy:  50.710223763956044 prev val:  965.6088810055301 % to change:  0.5528274681498392\n",
      "515.0019071560089\n",
      "1057.3377235206628 withUSD\n",
      "417.66960384051214 initial\n",
      "2018-08-26\n",
      "to buy:  22.43956209550398 prev val:  1035.4114680824175 % to change:  0.5470579648628557\n",
      "524.6655428845303\n",
      "1076.430086833594 withUSD\n",
      "423.4813158777008 initial\n",
      "2018-08-29\n",
      "to buy:  9.576950225349421 prev val:  1116.8527923419622 % to change:  0.5154702094320497\n",
      "553.9306070480011\n",
      "1135.4318489976345 withUSD\n",
      "447.63517300789886 initial\n",
      "2018-09-01\n"
     ]
    },
    {
     "name": "stderr",
     "output_type": "stream",
     "text": [
      "/Library/Frameworks/Python.framework/Versions/3.6/lib/python3.6/site-packages/ipykernel_launcher.py:12: FutureWarning: Comparing Series of datetimes with 'datetime.date'.  Currently, the\n",
      "'datetime.date' is coerced to a datetime. In the future pandas will\n",
      "not coerce, and a TypeError will be raised. To retain the current\n",
      "behavior, convert the 'datetime.date' to a datetime with\n",
      "'pd.Timestamp'.\n",
      "  if sys.path[0] == '':\n",
      "/Library/Frameworks/Python.framework/Versions/3.6/lib/python3.6/site-packages/ipykernel_launcher.py:12: FutureWarning: Comparing Series of datetimes with 'datetime.date'.  Currently, the\n",
      "'datetime.date' is coerced to a datetime. In the future pandas will\n",
      "not coerce, and a TypeError will be raised. To retain the current\n",
      "behavior, convert the 'datetime.date' to a datetime with\n",
      "'pd.Timestamp'.\n",
      "  if sys.path[0] == '':\n",
      "/Library/Frameworks/Python.framework/Versions/3.6/lib/python3.6/site-packages/ipykernel_launcher.py:12: FutureWarning: Comparing Series of datetimes with 'datetime.date'.  Currently, the\n",
      "'datetime.date' is coerced to a datetime. In the future pandas will\n",
      "not coerce, and a TypeError will be raised. To retain the current\n",
      "behavior, convert the 'datetime.date' to a datetime with\n",
      "'pd.Timestamp'.\n",
      "  if sys.path[0] == '':\n"
     ]
    },
    {
     "name": "stdout",
     "output_type": "stream",
     "text": [
      "to buy:  4.56210993410845 prev val:  1138.6648046916252 % to change:  0.5067824924554594\n",
      "559.9459476887816\n",
      "1147.6669111219485 withUSD\n",
      "451.68600156717275 initial\n",
      "2018-09-04\n",
      "to sell:  378.96118411694766 prev val:  1152.4054776417986 % to change:  0.32884361578394017\n",
      "564.439669022508\n",
      "1156.8454741380133 withUSD\n",
      "453.2521304383735 initial\n",
      "2018-09-07\n",
      "to sell:  180.78217612778303 prev val:  649.0334275268259 % to change:  0.27854062435067867\n",
      "473.64472682022756\n",
      "1032.434608139988 withUSD\n",
      "374.66735430081553 initial\n",
      "2018-09-10\n"
     ]
    },
    {
     "name": "stderr",
     "output_type": "stream",
     "text": [
      "/Library/Frameworks/Python.framework/Versions/3.6/lib/python3.6/site-packages/ipykernel_launcher.py:12: FutureWarning: Comparing Series of datetimes with 'datetime.date'.  Currently, the\n",
      "'datetime.date' is coerced to a datetime. In the future pandas will\n",
      "not coerce, and a TypeError will be raised. To retain the current\n",
      "behavior, convert the 'datetime.date' to a datetime with\n",
      "'pd.Timestamp'.\n",
      "  if sys.path[0] == '':\n",
      "/Library/Frameworks/Python.framework/Versions/3.6/lib/python3.6/site-packages/ipykernel_launcher.py:12: FutureWarning: Comparing Series of datetimes with 'datetime.date'.  Currently, the\n",
      "'datetime.date' is coerced to a datetime. In the future pandas will\n",
      "not coerce, and a TypeError will be raised. To retain the current\n",
      "behavior, convert the 'datetime.date' to a datetime with\n",
      "'pd.Timestamp'.\n",
      "  if sys.path[0] == '':\n",
      "/Library/Frameworks/Python.framework/Versions/3.6/lib/python3.6/site-packages/ipykernel_launcher.py:12: FutureWarning: Comparing Series of datetimes with 'datetime.date'.  Currently, the\n",
      "'datetime.date' is coerced to a datetime. In the future pandas will\n",
      "not coerce, and a TypeError will be raised. To retain the current\n",
      "behavior, convert the 'datetime.date' to a datetime with\n",
      "'pd.Timestamp'.\n",
      "  if sys.path[0] == '':\n"
     ]
    },
    {
     "name": "stdout",
     "output_type": "stream",
     "text": [
      "to sell:  104.19893703475715 prev val:  442.0103898772109 % to change:  0.23573866004304397\n",
      "447.0997762619042\n",
      "1006.1937466181562 withUSD\n",
      "348.8011751605136 initial\n",
      "2018-09-13\n",
      "to sell:  83.13966858239856 prev val:  344.8078074775376 % to change:  0.24111886906103383\n",
      "456.35959701282786\n",
      "1013.1901012532401 withUSD\n",
      "356.07468705292547 initial\n",
      "2018-09-16\n",
      "to sell:  87.0077849780607 prev val:  269.47287873001267 % to change:  0.32288141718794117\n",
      "469.9721622716715\n",
      "1020.9948410881138 withUSD\n",
      "370.21785559401076 initial\n",
      "2018-09-19\n"
     ]
    },
    {
     "name": "stderr",
     "output_type": "stream",
     "text": [
      "/Library/Frameworks/Python.framework/Versions/3.6/lib/python3.6/site-packages/ipykernel_launcher.py:12: FutureWarning: Comparing Series of datetimes with 'datetime.date'.  Currently, the\n",
      "'datetime.date' is coerced to a datetime. In the future pandas will\n",
      "not coerce, and a TypeError will be raised. To retain the current\n",
      "behavior, convert the 'datetime.date' to a datetime with\n",
      "'pd.Timestamp'.\n",
      "  if sys.path[0] == '':\n",
      "/Library/Frameworks/Python.framework/Versions/3.6/lib/python3.6/site-packages/ipykernel_launcher.py:12: FutureWarning: Comparing Series of datetimes with 'datetime.date'.  Currently, the\n",
      "'datetime.date' is coerced to a datetime. In the future pandas will\n",
      "not coerce, and a TypeError will be raised. To retain the current\n",
      "behavior, convert the 'datetime.date' to a datetime with\n",
      "'pd.Timestamp'.\n",
      "  if sys.path[0] == '':\n",
      "/Library/Frameworks/Python.framework/Versions/3.6/lib/python3.6/site-packages/ipykernel_launcher.py:12: FutureWarning: Comparing Series of datetimes with 'datetime.date'.  Currently, the\n",
      "'datetime.date' is coerced to a datetime. In the future pandas will\n",
      "not coerce, and a TypeError will be raised. To retain the current\n",
      "behavior, convert the 'datetime.date' to a datetime with\n",
      "'pd.Timestamp'.\n",
      "  if sys.path[0] == '':\n"
     ]
    },
    {
     "name": "stdout",
     "output_type": "stream",
     "text": [
      "to buy:  461.6945562980611 prev val:  176.99010416894458 % to change:  0.5506000923220323\n",
      "455.8701524506475\n",
      "1015.5198515051063 withUSD\n",
      "358.26499751754886 initial\n",
      "2018-09-22\n",
      "to buy:  216.8707415020405 prev val:  712.2255042971163 % to change:  0.5755055436956612\n",
      "508.74215761508464\n",
      "1089.060695335217 withUSD\n",
      "401.3730122500647 initial\n",
      "2018-09-25\n",
      "to buy:  74.05209740044893 prev val:  857.564798475842 % to change:  0.46292846701388884\n",
      "469.3568363745211\n",
      "1017.5292480119023 withUSD\n",
      "370.36032268241524 initial\n",
      "2018-09-28\n"
     ]
    },
    {
     "name": "stderr",
     "output_type": "stream",
     "text": [
      "/Library/Frameworks/Python.framework/Versions/3.6/lib/python3.6/site-packages/ipykernel_launcher.py:12: FutureWarning: Comparing Series of datetimes with 'datetime.date'.  Currently, the\n",
      "'datetime.date' is coerced to a datetime. In the future pandas will\n",
      "not coerce, and a TypeError will be raised. To retain the current\n",
      "behavior, convert the 'datetime.date' to a datetime with\n",
      "'pd.Timestamp'.\n",
      "  if sys.path[0] == '':\n",
      "/Library/Frameworks/Python.framework/Versions/3.6/lib/python3.6/site-packages/ipykernel_launcher.py:12: FutureWarning: Comparing Series of datetimes with 'datetime.date'.  Currently, the\n",
      "'datetime.date' is coerced to a datetime. In the future pandas will\n",
      "not coerce, and a TypeError will be raised. To retain the current\n",
      "behavior, convert the 'datetime.date' to a datetime with\n",
      "'pd.Timestamp'.\n",
      "  if sys.path[0] == '':\n",
      "/Library/Frameworks/Python.framework/Versions/3.6/lib/python3.6/site-packages/ipykernel_launcher.py:12: FutureWarning: Comparing Series of datetimes with 'datetime.date'.  Currently, the\n",
      "'datetime.date' is coerced to a datetime. In the future pandas will\n",
      "not coerce, and a TypeError will be raised. To retain the current\n",
      "behavior, convert the 'datetime.date' to a datetime with\n",
      "'pd.Timestamp'.\n",
      "  if sys.path[0] == '':\n"
     ]
    },
    {
     "name": "stdout",
     "output_type": "stream",
     "text": [
      "to buy:  49.274995762963485 prev val:  963.6695409306378 % to change:  0.5735496065243761\n",
      "485.51114569946725\n",
      "1049.581893066249 withUSD\n",
      "383.106196839071 initial\n",
      "2018-10-01\n",
      "to sell:  387.30054467407996 prev val:  1019.6919200803136 % to change:  0.37982113719561017\n",
      "488.7866576981839\n",
      "1056.3292764529615 withUSD\n",
      "384.7230390416048 initial\n",
      "2018-10-04\n",
      "to sell:  200.1435349502949 prev val:  620.2650207083011 % to change:  0.32267422515902056\n",
      "479.39607935131835\n",
      "1044.202921755029 withUSD\n",
      "377.47066779224656 initial\n",
      "2018-10-07\n"
     ]
    },
    {
     "name": "stderr",
     "output_type": "stream",
     "text": [
      "/Library/Frameworks/Python.framework/Versions/3.6/lib/python3.6/site-packages/ipykernel_launcher.py:12: FutureWarning: Comparing Series of datetimes with 'datetime.date'.  Currently, the\n",
      "'datetime.date' is coerced to a datetime. In the future pandas will\n",
      "not coerce, and a TypeError will be raised. To retain the current\n",
      "behavior, convert the 'datetime.date' to a datetime with\n",
      "'pd.Timestamp'.\n",
      "  if sys.path[0] == '':\n",
      "/Library/Frameworks/Python.framework/Versions/3.6/lib/python3.6/site-packages/ipykernel_launcher.py:12: FutureWarning: Comparing Series of datetimes with 'datetime.date'.  Currently, the\n",
      "'datetime.date' is coerced to a datetime. In the future pandas will\n",
      "not coerce, and a TypeError will be raised. To retain the current\n",
      "behavior, convert the 'datetime.date' to a datetime with\n",
      "'pd.Timestamp'.\n",
      "  if sys.path[0] == '':\n",
      "/Library/Frameworks/Python.framework/Versions/3.6/lib/python3.6/site-packages/ipykernel_launcher.py:12: FutureWarning: Comparing Series of datetimes with 'datetime.date'.  Currently, the\n",
      "'datetime.date' is coerced to a datetime. In the future pandas will\n",
      "not coerce, and a TypeError will be raised. To retain the current\n",
      "behavior, convert the 'datetime.date' to a datetime with\n",
      "'pd.Timestamp'.\n",
      "  if sys.path[0] == '':\n"
     ]
    },
    {
     "name": "stdout",
     "output_type": "stream",
     "text": [
      "to buy:  256.87138193641687 prev val:  422.04095348160064 % to change:  0.4115991393431583\n",
      "481.58809380429796\n",
      "1046.1223894786235 withUSD\n",
      "379.1785212746829 initial\n",
      "2018-10-10\n",
      "to sell:  206.12092540823528 prev val:  681.2573388573653 % to change:  0.30255956692363906\n",
      "483.28943160216284\n",
      "1048.4673929179712 withUSD\n",
      "380.61930675900584 initial\n",
      "2018-10-13\n",
      "to buy:  236.37692970804815 prev val:  435.8504019121518 % to change:  0.412287035190455\n",
      "443.18427574645864\n",
      "1009.181381380993 withUSD\n",
      "347.3659958550596 initial\n",
      "2018-10-16\n"
     ]
    },
    {
     "name": "stderr",
     "output_type": "stream",
     "text": [
      "/Library/Frameworks/Python.framework/Versions/3.6/lib/python3.6/site-packages/ipykernel_launcher.py:12: FutureWarning: Comparing Series of datetimes with 'datetime.date'.  Currently, the\n",
      "'datetime.date' is coerced to a datetime. In the future pandas will\n",
      "not coerce, and a TypeError will be raised. To retain the current\n",
      "behavior, convert the 'datetime.date' to a datetime with\n",
      "'pd.Timestamp'.\n",
      "  if sys.path[0] == '':\n",
      "/Library/Frameworks/Python.framework/Versions/3.6/lib/python3.6/site-packages/ipykernel_launcher.py:12: FutureWarning: Comparing Series of datetimes with 'datetime.date'.  Currently, the\n",
      "'datetime.date' is coerced to a datetime. In the future pandas will\n",
      "not coerce, and a TypeError will be raised. To retain the current\n",
      "behavior, convert the 'datetime.date' to a datetime with\n",
      "'pd.Timestamp'.\n",
      "  if sys.path[0] == '':\n",
      "/Library/Frameworks/Python.framework/Versions/3.6/lib/python3.6/site-packages/ipykernel_launcher.py:12: FutureWarning: Comparing Series of datetimes with 'datetime.date'.  Currently, the\n",
      "'datetime.date' is coerced to a datetime. In the future pandas will\n",
      "not coerce, and a TypeError will be raised. To retain the current\n",
      "behavior, convert the 'datetime.date' to a datetime with\n",
      "'pd.Timestamp'.\n",
      "  if sys.path[0] == '':\n"
     ]
    },
    {
     "name": "stdout",
     "output_type": "stream",
     "text": [
      "to sell:  225.47656543178118 prev val:  697.1515699205271 % to change:  0.32342545747617657\n",
      "459.625552802107\n",
      "1034.1056196813201 withUSD\n",
      "360.361810774918 initial\n",
      "2018-10-19\n",
      "to buy:  240.6612391731273 prev val:  464.90616953235786 % to change:  0.4278949841496906\n",
      "453.0110289767455\n",
      "1027.336784724932 withUSD\n",
      "355.09129507869096 initial\n",
      "2018-10-22\n",
      "to buy:  178.98346441968314 prev val:  709.7560515859518 % to change:  0.5562476660577725\n",
      "455.7138904339049\n",
      "1031.5254276053988 withUSD\n",
      "357.3106442069602 initial\n",
      "2018-10-25\n"
     ]
    },
    {
     "name": "stderr",
     "output_type": "stream",
     "text": [
      "/Library/Frameworks/Python.framework/Versions/3.6/lib/python3.6/site-packages/ipykernel_launcher.py:12: FutureWarning: Comparing Series of datetimes with 'datetime.date'.  Currently, the\n",
      "'datetime.date' is coerced to a datetime. In the future pandas will\n",
      "not coerce, and a TypeError will be raised. To retain the current\n",
      "behavior, convert the 'datetime.date' to a datetime with\n",
      "'pd.Timestamp'.\n",
      "  if sys.path[0] == '':\n",
      "/Library/Frameworks/Python.framework/Versions/3.6/lib/python3.6/site-packages/ipykernel_launcher.py:12: FutureWarning: Comparing Series of datetimes with 'datetime.date'.  Currently, the\n",
      "'datetime.date' is coerced to a datetime. In the future pandas will\n",
      "not coerce, and a TypeError will be raised. To retain the current\n",
      "behavior, convert the 'datetime.date' to a datetime with\n",
      "'pd.Timestamp'.\n",
      "  if sys.path[0] == '':\n",
      "/Library/Frameworks/Python.framework/Versions/3.6/lib/python3.6/site-packages/ipykernel_launcher.py:12: FutureWarning: Comparing Series of datetimes with 'datetime.date'.  Currently, the\n",
      "'datetime.date' is coerced to a datetime. In the future pandas will\n",
      "not coerce, and a TypeError will be raised. To retain the current\n",
      "behavior, convert the 'datetime.date' to a datetime with\n",
      "'pd.Timestamp'.\n",
      "  if sys.path[0] == '':\n"
     ]
    },
    {
     "name": "stdout",
     "output_type": "stream",
     "text": [
      "to buy:  62.681570745570404 prev val:  881.7896932330132 % to change:  0.43898988382880566\n",
      "452.1280907199375\n",
      "1024.575604832777 withUSD\n",
      "354.33419228071324 initial\n",
      "2018-10-28\n",
      "to buy:  35.395587333401195 prev val:  953.4973857847016 % to change:  0.4418685299193532\n",
      "456.46443676856984\n",
      "1033.601726638895 withUSD\n",
      "357.9732812940741 initial\n",
      "2018-10-31\n",
      "to buy:  19.547540291833275 prev val:  963.5038487996363 % to change:  0.43721953202615105\n",
      "444.74091009630035\n",
      "1008.2126023204286 withUSD\n",
      "348.7465781480712 initial\n",
      "2018-11-03\n"
     ]
    },
    {
     "name": "stderr",
     "output_type": "stream",
     "text": [
      "/Library/Frameworks/Python.framework/Versions/3.6/lib/python3.6/site-packages/ipykernel_launcher.py:12: FutureWarning: Comparing Series of datetimes with 'datetime.date'.  Currently, the\n",
      "'datetime.date' is coerced to a datetime. In the future pandas will\n",
      "not coerce, and a TypeError will be raised. To retain the current\n",
      "behavior, convert the 'datetime.date' to a datetime with\n",
      "'pd.Timestamp'.\n",
      "  if sys.path[0] == '':\n",
      "/Library/Frameworks/Python.framework/Versions/3.6/lib/python3.6/site-packages/ipykernel_launcher.py:12: FutureWarning: Comparing Series of datetimes with 'datetime.date'.  Currently, the\n",
      "'datetime.date' is coerced to a datetime. In the future pandas will\n",
      "not coerce, and a TypeError will be raised. To retain the current\n",
      "behavior, convert the 'datetime.date' to a datetime with\n",
      "'pd.Timestamp'.\n",
      "  if sys.path[0] == '':\n",
      "/Library/Frameworks/Python.framework/Versions/3.6/lib/python3.6/site-packages/ipykernel_launcher.py:12: FutureWarning: Comparing Series of datetimes with 'datetime.date'.  Currently, the\n",
      "'datetime.date' is coerced to a datetime. In the future pandas will\n",
      "not coerce, and a TypeError will be raised. To retain the current\n",
      "behavior, convert the 'datetime.date' to a datetime with\n",
      "'pd.Timestamp'.\n",
      "  if sys.path[0] == '':\n"
     ]
    },
    {
     "name": "stdout",
     "output_type": "stream",
     "text": [
      "to buy:  11.559875989281972 prev val:  995.9252131066389 % to change:  0.45943237649515767\n",
      "450.56712521332156\n",
      "1021.0864263355978 withUSD\n",
      "353.40435107491345 initial\n",
      "2018-11-06\n",
      "to buy:  6.611841115131767 prev val:  1045.4093774794105 % to change:  0.4861169897209926\n",
      "467.5348061025388\n",
      "1059.0107147190872 withUSD\n",
      "367.145051565117 initial\n",
      "2018-11-09\n",
      "to buy:  3.89974994338199 prev val:  1039.5508973797773 % to change:  0.5579443602074796\n",
      "461.99212351784786\n",
      "1046.5403935043223 withUSD\n",
      "362.7518965569587 initial\n",
      "2018-11-12\n"
     ]
    },
    {
     "name": "stderr",
     "output_type": "stream",
     "text": [
      "/Library/Frameworks/Python.framework/Versions/3.6/lib/python3.6/site-packages/ipykernel_launcher.py:12: FutureWarning: Comparing Series of datetimes with 'datetime.date'.  Currently, the\n",
      "'datetime.date' is coerced to a datetime. In the future pandas will\n",
      "not coerce, and a TypeError will be raised. To retain the current\n",
      "behavior, convert the 'datetime.date' to a datetime with\n",
      "'pd.Timestamp'.\n",
      "  if sys.path[0] == '':\n",
      "/Library/Frameworks/Python.framework/Versions/3.6/lib/python3.6/site-packages/ipykernel_launcher.py:12: FutureWarning: Comparing Series of datetimes with 'datetime.date'.  Currently, the\n",
      "'datetime.date' is coerced to a datetime. In the future pandas will\n",
      "not coerce, and a TypeError will be raised. To retain the current\n",
      "behavior, convert the 'datetime.date' to a datetime with\n",
      "'pd.Timestamp'.\n",
      "  if sys.path[0] == '':\n",
      "/Library/Frameworks/Python.framework/Versions/3.6/lib/python3.6/site-packages/ipykernel_launcher.py:12: FutureWarning: Comparing Series of datetimes with 'datetime.date'.  Currently, the\n",
      "'datetime.date' is coerced to a datetime. In the future pandas will\n",
      "not coerce, and a TypeError will be raised. To retain the current\n",
      "behavior, convert the 'datetime.date' to a datetime with\n",
      "'pd.Timestamp'.\n",
      "  if sys.path[0] == '':\n"
     ]
    },
    {
     "name": "stdout",
     "output_type": "stream",
     "text": [
      "to buy:  1.4452668060849343 prev val:  1041.275991449404 % to change:  0.46776230840452465\n",
      "461.0294272876944\n",
      "1044.365737630567 withUSD\n",
      "362.0456714758185 initial\n",
      "2018-11-15\n",
      "to sell:  255.58585088295698 prev val:  878.2406554492546 % to change:  0.29102029073365404\n",
      "388.30555105860856\n",
      "879.8851348243329 withUSD\n",
      "304.88470411171556 initial\n",
      "2018-11-18\n",
      "to sell:  166.5081868567809 prev val:  636.571456542207 % to change:  0.261570299996228\n",
      "396.984278899352\n",
      "893.8017868002422 withUSD\n",
      "311.64084387946536 initial\n",
      "2018-11-21\n"
     ]
    },
    {
     "name": "stderr",
     "output_type": "stream",
     "text": [
      "/Library/Frameworks/Python.framework/Versions/3.6/lib/python3.6/site-packages/ipykernel_launcher.py:12: FutureWarning: Comparing Series of datetimes with 'datetime.date'.  Currently, the\n",
      "'datetime.date' is coerced to a datetime. In the future pandas will\n",
      "not coerce, and a TypeError will be raised. To retain the current\n",
      "behavior, convert the 'datetime.date' to a datetime with\n",
      "'pd.Timestamp'.\n",
      "  if sys.path[0] == '':\n",
      "/Library/Frameworks/Python.framework/Versions/3.6/lib/python3.6/site-packages/ipykernel_launcher.py:12: FutureWarning: Comparing Series of datetimes with 'datetime.date'.  Currently, the\n",
      "'datetime.date' is coerced to a datetime. In the future pandas will\n",
      "not coerce, and a TypeError will be raised. To retain the current\n",
      "behavior, convert the 'datetime.date' to a datetime with\n",
      "'pd.Timestamp'.\n",
      "  if sys.path[0] == '':\n",
      "/Library/Frameworks/Python.framework/Versions/3.6/lib/python3.6/site-packages/ipykernel_launcher.py:12: FutureWarning: Comparing Series of datetimes with 'datetime.date'.  Currently, the\n",
      "'datetime.date' is coerced to a datetime. In the future pandas will\n",
      "not coerce, and a TypeError will be raised. To retain the current\n",
      "behavior, convert the 'datetime.date' to a datetime with\n",
      "'pd.Timestamp'.\n",
      "  if sys.path[0] == '':\n"
     ]
    },
    {
     "name": "stdout",
     "output_type": "stream",
     "text": [
      "to sell:  92.7663999634104 prev val:  363.2115265147671 % to change:  0.2554059912513233\n",
      "306.7440950028057\n",
      "786.9500436295832 withUSD\n",
      "240.12880308363577 initial\n",
      "2018-11-24\n",
      "to sell:  60.179971035624604 prev val:  243.36975362908998 % to change:  0.24727793876696144\n",
      "276.0346620910486\n",
      "759.8746707073165 withUSD\n",
      "215.9944378266344 initial\n",
      "2018-11-27\n"
     ]
    },
    {
     "name": "stderr",
     "output_type": "stream",
     "text": [
      "/Library/Frameworks/Python.framework/Versions/3.6/lib/python3.6/site-packages/ipykernel_launcher.py:12: FutureWarning: Comparing Series of datetimes with 'datetime.date'.  Currently, the\n",
      "'datetime.date' is coerced to a datetime. In the future pandas will\n",
      "not coerce, and a TypeError will be raised. To retain the current\n",
      "behavior, convert the 'datetime.date' to a datetime with\n",
      "'pd.Timestamp'.\n",
      "  if sys.path[0] == '':\n",
      "/Library/Frameworks/Python.framework/Versions/3.6/lib/python3.6/site-packages/ipykernel_launcher.py:12: FutureWarning: Comparing Series of datetimes with 'datetime.date'.  Currently, the\n",
      "'datetime.date' is coerced to a datetime. In the future pandas will\n",
      "not coerce, and a TypeError will be raised. To retain the current\n",
      "behavior, convert the 'datetime.date' to a datetime with\n",
      "'pd.Timestamp'.\n",
      "  if sys.path[0] == '':\n"
     ]
    },
    {
     "name": "stdout",
     "output_type": "stream",
     "text": [
      "to sell:  41.99367719159317 prev val:  167.73297981833034 % to change:  0.25036028834088586\n",
      "252.74395682010743\n",
      "744.4178679321815 withUSD\n",
      "197.54623390737888 initial\n",
      "2018-11-30\n",
      "to buy:  0.3235811453626793 prev val:  137.90566061087017 % to change:  0.0005230198094917445\n",
      "277.19908811658416\n",
      "756.5842259163144 withUSD\n",
      "216.45833027161004 initial\n",
      "2018-12-03\n"
     ]
    },
    {
     "name": "stderr",
     "output_type": "stream",
     "text": [
      "/Library/Frameworks/Python.framework/Versions/3.6/lib/python3.6/site-packages/ipykernel_launcher.py:12: FutureWarning: Comparing Series of datetimes with 'datetime.date'.  Currently, the\n",
      "'datetime.date' is coerced to a datetime. In the future pandas will\n",
      "not coerce, and a TypeError will be raised. To retain the current\n",
      "behavior, convert the 'datetime.date' to a datetime with\n",
      "'pd.Timestamp'.\n",
      "  if sys.path[0] == '':\n",
      "/Library/Frameworks/Python.framework/Versions/3.6/lib/python3.6/site-packages/ipykernel_launcher.py:12: FutureWarning: Comparing Series of datetimes with 'datetime.date'.  Currently, the\n",
      "'datetime.date' is coerced to a datetime. In the future pandas will\n",
      "not coerce, and a TypeError will be raised. To retain the current\n",
      "behavior, convert the 'datetime.date' to a datetime with\n",
      "'pd.Timestamp'.\n",
      "  if sys.path[0] == '':\n"
     ]
    },
    {
     "name": "stdout",
     "output_type": "stream",
     "text": [
      "to buy:  5.94753801994112 prev val:  133.27587879527593 % to change:  0.009618323086729424\n",
      "267.2650644167649\n",
      "751.6308629553575 withUSD\n",
      "208.6162489687608 initial\n",
      "2018-12-06\n",
      "to buy:  17.879002954993336 prev val:  126.49411243881305 % to change:  0.02919462045682245\n",
      "242.9399322847298\n",
      "738.9015585789534 withUSD\n",
      "189.0188442236833 initial\n",
      "2018-12-09\n"
     ]
    },
    {
     "name": "stderr",
     "output_type": "stream",
     "text": [
      "/Library/Frameworks/Python.framework/Versions/3.6/lib/python3.6/site-packages/ipykernel_launcher.py:12: FutureWarning: Comparing Series of datetimes with 'datetime.date'.  Currently, the\n",
      "'datetime.date' is coerced to a datetime. In the future pandas will\n",
      "not coerce, and a TypeError will be raised. To retain the current\n",
      "behavior, convert the 'datetime.date' to a datetime with\n",
      "'pd.Timestamp'.\n",
      "  if sys.path[0] == '':\n",
      "/Library/Frameworks/Python.framework/Versions/3.6/lib/python3.6/site-packages/ipykernel_launcher.py:12: FutureWarning: Comparing Series of datetimes with 'datetime.date'.  Currently, the\n",
      "'datetime.date' is coerced to a datetime. In the future pandas will\n",
      "not coerce, and a TypeError will be raised. To retain the current\n",
      "behavior, convert the 'datetime.date' to a datetime with\n",
      "'pd.Timestamp'.\n",
      "  if sys.path[0] == '':\n"
     ]
    },
    {
     "name": "stdout",
     "output_type": "stream",
     "text": [
      "to sell:  132.63140442558583 prev val:  138.52518491790866 % to change:  0.9574533649183321\n",
      "233.95274085582008\n",
      "733.0536281030559 withUSD\n",
      "182.13939288672674 initial\n",
      "2018-12-12\n",
      "to sell:  4.125189060568943 prev val:  5.635848195288707 % to change:  0.7319553184589676\n",
      "223.72323872975238\n",
      "732.7956958060216 withUSD\n",
      "175.21666623966146 initial\n",
      "2018-12-15\n"
     ]
    },
    {
     "name": "stderr",
     "output_type": "stream",
     "text": [
      "/Library/Frameworks/Python.framework/Versions/3.6/lib/python3.6/site-packages/ipykernel_launcher.py:12: FutureWarning: Comparing Series of datetimes with 'datetime.date'.  Currently, the\n",
      "'datetime.date' is coerced to a datetime. In the future pandas will\n",
      "not coerce, and a TypeError will be raised. To retain the current\n",
      "behavior, convert the 'datetime.date' to a datetime with\n",
      "'pd.Timestamp'.\n",
      "  if sys.path[0] == '':\n",
      "/Library/Frameworks/Python.framework/Versions/3.6/lib/python3.6/site-packages/ipykernel_launcher.py:12: FutureWarning: Comparing Series of datetimes with 'datetime.date'.  Currently, the\n",
      "'datetime.date' is coerced to a datetime. In the future pandas will\n",
      "not coerce, and a TypeError will be raised. To retain the current\n",
      "behavior, convert the 'datetime.date' to a datetime with\n",
      "'pd.Timestamp'.\n",
      "  if sys.path[0] == '':\n"
     ]
    },
    {
     "name": "stdout",
     "output_type": "stream",
     "text": [
      "to sell:  1.2020899909948732 prev val:  1.4304696490196718 % to change:  0.8403463798191653\n",
      "211.84255484612262\n",
      "732.7155063203215 withUSD\n",
      "163.9346882569909 initial\n",
      "2018-12-18\n",
      "to sell:  0.11915876882451786 prev val:  0.2687290723276097 % to change:  0.4434159943783473\n",
      "249.26767307905072\n",
      "732.7558557346243 withUSD\n",
      "186.23453364317902 initial\n",
      "2018-12-21\n"
     ]
    },
    {
     "name": "stderr",
     "output_type": "stream",
     "text": [
      "/Library/Frameworks/Python.framework/Versions/3.6/lib/python3.6/site-packages/ipykernel_launcher.py:12: FutureWarning: Comparing Series of datetimes with 'datetime.date'.  Currently, the\n",
      "'datetime.date' is coerced to a datetime. In the future pandas will\n",
      "not coerce, and a TypeError will be raised. To retain the current\n",
      "behavior, convert the 'datetime.date' to a datetime with\n",
      "'pd.Timestamp'.\n",
      "  if sys.path[0] == '':\n",
      "/Library/Frameworks/Python.framework/Versions/3.6/lib/python3.6/site-packages/ipykernel_launcher.py:12: FutureWarning: Comparing Series of datetimes with 'datetime.date'.  Currently, the\n",
      "'datetime.date' is coerced to a datetime. In the future pandas will\n",
      "not coerce, and a TypeError will be raised. To retain the current\n",
      "behavior, convert the 'datetime.date' to a datetime with\n",
      "'pd.Timestamp'.\n",
      "  if sys.path[0] == '':\n"
     ]
    },
    {
     "name": "stdout",
     "output_type": "stream",
     "text": [
      "to buy:  563.0973515968533 prev val:  0.16731497722424193 % to change:  0.7686220590715844\n",
      "278.8410230771757\n",
      "732.7736004083456 withUSD\n",
      "211.35431421486635 initial\n",
      "2018-12-24\n",
      "to buy:  123.80989602045663 prev val:  647.3966451139855 % to change:  0.730403367066823\n",
      "321.6752454913604\n",
      "816.9055789482534 withUSD\n",
      "240.99163346493287 initial\n",
      "2018-12-27\n"
     ]
    },
    {
     "name": "stderr",
     "output_type": "stream",
     "text": [
      "/Library/Frameworks/Python.framework/Versions/3.6/lib/python3.6/site-packages/ipykernel_launcher.py:12: FutureWarning: Comparing Series of datetimes with 'datetime.date'.  Currently, the\n",
      "'datetime.date' is coerced to a datetime. In the future pandas will\n",
      "not coerce, and a TypeError will be raised. To retain the current\n",
      "behavior, convert the 'datetime.date' to a datetime with\n",
      "'pd.Timestamp'.\n",
      "  if sys.path[0] == '':\n",
      "/Library/Frameworks/Python.framework/Versions/3.6/lib/python3.6/site-packages/ipykernel_launcher.py:12: FutureWarning: Comparing Series of datetimes with 'datetime.date'.  Currently, the\n",
      "'datetime.date' is coerced to a datetime. In the future pandas will\n",
      "not coerce, and a TypeError will be raised. To retain the current\n",
      "behavior, convert the 'datetime.date' to a datetime with\n",
      "'pd.Timestamp'.\n",
      "  if sys.path[0] == '':\n"
     ]
    },
    {
     "name": "stdout",
     "output_type": "stream",
     "text": [
      "to buy:  5.934244062813369 prev val:  664.2117291965537 % to change:  0.12985490169379235\n",
      "276.9955505783557\n",
      "709.910767010365 withUSD\n",
      "211.1255487779286 initial\n",
      "2018-12-30\n",
      "to buy:  25.281461255814328 prev val:  716.3798321386209 % to change:  0.6357749876467007\n",
      "296.2062085708277\n",
      "756.1446258896189 withUSD\n",
      "223.36837872108248 initial\n",
      "2019-01-02\n"
     ]
    },
    {
     "name": "stderr",
     "output_type": "stream",
     "text": [
      "/Library/Frameworks/Python.framework/Versions/3.6/lib/python3.6/site-packages/ipykernel_launcher.py:12: FutureWarning: Comparing Series of datetimes with 'datetime.date'.  Currently, the\n",
      "'datetime.date' is coerced to a datetime. In the future pandas will\n",
      "not coerce, and a TypeError will be raised. To retain the current\n",
      "behavior, convert the 'datetime.date' to a datetime with\n",
      "'pd.Timestamp'.\n",
      "  if sys.path[0] == '':\n",
      "/Library/Frameworks/Python.framework/Versions/3.6/lib/python3.6/site-packages/ipykernel_launcher.py:12: FutureWarning: Comparing Series of datetimes with 'datetime.date'.  Currently, the\n",
      "'datetime.date' is coerced to a datetime. In the future pandas will\n",
      "not coerce, and a TypeError will be raised. To retain the current\n",
      "behavior, convert the 'datetime.date' to a datetime with\n",
      "'pd.Timestamp'.\n",
      "  if sys.path[0] == '':\n"
     ]
    }
   ],
   "source": [
    "startdate = dt.strptime('2018-01-01', '%Y-%m-%d').date()\n",
    "dashboard_data = {startdate: first_day}\n",
    "\n",
    "dateArray = [first_day.date]\n",
    "holdings_rel = [first_day.new_holdings_rel]\n",
    "account_value = [first_day.new_holdings_val]\n",
    "valueof_intial_holding = [first_day.init_holdings_val]\n",
    "models = []\n",
    "for i in range(AggData[AggData['date'] < startdate].shape[0]+1, AggData.shape[0] ):    \n",
    "    date = AggData.iloc[i]['date'].date()\n",
    "    dateBefore = AggData.iloc[i-1]['date'].date()\n",
    "    dataBefore = AggData[AggData['date'] < date]\n",
    "    \n",
    "    prevModel = dashboard_data[dateBefore]\n",
    "    prev_holdings = prevModel.new_holdings\n",
    "    print(date)\n",
    "    model = CryptoModel(date=date, prev_holdings=prev_holdings, ifusd_crypto_prev=prevModel.ifusd_crypto_new, ifusd_USD_prev_val=prevModel.ifusd_USD_new_val, past_data=dataBefore, curr_data=AggData.loc[date])\n",
    "        \n",
    "    df = AggData.loc[date]\n",
    "#     print('outcomes actual: ', df.upORdwn, 'ifUp: ', df.WhichCryptoUp, 'ifDwn_', df.WhichCryptoDwn )\n",
    "#     print('outcomes predicted for next: ', model.predictedupORdwn, 'ifUp: ', model.predictions_Up, 'ifDwn_', model.predictions_Dwn  )\n",
    "    \n",
    "    dashboard_data[date] = model \n",
    "    models.append(model)\n",
    "    dateArray.append(model.date)\n",
    "    holdings_rel.append(model.new_holdings_rel)\n",
    "    account_value.append(model.new_holdings_val)\n",
    "    valueof_intial_holding.append(model.init_holdings_val)\n",
    "\n",
    "    \n",
    "    \n",
    "    \n",
    "# [date, B_bal, E_bal, L_bal, total_holdings, prev_date, model_built_toDate, prev_period, predicted_direction, predicted_coinIfUp, predicted_coinIfDwn ]\n",
    "\n",
    "\n",
    "# 1) make sure it's going in the direction you expect \n",
    "# 2) make sure it's buying into the coins you expect \n",
    "\n",
    "#834\n"
   ]
  },
  {
   "cell_type": "code",
   "execution_count": 103,
   "metadata": {
    "ExecuteTime": {
     "end_time": "2020-02-12T14:39:44.019867Z",
     "start_time": "2020-02-12T14:39:43.969728Z"
    }
   },
   "outputs": [
    {
     "ename": "ValueError",
     "evalue": "Number of features of the model must match the input. Model n_features is 34 and input n_features is 33 ",
     "output_type": "error",
     "traceback": [
      "\u001b[0;31m---------------------------------------------------------------------------\u001b[0m",
      "\u001b[0;31mValueError\u001b[0m                                Traceback (most recent call last)",
      "\u001b[0;32m<ipython-input-103-3bd26f4a8bdc>\u001b[0m in \u001b[0;36m<module>\u001b[0;34m()\u001b[0m\n\u001b[1;32m      3\u001b[0m \u001b[0;34m\u001b[0m\u001b[0m\n\u001b[1;32m      4\u001b[0m \u001b[0mmodel\u001b[0m \u001b[0;34m=\u001b[0m \u001b[0mmodels\u001b[0m\u001b[0;34m[\u001b[0m\u001b[0;34m-\u001b[0m\u001b[0;36m1\u001b[0m\u001b[0;34m]\u001b[0m\u001b[0;34m.\u001b[0m\u001b[0mmodel_dir\u001b[0m\u001b[0;34m\u001b[0m\u001b[0m\n\u001b[0;32m----> 5\u001b[0;31m \u001b[0mpredictions\u001b[0m \u001b[0;34m=\u001b[0m \u001b[0mmodel\u001b[0m\u001b[0;34m.\u001b[0m\u001b[0mpredict\u001b[0m\u001b[0;34m(\u001b[0m\u001b[0mX\u001b[0m\u001b[0;34m)\u001b[0m\u001b[0;34m\u001b[0m\u001b[0m\n\u001b[0m\u001b[1;32m      6\u001b[0m \u001b[0mcleanup_nums\u001b[0m \u001b[0;34m=\u001b[0m \u001b[0;34m{\u001b[0m\u001b[0;34m'BTC'\u001b[0m\u001b[0;34m:\u001b[0m \u001b[0;36m0\u001b[0m\u001b[0;34m,\u001b[0m\u001b[0;34m\"ETH\"\u001b[0m\u001b[0;34m:\u001b[0m \u001b[0;36m1\u001b[0m\u001b[0;34m,\u001b[0m \u001b[0;34m'LTC'\u001b[0m\u001b[0;34m:\u001b[0m \u001b[0;36m2\u001b[0m\u001b[0;34m}\u001b[0m \u001b[0;31m#this should be whichCrypto\u001b[0m\u001b[0;34m\u001b[0m\u001b[0m\n\u001b[1;32m      7\u001b[0m \u001b[0my\u001b[0m \u001b[0;34m=\u001b[0m \u001b[0mmodels\u001b[0m\u001b[0;34m[\u001b[0m\u001b[0;34m-\u001b[0m\u001b[0;36m1\u001b[0m\u001b[0;34m]\u001b[0m\u001b[0;34m.\u001b[0m\u001b[0mpast_data\u001b[0m\u001b[0;34m[\u001b[0m\u001b[0mwhich_crypto_upORdwn\u001b[0m\u001b[0;34m]\u001b[0m\u001b[0;34m.\u001b[0m\u001b[0mreplace\u001b[0m\u001b[0;34m(\u001b[0m\u001b[0mcleanup_nums\u001b[0m\u001b[0;34m)\u001b[0m\u001b[0;34m.\u001b[0m\u001b[0mastype\u001b[0m\u001b[0;34m(\u001b[0m\u001b[0mint\u001b[0m\u001b[0;34m)\u001b[0m\u001b[0;34m\u001b[0m\u001b[0m\n",
      "\u001b[0;32m/Library/Frameworks/Python.framework/Versions/3.6/lib/python3.6/site-packages/sklearn/ensemble/_gb.py\u001b[0m in \u001b[0;36mpredict\u001b[0;34m(self, X)\u001b[0m\n\u001b[1;32m   2163\u001b[0m             \u001b[0mThe\u001b[0m \u001b[0mpredicted\u001b[0m \u001b[0mvalues\u001b[0m\u001b[0;34m.\u001b[0m\u001b[0;34m\u001b[0m\u001b[0m\n\u001b[1;32m   2164\u001b[0m         \"\"\"\n\u001b[0;32m-> 2165\u001b[0;31m         \u001b[0mraw_predictions\u001b[0m \u001b[0;34m=\u001b[0m \u001b[0mself\u001b[0m\u001b[0;34m.\u001b[0m\u001b[0mdecision_function\u001b[0m\u001b[0;34m(\u001b[0m\u001b[0mX\u001b[0m\u001b[0;34m)\u001b[0m\u001b[0;34m\u001b[0m\u001b[0m\n\u001b[0m\u001b[1;32m   2166\u001b[0m         \u001b[0mencoded_labels\u001b[0m \u001b[0;34m=\u001b[0m\u001b[0;31m \u001b[0m\u001b[0;31m\\\u001b[0m\u001b[0;34m\u001b[0m\u001b[0m\n\u001b[1;32m   2167\u001b[0m             \u001b[0mself\u001b[0m\u001b[0;34m.\u001b[0m\u001b[0mloss_\u001b[0m\u001b[0;34m.\u001b[0m\u001b[0m_raw_prediction_to_decision\u001b[0m\u001b[0;34m(\u001b[0m\u001b[0mraw_predictions\u001b[0m\u001b[0;34m)\u001b[0m\u001b[0;34m\u001b[0m\u001b[0m\n",
      "\u001b[0;32m/Library/Frameworks/Python.framework/Versions/3.6/lib/python3.6/site-packages/sklearn/ensemble/_gb.py\u001b[0m in \u001b[0;36mdecision_function\u001b[0;34m(self, X)\u001b[0m\n\u001b[1;32m   2119\u001b[0m         \"\"\"\n\u001b[1;32m   2120\u001b[0m         \u001b[0mX\u001b[0m \u001b[0;34m=\u001b[0m \u001b[0mcheck_array\u001b[0m\u001b[0;34m(\u001b[0m\u001b[0mX\u001b[0m\u001b[0;34m,\u001b[0m \u001b[0mdtype\u001b[0m\u001b[0;34m=\u001b[0m\u001b[0mDTYPE\u001b[0m\u001b[0;34m,\u001b[0m \u001b[0morder\u001b[0m\u001b[0;34m=\u001b[0m\u001b[0;34m\"C\"\u001b[0m\u001b[0;34m,\u001b[0m \u001b[0maccept_sparse\u001b[0m\u001b[0;34m=\u001b[0m\u001b[0;34m'csr'\u001b[0m\u001b[0;34m)\u001b[0m\u001b[0;34m\u001b[0m\u001b[0m\n\u001b[0;32m-> 2121\u001b[0;31m         \u001b[0mraw_predictions\u001b[0m \u001b[0;34m=\u001b[0m \u001b[0mself\u001b[0m\u001b[0;34m.\u001b[0m\u001b[0m_raw_predict\u001b[0m\u001b[0;34m(\u001b[0m\u001b[0mX\u001b[0m\u001b[0;34m)\u001b[0m\u001b[0;34m\u001b[0m\u001b[0m\n\u001b[0m\u001b[1;32m   2122\u001b[0m         \u001b[0;32mif\u001b[0m \u001b[0mraw_predictions\u001b[0m\u001b[0;34m.\u001b[0m\u001b[0mshape\u001b[0m\u001b[0;34m[\u001b[0m\u001b[0;36m1\u001b[0m\u001b[0;34m]\u001b[0m \u001b[0;34m==\u001b[0m \u001b[0;36m1\u001b[0m\u001b[0;34m:\u001b[0m\u001b[0;34m\u001b[0m\u001b[0m\n\u001b[1;32m   2123\u001b[0m             \u001b[0;32mreturn\u001b[0m \u001b[0mraw_predictions\u001b[0m\u001b[0;34m.\u001b[0m\u001b[0mravel\u001b[0m\u001b[0;34m(\u001b[0m\u001b[0;34m)\u001b[0m\u001b[0;34m\u001b[0m\u001b[0m\n",
      "\u001b[0;32m/Library/Frameworks/Python.framework/Versions/3.6/lib/python3.6/site-packages/sklearn/ensemble/_gb.py\u001b[0m in \u001b[0;36m_raw_predict\u001b[0;34m(self, X)\u001b[0m\n\u001b[1;32m   1653\u001b[0m     \u001b[0;32mdef\u001b[0m \u001b[0m_raw_predict\u001b[0m\u001b[0;34m(\u001b[0m\u001b[0mself\u001b[0m\u001b[0;34m,\u001b[0m \u001b[0mX\u001b[0m\u001b[0;34m)\u001b[0m\u001b[0;34m:\u001b[0m\u001b[0;34m\u001b[0m\u001b[0m\n\u001b[1;32m   1654\u001b[0m         \u001b[0;34m\"\"\"Return the sum of the trees raw predictions (+ init estimator).\"\"\"\u001b[0m\u001b[0;34m\u001b[0m\u001b[0m\n\u001b[0;32m-> 1655\u001b[0;31m         \u001b[0mraw_predictions\u001b[0m \u001b[0;34m=\u001b[0m \u001b[0mself\u001b[0m\u001b[0;34m.\u001b[0m\u001b[0m_raw_predict_init\u001b[0m\u001b[0;34m(\u001b[0m\u001b[0mX\u001b[0m\u001b[0;34m)\u001b[0m\u001b[0;34m\u001b[0m\u001b[0m\n\u001b[0m\u001b[1;32m   1656\u001b[0m         predict_stages(self.estimators_, X, self.learning_rate,\n\u001b[1;32m   1657\u001b[0m                        raw_predictions)\n",
      "\u001b[0;32m/Library/Frameworks/Python.framework/Versions/3.6/lib/python3.6/site-packages/sklearn/ensemble/_gb.py\u001b[0m in \u001b[0;36m_raw_predict_init\u001b[0;34m(self, X)\u001b[0m\n\u001b[1;32m   1639\u001b[0m         \u001b[0;34m\"\"\"Check input and compute raw predictions of the init estimator.\"\"\"\u001b[0m\u001b[0;34m\u001b[0m\u001b[0m\n\u001b[1;32m   1640\u001b[0m         \u001b[0mself\u001b[0m\u001b[0;34m.\u001b[0m\u001b[0m_check_initialized\u001b[0m\u001b[0;34m(\u001b[0m\u001b[0;34m)\u001b[0m\u001b[0;34m\u001b[0m\u001b[0m\n\u001b[0;32m-> 1641\u001b[0;31m         \u001b[0mX\u001b[0m \u001b[0;34m=\u001b[0m \u001b[0mself\u001b[0m\u001b[0;34m.\u001b[0m\u001b[0mestimators_\u001b[0m\u001b[0;34m[\u001b[0m\u001b[0;36m0\u001b[0m\u001b[0;34m,\u001b[0m \u001b[0;36m0\u001b[0m\u001b[0;34m]\u001b[0m\u001b[0;34m.\u001b[0m\u001b[0m_validate_X_predict\u001b[0m\u001b[0;34m(\u001b[0m\u001b[0mX\u001b[0m\u001b[0;34m,\u001b[0m \u001b[0mcheck_input\u001b[0m\u001b[0;34m=\u001b[0m\u001b[0;32mTrue\u001b[0m\u001b[0;34m)\u001b[0m\u001b[0;34m\u001b[0m\u001b[0m\n\u001b[0m\u001b[1;32m   1642\u001b[0m         \u001b[0;32mif\u001b[0m \u001b[0mX\u001b[0m\u001b[0;34m.\u001b[0m\u001b[0mshape\u001b[0m\u001b[0;34m[\u001b[0m\u001b[0;36m1\u001b[0m\u001b[0;34m]\u001b[0m \u001b[0;34m!=\u001b[0m \u001b[0mself\u001b[0m\u001b[0;34m.\u001b[0m\u001b[0mn_features_\u001b[0m\u001b[0;34m:\u001b[0m\u001b[0;34m\u001b[0m\u001b[0m\n\u001b[1;32m   1643\u001b[0m             raise ValueError(\"X.shape[1] should be {0:d}, not {1:d}.\".format(\n",
      "\u001b[0;32m/Library/Frameworks/Python.framework/Versions/3.6/lib/python3.6/site-packages/sklearn/tree/_classes.py\u001b[0m in \u001b[0;36m_validate_X_predict\u001b[0;34m(self, X, check_input)\u001b[0m\n\u001b[1;32m    389\u001b[0m                              \u001b[0;34m\"match the input. Model n_features is %s and \"\u001b[0m\u001b[0;34m\u001b[0m\u001b[0m\n\u001b[1;32m    390\u001b[0m                              \u001b[0;34m\"input n_features is %s \"\u001b[0m\u001b[0;34m\u001b[0m\u001b[0m\n\u001b[0;32m--> 391\u001b[0;31m                              % (self.n_features_, n_features))\n\u001b[0m\u001b[1;32m    392\u001b[0m \u001b[0;34m\u001b[0m\u001b[0m\n\u001b[1;32m    393\u001b[0m         \u001b[0;32mreturn\u001b[0m \u001b[0mX\u001b[0m\u001b[0;34m\u001b[0m\u001b[0m\n",
      "\u001b[0;31mValueError\u001b[0m: Number of features of the model must match the input. Model n_features is 34 and input n_features is 33 "
     ]
    }
   ],
   "source": [
    "# feature_importance = models[-1].model_dir.feature_importances_[:30]\n",
    "X = models[-1].past_data.filter(regex='^rol', axis=1).fillna(-99999999)\n",
    "\n",
    "model = models[-1].model_dir\n",
    "predictions = model.predict(X)\n",
    "cleanup_nums = {'BTC': 0,\"ETH\": 1, 'LTC': 2} #this should be whichCrypto\n",
    "y = models[-1].past_data[which_crypto_upORdwn].replace(cleanup_nums).astype(int)\n",
    "\n",
    "print(predictions)\n",
    "# print(featuresImp,featureNames)\n",
    "\n",
    "# data = {'features':featuresImp, 'names':featureNames }\n",
    "# df = pd.DataFrame(data)\n",
    "# dfClean = df[df['features'] > 0.1]\n",
    "# df_sorted= df.sort_values('features', ascending=False)\n",
    "\n",
    "# print(df_sorted.names.values)\n",
    "\n",
    "# # y = self.past_data[which_crypto_upORdwn].replace(cleanup_nums).astype(int)\n",
    "# # # features\n",
    "# # X = self.past_data.filter(regex='^rol', axis=1).fillna(-99999999)\n",
    "\n",
    "# # # Plot feature importance\n",
    "# # feature_importance = second_day.feature_importances_\n",
    "# # # make importances relative to max importance\n",
    "# feature_importance = 100.0 * (feature_importance / feature_importance.max())\n",
    "# sorted_idx = np.argsort(feature_importance)\n",
    "# pos = np.arange(sorted_idx.shape[0]) + .5\n",
    "# # plt.subplot(1, 2, 2)\n",
    "# plt.barh(pos, feature_importance[sorted_idx], align='center')\n",
    "# plt.yticks(pos, featureNames)\n",
    "# plt.xlabel('Relative Importance')\n",
    "# plt.title('Variable Importance')\n",
    "# plt.figure(figsize=(100,50))\n",
    "# plt.show()"
   ]
  },
  {
   "cell_type": "code",
   "execution_count": 46,
   "metadata": {
    "ExecuteTime": {
     "end_time": "2020-02-12T13:01:41.353189Z",
     "start_time": "2020-02-12T13:01:41.348937Z"
    }
   },
   "outputs": [
    {
     "data": {
      "text/plain": [
       "Index(['index', 'Date_fstd', 'Volume BTC_fstd', 'Volume USD_BTC_fstd',\n",
       "       'Volume ETH_fstd', 'Volume USD_ETH_fstd', 'Volume LTC_fstd',\n",
       "       'Volume USD_LTC_fstd', 'price_BTC_fstd', 'range_BTC_fstd',\n",
       "       'price_ETH_fstd', 'range_ETH_fstd', 'price_LTC_fstd', 'range_LTC_fstd',\n",
       "       'Date_lstd', 'Volume BTC_lstd', 'Volume USD_BTC_lstd',\n",
       "       'Volume ETH_lstd', 'Volume USD_ETH_lstd', 'Volume LTC_lstd',\n",
       "       'Volume USD_LTC_lstd', 'price_BTC_lstd', 'range_BTC_lstd',\n",
       "       'price_ETH_lstd', 'range_ETH_lstd', 'price_LTC_lstd', 'range_LTC_lstd',\n",
       "       'growth_BTC', 'volu_growth_BTC', 'volat_BTC', 'growth_ETH',\n",
       "       'volu_growth_ETH', 'volat_ETH', 'growth_LTC', 'volu_growth_LTC',\n",
       "       'volat_LTC', 'rol_Volume BTC_fstd', 'rol_Volume USD_BTC_fstd',\n",
       "       'rol_Volume ETH_fstd', 'rol_Volume USD_ETH_fstd', 'rol_Volume LTC_fstd',\n",
       "       'rol_Volume USD_LTC_fstd', 'rol_price_BTC_fstd', 'rol_range_BTC_fstd',\n",
       "       'rol_price_ETH_fstd', 'rol_range_ETH_fstd', 'rol_price_LTC_fstd',\n",
       "       'rol_range_LTC_fstd', 'rol_Volume BTC_lstd', 'rol_Volume USD_BTC_lstd',\n",
       "       'rol_Volume ETH_lstd', 'rol_Volume USD_ETH_lstd', 'rol_Volume LTC_lstd',\n",
       "       'rol_Volume USD_LTC_lstd', 'rol_price_BTC_lstd', 'rol_range_BTC_lstd',\n",
       "       'rol_price_ETH_lstd', 'rol_range_ETH_lstd', 'rol_price_LTC_lstd',\n",
       "       'rol_range_LTC_lstd', 'rol_growth_BTC', 'rol_volu_growth_BTC',\n",
       "       'rol_volat_BTC', 'rol_growth_ETH', 'rol_volu_growth_ETH',\n",
       "       'rol_volat_ETH', 'rol_growth_LTC', 'rol_volu_growth_LTC',\n",
       "       'rol_volat_LTC', 'WhichCryptoUp', 'WhichCryptoDwn', 'upORdwn'],\n",
       "      dtype='object')"
      ]
     },
     "execution_count": 46,
     "metadata": {},
     "output_type": "execute_result"
    }
   ],
   "source": [
    "AggData.columns"
   ]
  },
  {
   "cell_type": "code",
   "execution_count": 96,
   "metadata": {
    "ExecuteTime": {
     "end_time": "2020-02-12T13:35:44.211305Z",
     "start_time": "2020-02-12T13:35:44.031003Z"
    }
   },
   "outputs": [
    {
     "data": {
      "application/vnd.plotly.v1+json": {
       "config": {
        "plotlyServerURL": "https://plot.ly"
       },
       "data": [
        {
         "mode": "markers",
         "name": "markers",
         "type": "scatter",
         "x": [
          1,
          1,
          1,
          0,
          1,
          1,
          1,
          1,
          1,
          0,
          0,
          1,
          0,
          1,
          0,
          0,
          1,
          1,
          0,
          1,
          0,
          1,
          1,
          1,
          0,
          1,
          0,
          1,
          1,
          1,
          1,
          0,
          0,
          0,
          1,
          0,
          0,
          0,
          0,
          1,
          0,
          1,
          1,
          1,
          1,
          1,
          0,
          1,
          0,
          0,
          1,
          1,
          0,
          1,
          0,
          1,
          1,
          0,
          1,
          1,
          0,
          0,
          1,
          1,
          1,
          1,
          1,
          0,
          0,
          1,
          1,
          0,
          1,
          1,
          1,
          0,
          0,
          1,
          1,
          1,
          1,
          1,
          1,
          1,
          0,
          0,
          0,
          0,
          0,
          0,
          0,
          1,
          1,
          1,
          1,
          1,
          0,
          0,
          0,
          0,
          1,
          1,
          1,
          0,
          1,
          0,
          1,
          1,
          0,
          1,
          0,
          1,
          1,
          1,
          1,
          1,
          0,
          0,
          1,
          1,
          1,
          0,
          0,
          1,
          1,
          1,
          1,
          0,
          1,
          1,
          0,
          1,
          0,
          0,
          1,
          0,
          0,
          0,
          0,
          0,
          0,
          0,
          1,
          1,
          0,
          1,
          1,
          1,
          1,
          1,
          1,
          1,
          0,
          0,
          1,
          1,
          1,
          1,
          0,
          0,
          1,
          1,
          1,
          0,
          0,
          1,
          1,
          1,
          1,
          1,
          1,
          1,
          0,
          1,
          1,
          0,
          1,
          1,
          1,
          1,
          1,
          0,
          1,
          1,
          1,
          1,
          1,
          0,
          1,
          1,
          1,
          1,
          1,
          1,
          1,
          0,
          1,
          1,
          0,
          1,
          1,
          1,
          1,
          1,
          1,
          0,
          1,
          0,
          0,
          1,
          0,
          1,
          0,
          0,
          1,
          0,
          1,
          1,
          0,
          1,
          1,
          1,
          1,
          1,
          1,
          0,
          1,
          1,
          1,
          1,
          1,
          0,
          0,
          0,
          0,
          0,
          1,
          1,
          1,
          1,
          0,
          1,
          0,
          1,
          1,
          1,
          0,
          1,
          0,
          1,
          1,
          1,
          1,
          0,
          0,
          0,
          1,
          1,
          1,
          1,
          1,
          0,
          1,
          1,
          0,
          1,
          1,
          1,
          0,
          0,
          0,
          0,
          1,
          1,
          1,
          0,
          0,
          0,
          1,
          1,
          1,
          0,
          0,
          0,
          1,
          0,
          1,
          1,
          1,
          0,
          1,
          0,
          1,
          0,
          0,
          0,
          0,
          0,
          1,
          0,
          0,
          0,
          1,
          0,
          1,
          1,
          1,
          0,
          1,
          1,
          1,
          1,
          1,
          1,
          0,
          0,
          1,
          0,
          1,
          0,
          0,
          1,
          1,
          0,
          0,
          0,
          0,
          0,
          1,
          0,
          1,
          0,
          1,
          0,
          1,
          0,
          1,
          1,
          0,
          1,
          1,
          1,
          0,
          0,
          0,
          0,
          0,
          1,
          0,
          1,
          1,
          1,
          0,
          1,
          0,
          0,
          0,
          1,
          0,
          1,
          0,
          1,
          1,
          0,
          1,
          1,
          0,
          1,
          0,
          1,
          1,
          1,
          0,
          1,
          1,
          1,
          0,
          0,
          1,
          0,
          0,
          0,
          1,
          1,
          0,
          0,
          0,
          0,
          1,
          1,
          1,
          0,
          1,
          0,
          0,
          1,
          0,
          0,
          1,
          0,
          0,
          1,
          0,
          1,
          1,
          0,
          1,
          0,
          0,
          1,
          1,
          1,
          0,
          1,
          1,
          1,
          0,
          1,
          1,
          0,
          1,
          0,
          1,
          0,
          1,
          1,
          0,
          0,
          0,
          1,
          0,
          0,
          0,
          1,
          1,
          1,
          1,
          1,
          1,
          1,
          0,
          1,
          1,
          0,
          0,
          1,
          0,
          1,
          1,
          0,
          1,
          0,
          0,
          1,
          1,
          0,
          1,
          0,
          0,
          1,
          1,
          0,
          0,
          1,
          1,
          1,
          0,
          0,
          0,
          1,
          1,
          1,
          1,
          0,
          1,
          1,
          1,
          0,
          1,
          1,
          1,
          0,
          0,
          1
         ],
         "y": [
          null,
          null,
          null,
          null,
          null,
          null,
          null,
          null,
          null,
          null,
          null,
          null,
          null,
          null,
          null,
          null,
          null,
          null,
          null,
          null,
          null,
          null,
          null,
          null,
          null,
          null,
          null,
          null,
          null,
          null,
          null,
          null,
          null,
          null,
          null,
          null,
          null,
          null,
          null,
          null,
          null,
          null,
          null,
          null,
          null,
          null,
          null,
          null,
          null,
          null,
          null,
          null,
          null,
          null,
          null,
          null,
          null,
          null,
          null,
          null,
          null,
          null,
          null,
          null,
          null,
          null,
          null,
          null,
          null,
          null,
          null,
          null,
          null,
          null,
          3070.25,
          5476.86,
          6030.452499999999,
          7379.197499999999,
          7638.029999999999,
          6499.459999999998,
          6265.364999999998,
          6420.684999999999,
          5003.832499999999,
          6956.2024999999985,
          12411.884999999998,
          14327.432499999999,
          22612.92,
          19325.585,
          17140.65,
          14824.702500000003,
          6240.485000000002,
          6653.682500000002,
          2689.742500000001,
          1868.6700000000012,
          2159.157500000001,
          2667.222500000001,
          5137.497500000001,
          5705.417500000001,
          5622.010000000002,
          4974.647500000002,
          6004.8425000000025,
          5195.105000000003,
          5891.762500000003,
          5938.710000000003,
          2757.1500000000024,
          2978.5300000000025,
          1799.1950000000024,
          1392.6225000000024,
          780.3050000000026,
          847.6500000000026,
          1150.2050000000027,
          1135.9950000000026,
          1451.4775000000025,
          1154.3425000000025,
          1056.5050000000026,
          1265.8175000000026,
          2632.1475000000023,
          3108.390000000002,
          3261.357500000002,
          3092.000000000002,
          1827.2800000000016,
          1563.0600000000018,
          1311.0600000000018,
          1330.9875000000018,
          901.0925000000019,
          595.440000000002,
          1033.8400000000017,
          924.3050000000019,
          1013.660000000002,
          2361.025000000002,
          2633.450000000002,
          2618.235000000002,
          2498.637500000002,
          1424.750000000002,
          959.9675000000021,
          1821.4400000000023,
          1927.5575000000024,
          2137.6800000000026,
          2337.9550000000027,
          1643.3875000000028,
          2078.987500000003,
          1684.117500000003,
          1957.6050000000032,
          1774.9475000000032,
          1430.9450000000031,
          1432.3050000000032,
          615.0600000000032,
          2520.4500000000035,
          2399.850000000003,
          3709.487500000003,
          3863.762500000003,
          3746.3875000000025,
          4289.520000000002,
          3585.4425000000024,
          6206.952500000002,
          4468.545000000002,
          4095.4575000000023,
          3950.747500000002,
          1595.680000000002,
          2822.912500000002,
          10285.835000000003,
          38276.037500000006,
          38113.11000000001,
          37382.592500000006,
          30311.272500000006,
          8708.692500000005,
          10616.220000000005,
          12139.417500000005,
          16250.962500000005,
          11904.475000000002,
          85817.2275,
          85993.6225,
          125502.19999999998,
          206011.46999999997,
          191310.0525,
          212777.88999999998,
          178981.0725,
          102238.065,
          54969.23000000001,
          36538.59250000001,
          35968.80000000001,
          41254.47250000001,
          31830.03250000001,
          27257.120000000006,
          23832.44000000001,
          16972.88750000001,
          16564.295000000013,
          17707.407500000016,
          13883.177500000016,
          14280.065000000015,
          14715.937500000015,
          20088.957500000015,
          29679.302500000013,
          33592.26000000001,
          54280.37000000001,
          95906.18750000001,
          91147.46750000001,
          95349.10750000001,
          106976.16250000002,
          85453.64000000004,
          115896.27000000005,
          122856.03500000003,
          98253.79750000002,
          92223.62500000001,
          68971.6925,
          92285.5025,
          94506.14000000001,
          99759.52500000001,
          100548.57500000001,
          119141.74500000001,
          142479.445,
          144026.0975,
          169004.8175,
          147761.0075,
          182196.3825,
          199552.195,
          219942.34,
          252035.77249999996,
          217818.27499999997,
          211005.06749999998,
          198541.75249999997,
          176599.22499999998,
          163970.85249999998,
          151389.9575,
          131144.2,
          117307.715,
          115201.405,
          118367.81250000001,
          131528.04750000002,
          119852.28250000002,
          124452.28250000003,
          122267.81000000004,
          106943.58000000005,
          106995.83000000005,
          92504.48750000005,
          89894.67500000005,
          137431.16500000004,
          141322.59250000003,
          153730.73750000005,
          137199.09000000003,
          75481.08250000002,
          49605.21250000001,
          32307.842500000013,
          29467.940000000013,
          30697.967500000013,
          36975.49000000001,
          35686.547500000015,
          47097.180000000015,
          40560.61250000001,
          43310.32000000001,
          37859.53250000001,
          24176.185000000012,
          34238.21750000001,
          23449.99750000002,
          42173.75250000002,
          48361.485000000015,
          47209.225000000006,
          50263.205,
          39051.832500000004,
          50681.025,
          44911.75,
          64846.85249999999,
          65803.11249999999,
          55601.2325,
          72706.3375,
          66168.91,
          83372.98500000002,
          82057.11750000002,
          87233.26750000002,
          85115.39000000001,
          69210.93000000002,
          73299.94000000002,
          50198.63750000002,
          60990.67500000002,
          66025.51500000001,
          79798.30750000002,
          87081.59500000003,
          101781.85000000003,
          104824.41000000003,
          98099.05750000002,
          96955.86000000002,
          67370.20000000001,
          66437.18500000001,
          59362.58500000002,
          100254.31750000003,
          101698.60750000004,
          92808.02000000005,
          88143.30500000005,
          38354.477500000045,
          34513.51500000004,
          29950.632500000043,
          27366.670000000042,
          26504.00750000004,
          19430.37250000004,
          25306.49750000004,
          22566.60250000004,
          30833.18500000004,
          29210.39500000004,
          34468.592500000035,
          39320.98250000004,
          36672.61000000004,
          61693.26750000003,
          55922.89500000003,
          57379.30000000003,
          49422.945000000036,
          28244.46000000004,
          32541.920000000042,
          29416.05000000004,
          34180.570000000036,
          35287.75250000003,
          40218.29000000004,
          37914.037500000035,
          38999.67250000004,
          41058.06000000004,
          36472.110000000044,
          40727.71750000004,
          35798.047500000044,
          33701.21250000004,
          23186.647500000043,
          23078.312500000044,
          27699.205000000045,
          28815.22000000005,
          30034.50250000005,
          23542.94000000005,
          18997.18000000005,
          13842.89750000005,
          19186.822500000053,
          32222.412500000053,
          32149.17000000005,
          33232.580000000045,
          38805.635000000046,
          31013.062500000044,
          30230.06750000004,
          34561.76250000004,
          20077.80250000004,
          16438.705000000038,
          16218.212500000036,
          10160.847500000036,
          13826.805000000035,
          11536.070000000034,
          13419.617500000035,
          15437.047500000033,
          12981.225000000035,
          19093.125000000036,
          15781.997500000038,
          20774.56500000004,
          22985.595000000038,
          39074.897500000036,
          54043.20750000004,
          52589.59000000004,
          52734.70500000004,
          31538.490000000034,
          19077.29000000003,
          16320.755000000032,
          18068.63750000003,
          28591.87500000003,
          34302.60250000003,
          43508.050000000025,
          37744.31750000003,
          33405.05250000003,
          27399.22000000003,
          23720.74750000003,
          28647.50250000003,
          25022.387500000033,
          25935.22000000003,
          17236.31500000003,
          16308.522500000032,
          12978.462500000034,
          8484.222500000034,
          10806.682500000034,
          8884.705000000034,
          13792.735000000035,
          15139.805000000035,
          17207.667500000032,
          14010.970000000034,
          15545.892500000034,
          16449.140000000036,
          13072.705000000034,
          22169.140000000036,
          17505.612500000036,
          38999.66250000004,
          49034.81000000004,
          56620.17250000005,
          63381.48250000005,
          46396.14000000005,
          74052.89250000005,
          60527.88000000004,
          58553.06750000004,
          57057.31000000004,
          27435.875000000036,
          42589.65000000004,
          55422.577500000036,
          70299.42500000003,
          63945.07000000003,
          57319.41250000003,
          42575.76500000003,
          28865.350000000024,
          29160.495000000024,
          26711.987500000025,
          26014.900000000023,
          22653.212500000023,
          22341.997500000023,
          13699.530000000022,
          25812.28250000002,
          26045.24250000002,
          24568.57500000002,
          24584.81500000002,
          11000.675000000021,
          11744.890000000021,
          10462.72750000002,
          15326.30750000002,
          19382.020000000022,
          24367.54250000002,
          28580.44750000002,
          23757.73250000002,
          20999.70000000002,
          13524.27500000002,
          12178.30250000002,
          14075.17000000002,
          11869.702500000021,
          14119.917500000021,
          16863.625000000022,
          16852.452500000025,
          15417.547500000026,
          30829.480000000025,
          30249.83000000002,
          43329.44250000002,
          51092.647500000014,
          33286.017500000016,
          29849.460000000017,
          14260.962500000016,
          9952.197500000017,
          14047.345000000018,
          14263.695000000018,
          15571.765000000018,
          11791.287500000017,
          11071.710000000017,
          18596.515000000018,
          32634.627500000017,
          45833.67000000001,
          47682.69250000002,
          41192.017500000016,
          29389.495000000014,
          21321.09000000001,
          15887.73000000001,
          17751.80500000001,
          22589.66000000001,
          18096.435000000012,
          19098.23500000001,
          15504.79250000001,
          8226.492500000011,
          18541.477500000008,
          20934.71000000001,
          26174.50750000001,
          29322.61750000001,
          19609.780000000013,
          16766.827500000014,
          18946.632500000014,
          15076.282500000012,
          31079.102500000008,
          33798.01000000001,
          29592.080000000013,
          30919.525000000016,
          14765.885000000017,
          12098.530000000017,
          9204.917500000016,
          10608.032500000016,
          12596.590000000015,
          12333.067500000016,
          21934.955000000016,
          19335.630000000016,
          20225.270000000015,
          19808.477500000015,
          8806.445000000016,
          8918.065000000015,
          6129.205000000015,
          7549.782500000015,
          9037.857500000015,
          10507.222500000014,
          9646.890000000014,
          11200.742500000015,
          10654.222500000016,
          10258.347500000016,
          15304.067500000017
         ]
        }
       ],
       "layout": {
        "template": {
         "data": {
          "bar": [
           {
            "error_x": {
             "color": "#2a3f5f"
            },
            "error_y": {
             "color": "#2a3f5f"
            },
            "marker": {
             "line": {
              "color": "#E5ECF6",
              "width": 0.5
             }
            },
            "type": "bar"
           }
          ],
          "barpolar": [
           {
            "marker": {
             "line": {
              "color": "#E5ECF6",
              "width": 0.5
             }
            },
            "type": "barpolar"
           }
          ],
          "carpet": [
           {
            "aaxis": {
             "endlinecolor": "#2a3f5f",
             "gridcolor": "white",
             "linecolor": "white",
             "minorgridcolor": "white",
             "startlinecolor": "#2a3f5f"
            },
            "baxis": {
             "endlinecolor": "#2a3f5f",
             "gridcolor": "white",
             "linecolor": "white",
             "minorgridcolor": "white",
             "startlinecolor": "#2a3f5f"
            },
            "type": "carpet"
           }
          ],
          "choropleth": [
           {
            "colorbar": {
             "outlinewidth": 0,
             "ticks": ""
            },
            "type": "choropleth"
           }
          ],
          "contour": [
           {
            "colorbar": {
             "outlinewidth": 0,
             "ticks": ""
            },
            "colorscale": [
             [
              0,
              "#0d0887"
             ],
             [
              0.1111111111111111,
              "#46039f"
             ],
             [
              0.2222222222222222,
              "#7201a8"
             ],
             [
              0.3333333333333333,
              "#9c179e"
             ],
             [
              0.4444444444444444,
              "#bd3786"
             ],
             [
              0.5555555555555556,
              "#d8576b"
             ],
             [
              0.6666666666666666,
              "#ed7953"
             ],
             [
              0.7777777777777778,
              "#fb9f3a"
             ],
             [
              0.8888888888888888,
              "#fdca26"
             ],
             [
              1,
              "#f0f921"
             ]
            ],
            "type": "contour"
           }
          ],
          "contourcarpet": [
           {
            "colorbar": {
             "outlinewidth": 0,
             "ticks": ""
            },
            "type": "contourcarpet"
           }
          ],
          "heatmap": [
           {
            "colorbar": {
             "outlinewidth": 0,
             "ticks": ""
            },
            "colorscale": [
             [
              0,
              "#0d0887"
             ],
             [
              0.1111111111111111,
              "#46039f"
             ],
             [
              0.2222222222222222,
              "#7201a8"
             ],
             [
              0.3333333333333333,
              "#9c179e"
             ],
             [
              0.4444444444444444,
              "#bd3786"
             ],
             [
              0.5555555555555556,
              "#d8576b"
             ],
             [
              0.6666666666666666,
              "#ed7953"
             ],
             [
              0.7777777777777778,
              "#fb9f3a"
             ],
             [
              0.8888888888888888,
              "#fdca26"
             ],
             [
              1,
              "#f0f921"
             ]
            ],
            "type": "heatmap"
           }
          ],
          "heatmapgl": [
           {
            "colorbar": {
             "outlinewidth": 0,
             "ticks": ""
            },
            "colorscale": [
             [
              0,
              "#0d0887"
             ],
             [
              0.1111111111111111,
              "#46039f"
             ],
             [
              0.2222222222222222,
              "#7201a8"
             ],
             [
              0.3333333333333333,
              "#9c179e"
             ],
             [
              0.4444444444444444,
              "#bd3786"
             ],
             [
              0.5555555555555556,
              "#d8576b"
             ],
             [
              0.6666666666666666,
              "#ed7953"
             ],
             [
              0.7777777777777778,
              "#fb9f3a"
             ],
             [
              0.8888888888888888,
              "#fdca26"
             ],
             [
              1,
              "#f0f921"
             ]
            ],
            "type": "heatmapgl"
           }
          ],
          "histogram": [
           {
            "marker": {
             "colorbar": {
              "outlinewidth": 0,
              "ticks": ""
             }
            },
            "type": "histogram"
           }
          ],
          "histogram2d": [
           {
            "colorbar": {
             "outlinewidth": 0,
             "ticks": ""
            },
            "colorscale": [
             [
              0,
              "#0d0887"
             ],
             [
              0.1111111111111111,
              "#46039f"
             ],
             [
              0.2222222222222222,
              "#7201a8"
             ],
             [
              0.3333333333333333,
              "#9c179e"
             ],
             [
              0.4444444444444444,
              "#bd3786"
             ],
             [
              0.5555555555555556,
              "#d8576b"
             ],
             [
              0.6666666666666666,
              "#ed7953"
             ],
             [
              0.7777777777777778,
              "#fb9f3a"
             ],
             [
              0.8888888888888888,
              "#fdca26"
             ],
             [
              1,
              "#f0f921"
             ]
            ],
            "type": "histogram2d"
           }
          ],
          "histogram2dcontour": [
           {
            "colorbar": {
             "outlinewidth": 0,
             "ticks": ""
            },
            "colorscale": [
             [
              0,
              "#0d0887"
             ],
             [
              0.1111111111111111,
              "#46039f"
             ],
             [
              0.2222222222222222,
              "#7201a8"
             ],
             [
              0.3333333333333333,
              "#9c179e"
             ],
             [
              0.4444444444444444,
              "#bd3786"
             ],
             [
              0.5555555555555556,
              "#d8576b"
             ],
             [
              0.6666666666666666,
              "#ed7953"
             ],
             [
              0.7777777777777778,
              "#fb9f3a"
             ],
             [
              0.8888888888888888,
              "#fdca26"
             ],
             [
              1,
              "#f0f921"
             ]
            ],
            "type": "histogram2dcontour"
           }
          ],
          "mesh3d": [
           {
            "colorbar": {
             "outlinewidth": 0,
             "ticks": ""
            },
            "type": "mesh3d"
           }
          ],
          "parcoords": [
           {
            "line": {
             "colorbar": {
              "outlinewidth": 0,
              "ticks": ""
             }
            },
            "type": "parcoords"
           }
          ],
          "scatter": [
           {
            "marker": {
             "colorbar": {
              "outlinewidth": 0,
              "ticks": ""
             }
            },
            "type": "scatter"
           }
          ],
          "scatter3d": [
           {
            "line": {
             "colorbar": {
              "outlinewidth": 0,
              "ticks": ""
             }
            },
            "marker": {
             "colorbar": {
              "outlinewidth": 0,
              "ticks": ""
             }
            },
            "type": "scatter3d"
           }
          ],
          "scattercarpet": [
           {
            "marker": {
             "colorbar": {
              "outlinewidth": 0,
              "ticks": ""
             }
            },
            "type": "scattercarpet"
           }
          ],
          "scattergeo": [
           {
            "marker": {
             "colorbar": {
              "outlinewidth": 0,
              "ticks": ""
             }
            },
            "type": "scattergeo"
           }
          ],
          "scattergl": [
           {
            "marker": {
             "colorbar": {
              "outlinewidth": 0,
              "ticks": ""
             }
            },
            "type": "scattergl"
           }
          ],
          "scattermapbox": [
           {
            "marker": {
             "colorbar": {
              "outlinewidth": 0,
              "ticks": ""
             }
            },
            "type": "scattermapbox"
           }
          ],
          "scatterpolar": [
           {
            "marker": {
             "colorbar": {
              "outlinewidth": 0,
              "ticks": ""
             }
            },
            "type": "scatterpolar"
           }
          ],
          "scatterpolargl": [
           {
            "marker": {
             "colorbar": {
              "outlinewidth": 0,
              "ticks": ""
             }
            },
            "type": "scatterpolargl"
           }
          ],
          "scatterternary": [
           {
            "marker": {
             "colorbar": {
              "outlinewidth": 0,
              "ticks": ""
             }
            },
            "type": "scatterternary"
           }
          ],
          "surface": [
           {
            "colorbar": {
             "outlinewidth": 0,
             "ticks": ""
            },
            "colorscale": [
             [
              0,
              "#0d0887"
             ],
             [
              0.1111111111111111,
              "#46039f"
             ],
             [
              0.2222222222222222,
              "#7201a8"
             ],
             [
              0.3333333333333333,
              "#9c179e"
             ],
             [
              0.4444444444444444,
              "#bd3786"
             ],
             [
              0.5555555555555556,
              "#d8576b"
             ],
             [
              0.6666666666666666,
              "#ed7953"
             ],
             [
              0.7777777777777778,
              "#fb9f3a"
             ],
             [
              0.8888888888888888,
              "#fdca26"
             ],
             [
              1,
              "#f0f921"
             ]
            ],
            "type": "surface"
           }
          ],
          "table": [
           {
            "cells": {
             "fill": {
              "color": "#EBF0F8"
             },
             "line": {
              "color": "white"
             }
            },
            "header": {
             "fill": {
              "color": "#C8D4E3"
             },
             "line": {
              "color": "white"
             }
            },
            "type": "table"
           }
          ]
         },
         "layout": {
          "annotationdefaults": {
           "arrowcolor": "#2a3f5f",
           "arrowhead": 0,
           "arrowwidth": 1
          },
          "colorscale": {
           "diverging": [
            [
             0,
             "#8e0152"
            ],
            [
             0.1,
             "#c51b7d"
            ],
            [
             0.2,
             "#de77ae"
            ],
            [
             0.3,
             "#f1b6da"
            ],
            [
             0.4,
             "#fde0ef"
            ],
            [
             0.5,
             "#f7f7f7"
            ],
            [
             0.6,
             "#e6f5d0"
            ],
            [
             0.7,
             "#b8e186"
            ],
            [
             0.8,
             "#7fbc41"
            ],
            [
             0.9,
             "#4d9221"
            ],
            [
             1,
             "#276419"
            ]
           ],
           "sequential": [
            [
             0,
             "#0d0887"
            ],
            [
             0.1111111111111111,
             "#46039f"
            ],
            [
             0.2222222222222222,
             "#7201a8"
            ],
            [
             0.3333333333333333,
             "#9c179e"
            ],
            [
             0.4444444444444444,
             "#bd3786"
            ],
            [
             0.5555555555555556,
             "#d8576b"
            ],
            [
             0.6666666666666666,
             "#ed7953"
            ],
            [
             0.7777777777777778,
             "#fb9f3a"
            ],
            [
             0.8888888888888888,
             "#fdca26"
            ],
            [
             1,
             "#f0f921"
            ]
           ],
           "sequentialminus": [
            [
             0,
             "#0d0887"
            ],
            [
             0.1111111111111111,
             "#46039f"
            ],
            [
             0.2222222222222222,
             "#7201a8"
            ],
            [
             0.3333333333333333,
             "#9c179e"
            ],
            [
             0.4444444444444444,
             "#bd3786"
            ],
            [
             0.5555555555555556,
             "#d8576b"
            ],
            [
             0.6666666666666666,
             "#ed7953"
            ],
            [
             0.7777777777777778,
             "#fb9f3a"
            ],
            [
             0.8888888888888888,
             "#fdca26"
            ],
            [
             1,
             "#f0f921"
            ]
           ]
          },
          "colorway": [
           "#636efa",
           "#EF553B",
           "#00cc96",
           "#ab63fa",
           "#FFA15A",
           "#19d3f3",
           "#FF6692",
           "#B6E880",
           "#FF97FF",
           "#FECB52"
          ],
          "font": {
           "color": "#2a3f5f"
          },
          "geo": {
           "bgcolor": "white",
           "lakecolor": "white",
           "landcolor": "#E5ECF6",
           "showlakes": true,
           "showland": true,
           "subunitcolor": "white"
          },
          "hoverlabel": {
           "align": "left"
          },
          "hovermode": "closest",
          "mapbox": {
           "style": "light"
          },
          "paper_bgcolor": "white",
          "plot_bgcolor": "#E5ECF6",
          "polar": {
           "angularaxis": {
            "gridcolor": "white",
            "linecolor": "white",
            "ticks": ""
           },
           "bgcolor": "#E5ECF6",
           "radialaxis": {
            "gridcolor": "white",
            "linecolor": "white",
            "ticks": ""
           }
          },
          "scene": {
           "xaxis": {
            "backgroundcolor": "#E5ECF6",
            "gridcolor": "white",
            "gridwidth": 2,
            "linecolor": "white",
            "showbackground": true,
            "ticks": "",
            "zerolinecolor": "white"
           },
           "yaxis": {
            "backgroundcolor": "#E5ECF6",
            "gridcolor": "white",
            "gridwidth": 2,
            "linecolor": "white",
            "showbackground": true,
            "ticks": "",
            "zerolinecolor": "white"
           },
           "zaxis": {
            "backgroundcolor": "#E5ECF6",
            "gridcolor": "white",
            "gridwidth": 2,
            "linecolor": "white",
            "showbackground": true,
            "ticks": "",
            "zerolinecolor": "white"
           }
          },
          "shapedefaults": {
           "line": {
            "color": "#2a3f5f"
           }
          },
          "ternary": {
           "aaxis": {
            "gridcolor": "white",
            "linecolor": "white",
            "ticks": ""
           },
           "baxis": {
            "gridcolor": "white",
            "linecolor": "white",
            "ticks": ""
           },
           "bgcolor": "#E5ECF6",
           "caxis": {
            "gridcolor": "white",
            "linecolor": "white",
            "ticks": ""
           }
          },
          "title": {
           "x": 0.05
          },
          "xaxis": {
           "automargin": true,
           "gridcolor": "white",
           "linecolor": "white",
           "ticks": "",
           "zerolinecolor": "white",
           "zerolinewidth": 2
          },
          "yaxis": {
           "automargin": true,
           "gridcolor": "white",
           "linecolor": "white",
           "ticks": "",
           "zerolinecolor": "white",
           "zerolinewidth": 2
          }
         }
        }
       }
      },
      "text/html": [
       "<div>\n",
       "        \n",
       "        \n",
       "            <div id=\"1375ba3f-7a70-4860-b559-bef904e29047\" class=\"plotly-graph-div\" style=\"height:525px; width:100%;\"></div>\n",
       "            <script type=\"text/javascript\">\n",
       "                require([\"plotly\"], function(Plotly) {\n",
       "                    window.PLOTLYENV=window.PLOTLYENV || {};\n",
       "                    \n",
       "                if (document.getElementById(\"1375ba3f-7a70-4860-b559-bef904e29047\")) {\n",
       "                    Plotly.newPlot(\n",
       "                        '1375ba3f-7a70-4860-b559-bef904e29047',\n",
       "                        [{\"mode\": \"markers\", \"name\": \"markers\", \"type\": \"scatter\", \"x\": [1, 1, 1, 0, 1, 1, 1, 1, 1, 0, 0, 1, 0, 1, 0, 0, 1, 1, 0, 1, 0, 1, 1, 1, 0, 1, 0, 1, 1, 1, 1, 0, 0, 0, 1, 0, 0, 0, 0, 1, 0, 1, 1, 1, 1, 1, 0, 1, 0, 0, 1, 1, 0, 1, 0, 1, 1, 0, 1, 1, 0, 0, 1, 1, 1, 1, 1, 0, 0, 1, 1, 0, 1, 1, 1, 0, 0, 1, 1, 1, 1, 1, 1, 1, 0, 0, 0, 0, 0, 0, 0, 1, 1, 1, 1, 1, 0, 0, 0, 0, 1, 1, 1, 0, 1, 0, 1, 1, 0, 1, 0, 1, 1, 1, 1, 1, 0, 0, 1, 1, 1, 0, 0, 1, 1, 1, 1, 0, 1, 1, 0, 1, 0, 0, 1, 0, 0, 0, 0, 0, 0, 0, 1, 1, 0, 1, 1, 1, 1, 1, 1, 1, 0, 0, 1, 1, 1, 1, 0, 0, 1, 1, 1, 0, 0, 1, 1, 1, 1, 1, 1, 1, 0, 1, 1, 0, 1, 1, 1, 1, 1, 0, 1, 1, 1, 1, 1, 0, 1, 1, 1, 1, 1, 1, 1, 0, 1, 1, 0, 1, 1, 1, 1, 1, 1, 0, 1, 0, 0, 1, 0, 1, 0, 0, 1, 0, 1, 1, 0, 1, 1, 1, 1, 1, 1, 0, 1, 1, 1, 1, 1, 0, 0, 0, 0, 0, 1, 1, 1, 1, 0, 1, 0, 1, 1, 1, 0, 1, 0, 1, 1, 1, 1, 0, 0, 0, 1, 1, 1, 1, 1, 0, 1, 1, 0, 1, 1, 1, 0, 0, 0, 0, 1, 1, 1, 0, 0, 0, 1, 1, 1, 0, 0, 0, 1, 0, 1, 1, 1, 0, 1, 0, 1, 0, 0, 0, 0, 0, 1, 0, 0, 0, 1, 0, 1, 1, 1, 0, 1, 1, 1, 1, 1, 1, 0, 0, 1, 0, 1, 0, 0, 1, 1, 0, 0, 0, 0, 0, 1, 0, 1, 0, 1, 0, 1, 0, 1, 1, 0, 1, 1, 1, 0, 0, 0, 0, 0, 1, 0, 1, 1, 1, 0, 1, 0, 0, 0, 1, 0, 1, 0, 1, 1, 0, 1, 1, 0, 1, 0, 1, 1, 1, 0, 1, 1, 1, 0, 0, 1, 0, 0, 0, 1, 1, 0, 0, 0, 0, 1, 1, 1, 0, 1, 0, 0, 1, 0, 0, 1, 0, 0, 1, 0, 1, 1, 0, 1, 0, 0, 1, 1, 1, 0, 1, 1, 1, 0, 1, 1, 0, 1, 0, 1, 0, 1, 1, 0, 0, 0, 1, 0, 0, 0, 1, 1, 1, 1, 1, 1, 1, 0, 1, 1, 0, 0, 1, 0, 1, 1, 0, 1, 0, 0, 1, 1, 0, 1, 0, 0, 1, 1, 0, 0, 1, 1, 1, 0, 0, 0, 1, 1, 1, 1, 0, 1, 1, 1, 0, 1, 1, 1, 0, 0, 1], \"y\": [null, null, null, null, null, null, null, null, null, null, null, null, null, null, null, null, null, null, null, null, null, null, null, null, null, null, null, null, null, null, null, null, null, null, null, null, null, null, null, null, null, null, null, null, null, null, null, null, null, null, null, null, null, null, null, null, null, null, null, null, null, null, null, null, null, null, null, null, null, null, null, null, null, null, 3070.25, 5476.86, 6030.452499999999, 7379.197499999999, 7638.029999999999, 6499.459999999998, 6265.364999999998, 6420.684999999999, 5003.832499999999, 6956.2024999999985, 12411.884999999998, 14327.432499999999, 22612.92, 19325.585, 17140.65, 14824.702500000003, 6240.485000000002, 6653.682500000002, 2689.742500000001, 1868.6700000000012, 2159.157500000001, 2667.222500000001, 5137.497500000001, 5705.417500000001, 5622.010000000002, 4974.647500000002, 6004.8425000000025, 5195.105000000003, 5891.762500000003, 5938.710000000003, 2757.1500000000024, 2978.5300000000025, 1799.1950000000024, 1392.6225000000024, 780.3050000000026, 847.6500000000026, 1150.2050000000027, 1135.9950000000026, 1451.4775000000025, 1154.3425000000025, 1056.5050000000026, 1265.8175000000026, 2632.1475000000023, 3108.390000000002, 3261.357500000002, 3092.000000000002, 1827.2800000000016, 1563.0600000000018, 1311.0600000000018, 1330.9875000000018, 901.0925000000019, 595.440000000002, 1033.8400000000017, 924.3050000000019, 1013.660000000002, 2361.025000000002, 2633.450000000002, 2618.235000000002, 2498.637500000002, 1424.750000000002, 959.9675000000021, 1821.4400000000023, 1927.5575000000024, 2137.6800000000026, 2337.9550000000027, 1643.3875000000028, 2078.987500000003, 1684.117500000003, 1957.6050000000032, 1774.9475000000032, 1430.9450000000031, 1432.3050000000032, 615.0600000000032, 2520.4500000000035, 2399.850000000003, 3709.487500000003, 3863.762500000003, 3746.3875000000025, 4289.520000000002, 3585.4425000000024, 6206.952500000002, 4468.545000000002, 4095.4575000000023, 3950.747500000002, 1595.680000000002, 2822.912500000002, 10285.835000000003, 38276.037500000006, 38113.11000000001, 37382.592500000006, 30311.272500000006, 8708.692500000005, 10616.220000000005, 12139.417500000005, 16250.962500000005, 11904.475000000002, 85817.2275, 85993.6225, 125502.19999999998, 206011.46999999997, 191310.0525, 212777.88999999998, 178981.0725, 102238.065, 54969.23000000001, 36538.59250000001, 35968.80000000001, 41254.47250000001, 31830.03250000001, 27257.120000000006, 23832.44000000001, 16972.88750000001, 16564.295000000013, 17707.407500000016, 13883.177500000016, 14280.065000000015, 14715.937500000015, 20088.957500000015, 29679.302500000013, 33592.26000000001, 54280.37000000001, 95906.18750000001, 91147.46750000001, 95349.10750000001, 106976.16250000002, 85453.64000000004, 115896.27000000005, 122856.03500000003, 98253.79750000002, 92223.62500000001, 68971.6925, 92285.5025, 94506.14000000001, 99759.52500000001, 100548.57500000001, 119141.74500000001, 142479.445, 144026.0975, 169004.8175, 147761.0075, 182196.3825, 199552.195, 219942.34, 252035.77249999996, 217818.27499999997, 211005.06749999998, 198541.75249999997, 176599.22499999998, 163970.85249999998, 151389.9575, 131144.2, 117307.715, 115201.405, 118367.81250000001, 131528.04750000002, 119852.28250000002, 124452.28250000003, 122267.81000000004, 106943.58000000005, 106995.83000000005, 92504.48750000005, 89894.67500000005, 137431.16500000004, 141322.59250000003, 153730.73750000005, 137199.09000000003, 75481.08250000002, 49605.21250000001, 32307.842500000013, 29467.940000000013, 30697.967500000013, 36975.49000000001, 35686.547500000015, 47097.180000000015, 40560.61250000001, 43310.32000000001, 37859.53250000001, 24176.185000000012, 34238.21750000001, 23449.99750000002, 42173.75250000002, 48361.485000000015, 47209.225000000006, 50263.205, 39051.832500000004, 50681.025, 44911.75, 64846.85249999999, 65803.11249999999, 55601.2325, 72706.3375, 66168.91, 83372.98500000002, 82057.11750000002, 87233.26750000002, 85115.39000000001, 69210.93000000002, 73299.94000000002, 50198.63750000002, 60990.67500000002, 66025.51500000001, 79798.30750000002, 87081.59500000003, 101781.85000000003, 104824.41000000003, 98099.05750000002, 96955.86000000002, 67370.20000000001, 66437.18500000001, 59362.58500000002, 100254.31750000003, 101698.60750000004, 92808.02000000005, 88143.30500000005, 38354.477500000045, 34513.51500000004, 29950.632500000043, 27366.670000000042, 26504.00750000004, 19430.37250000004, 25306.49750000004, 22566.60250000004, 30833.18500000004, 29210.39500000004, 34468.592500000035, 39320.98250000004, 36672.61000000004, 61693.26750000003, 55922.89500000003, 57379.30000000003, 49422.945000000036, 28244.46000000004, 32541.920000000042, 29416.05000000004, 34180.570000000036, 35287.75250000003, 40218.29000000004, 37914.037500000035, 38999.67250000004, 41058.06000000004, 36472.110000000044, 40727.71750000004, 35798.047500000044, 33701.21250000004, 23186.647500000043, 23078.312500000044, 27699.205000000045, 28815.22000000005, 30034.50250000005, 23542.94000000005, 18997.18000000005, 13842.89750000005, 19186.822500000053, 32222.412500000053, 32149.17000000005, 33232.580000000045, 38805.635000000046, 31013.062500000044, 30230.06750000004, 34561.76250000004, 20077.80250000004, 16438.705000000038, 16218.212500000036, 10160.847500000036, 13826.805000000035, 11536.070000000034, 13419.617500000035, 15437.047500000033, 12981.225000000035, 19093.125000000036, 15781.997500000038, 20774.56500000004, 22985.595000000038, 39074.897500000036, 54043.20750000004, 52589.59000000004, 52734.70500000004, 31538.490000000034, 19077.29000000003, 16320.755000000032, 18068.63750000003, 28591.87500000003, 34302.60250000003, 43508.050000000025, 37744.31750000003, 33405.05250000003, 27399.22000000003, 23720.74750000003, 28647.50250000003, 25022.387500000033, 25935.22000000003, 17236.31500000003, 16308.522500000032, 12978.462500000034, 8484.222500000034, 10806.682500000034, 8884.705000000034, 13792.735000000035, 15139.805000000035, 17207.667500000032, 14010.970000000034, 15545.892500000034, 16449.140000000036, 13072.705000000034, 22169.140000000036, 17505.612500000036, 38999.66250000004, 49034.81000000004, 56620.17250000005, 63381.48250000005, 46396.14000000005, 74052.89250000005, 60527.88000000004, 58553.06750000004, 57057.31000000004, 27435.875000000036, 42589.65000000004, 55422.577500000036, 70299.42500000003, 63945.07000000003, 57319.41250000003, 42575.76500000003, 28865.350000000024, 29160.495000000024, 26711.987500000025, 26014.900000000023, 22653.212500000023, 22341.997500000023, 13699.530000000022, 25812.28250000002, 26045.24250000002, 24568.57500000002, 24584.81500000002, 11000.675000000021, 11744.890000000021, 10462.72750000002, 15326.30750000002, 19382.020000000022, 24367.54250000002, 28580.44750000002, 23757.73250000002, 20999.70000000002, 13524.27500000002, 12178.30250000002, 14075.17000000002, 11869.702500000021, 14119.917500000021, 16863.625000000022, 16852.452500000025, 15417.547500000026, 30829.480000000025, 30249.83000000002, 43329.44250000002, 51092.647500000014, 33286.017500000016, 29849.460000000017, 14260.962500000016, 9952.197500000017, 14047.345000000018, 14263.695000000018, 15571.765000000018, 11791.287500000017, 11071.710000000017, 18596.515000000018, 32634.627500000017, 45833.67000000001, 47682.69250000002, 41192.017500000016, 29389.495000000014, 21321.09000000001, 15887.73000000001, 17751.80500000001, 22589.66000000001, 18096.435000000012, 19098.23500000001, 15504.79250000001, 8226.492500000011, 18541.477500000008, 20934.71000000001, 26174.50750000001, 29322.61750000001, 19609.780000000013, 16766.827500000014, 18946.632500000014, 15076.282500000012, 31079.102500000008, 33798.01000000001, 29592.080000000013, 30919.525000000016, 14765.885000000017, 12098.530000000017, 9204.917500000016, 10608.032500000016, 12596.590000000015, 12333.067500000016, 21934.955000000016, 19335.630000000016, 20225.270000000015, 19808.477500000015, 8806.445000000016, 8918.065000000015, 6129.205000000015, 7549.782500000015, 9037.857500000015, 10507.222500000014, 9646.890000000014, 11200.742500000015, 10654.222500000016, 10258.347500000016, 15304.067500000017]}],\n",
       "                        {\"template\": {\"data\": {\"bar\": [{\"error_x\": {\"color\": \"#2a3f5f\"}, \"error_y\": {\"color\": \"#2a3f5f\"}, \"marker\": {\"line\": {\"color\": \"#E5ECF6\", \"width\": 0.5}}, \"type\": \"bar\"}], \"barpolar\": [{\"marker\": {\"line\": {\"color\": \"#E5ECF6\", \"width\": 0.5}}, \"type\": \"barpolar\"}], \"carpet\": [{\"aaxis\": {\"endlinecolor\": \"#2a3f5f\", \"gridcolor\": \"white\", \"linecolor\": \"white\", \"minorgridcolor\": \"white\", \"startlinecolor\": \"#2a3f5f\"}, \"baxis\": {\"endlinecolor\": \"#2a3f5f\", \"gridcolor\": \"white\", \"linecolor\": \"white\", \"minorgridcolor\": \"white\", \"startlinecolor\": \"#2a3f5f\"}, \"type\": \"carpet\"}], \"choropleth\": [{\"colorbar\": {\"outlinewidth\": 0, \"ticks\": \"\"}, \"type\": \"choropleth\"}], \"contour\": [{\"colorbar\": {\"outlinewidth\": 0, \"ticks\": \"\"}, \"colorscale\": [[0.0, \"#0d0887\"], [0.1111111111111111, \"#46039f\"], [0.2222222222222222, \"#7201a8\"], [0.3333333333333333, \"#9c179e\"], [0.4444444444444444, \"#bd3786\"], [0.5555555555555556, \"#d8576b\"], [0.6666666666666666, \"#ed7953\"], [0.7777777777777778, \"#fb9f3a\"], [0.8888888888888888, \"#fdca26\"], [1.0, \"#f0f921\"]], \"type\": \"contour\"}], \"contourcarpet\": [{\"colorbar\": {\"outlinewidth\": 0, \"ticks\": \"\"}, \"type\": \"contourcarpet\"}], \"heatmap\": [{\"colorbar\": {\"outlinewidth\": 0, \"ticks\": \"\"}, \"colorscale\": [[0.0, \"#0d0887\"], [0.1111111111111111, \"#46039f\"], [0.2222222222222222, \"#7201a8\"], [0.3333333333333333, \"#9c179e\"], [0.4444444444444444, \"#bd3786\"], [0.5555555555555556, \"#d8576b\"], [0.6666666666666666, \"#ed7953\"], [0.7777777777777778, \"#fb9f3a\"], [0.8888888888888888, \"#fdca26\"], [1.0, \"#f0f921\"]], \"type\": \"heatmap\"}], \"heatmapgl\": [{\"colorbar\": {\"outlinewidth\": 0, \"ticks\": \"\"}, \"colorscale\": [[0.0, \"#0d0887\"], [0.1111111111111111, \"#46039f\"], [0.2222222222222222, \"#7201a8\"], [0.3333333333333333, \"#9c179e\"], [0.4444444444444444, \"#bd3786\"], [0.5555555555555556, \"#d8576b\"], [0.6666666666666666, \"#ed7953\"], [0.7777777777777778, \"#fb9f3a\"], [0.8888888888888888, \"#fdca26\"], [1.0, \"#f0f921\"]], \"type\": \"heatmapgl\"}], \"histogram\": [{\"marker\": {\"colorbar\": {\"outlinewidth\": 0, \"ticks\": \"\"}}, \"type\": \"histogram\"}], \"histogram2d\": [{\"colorbar\": {\"outlinewidth\": 0, \"ticks\": \"\"}, \"colorscale\": [[0.0, \"#0d0887\"], [0.1111111111111111, \"#46039f\"], [0.2222222222222222, \"#7201a8\"], [0.3333333333333333, \"#9c179e\"], [0.4444444444444444, \"#bd3786\"], [0.5555555555555556, \"#d8576b\"], [0.6666666666666666, \"#ed7953\"], [0.7777777777777778, \"#fb9f3a\"], [0.8888888888888888, \"#fdca26\"], [1.0, \"#f0f921\"]], \"type\": \"histogram2d\"}], \"histogram2dcontour\": [{\"colorbar\": {\"outlinewidth\": 0, \"ticks\": \"\"}, \"colorscale\": [[0.0, \"#0d0887\"], [0.1111111111111111, \"#46039f\"], [0.2222222222222222, \"#7201a8\"], [0.3333333333333333, \"#9c179e\"], [0.4444444444444444, \"#bd3786\"], [0.5555555555555556, \"#d8576b\"], [0.6666666666666666, \"#ed7953\"], [0.7777777777777778, \"#fb9f3a\"], [0.8888888888888888, \"#fdca26\"], [1.0, \"#f0f921\"]], \"type\": \"histogram2dcontour\"}], \"mesh3d\": [{\"colorbar\": {\"outlinewidth\": 0, \"ticks\": \"\"}, \"type\": \"mesh3d\"}], \"parcoords\": [{\"line\": {\"colorbar\": {\"outlinewidth\": 0, \"ticks\": \"\"}}, \"type\": \"parcoords\"}], \"scatter\": [{\"marker\": {\"colorbar\": {\"outlinewidth\": 0, \"ticks\": \"\"}}, \"type\": \"scatter\"}], \"scatter3d\": [{\"line\": {\"colorbar\": {\"outlinewidth\": 0, \"ticks\": \"\"}}, \"marker\": {\"colorbar\": {\"outlinewidth\": 0, \"ticks\": \"\"}}, \"type\": \"scatter3d\"}], \"scattercarpet\": [{\"marker\": {\"colorbar\": {\"outlinewidth\": 0, \"ticks\": \"\"}}, \"type\": \"scattercarpet\"}], \"scattergeo\": [{\"marker\": {\"colorbar\": {\"outlinewidth\": 0, \"ticks\": \"\"}}, \"type\": \"scattergeo\"}], \"scattergl\": [{\"marker\": {\"colorbar\": {\"outlinewidth\": 0, \"ticks\": \"\"}}, \"type\": \"scattergl\"}], \"scattermapbox\": [{\"marker\": {\"colorbar\": {\"outlinewidth\": 0, \"ticks\": \"\"}}, \"type\": \"scattermapbox\"}], \"scatterpolar\": [{\"marker\": {\"colorbar\": {\"outlinewidth\": 0, \"ticks\": \"\"}}, \"type\": \"scatterpolar\"}], \"scatterpolargl\": [{\"marker\": {\"colorbar\": {\"outlinewidth\": 0, \"ticks\": \"\"}}, \"type\": \"scatterpolargl\"}], \"scatterternary\": [{\"marker\": {\"colorbar\": {\"outlinewidth\": 0, \"ticks\": \"\"}}, \"type\": \"scatterternary\"}], \"surface\": [{\"colorbar\": {\"outlinewidth\": 0, \"ticks\": \"\"}, \"colorscale\": [[0.0, \"#0d0887\"], [0.1111111111111111, \"#46039f\"], [0.2222222222222222, \"#7201a8\"], [0.3333333333333333, \"#9c179e\"], [0.4444444444444444, \"#bd3786\"], [0.5555555555555556, \"#d8576b\"], [0.6666666666666666, \"#ed7953\"], [0.7777777777777778, \"#fb9f3a\"], [0.8888888888888888, \"#fdca26\"], [1.0, \"#f0f921\"]], \"type\": \"surface\"}], \"table\": [{\"cells\": {\"fill\": {\"color\": \"#EBF0F8\"}, \"line\": {\"color\": \"white\"}}, \"header\": {\"fill\": {\"color\": \"#C8D4E3\"}, \"line\": {\"color\": \"white\"}}, \"type\": \"table\"}]}, \"layout\": {\"annotationdefaults\": {\"arrowcolor\": \"#2a3f5f\", \"arrowhead\": 0, \"arrowwidth\": 1}, \"colorscale\": {\"diverging\": [[0, \"#8e0152\"], [0.1, \"#c51b7d\"], [0.2, \"#de77ae\"], [0.3, \"#f1b6da\"], [0.4, \"#fde0ef\"], [0.5, \"#f7f7f7\"], [0.6, \"#e6f5d0\"], [0.7, \"#b8e186\"], [0.8, \"#7fbc41\"], [0.9, \"#4d9221\"], [1, \"#276419\"]], \"sequential\": [[0.0, \"#0d0887\"], [0.1111111111111111, \"#46039f\"], [0.2222222222222222, \"#7201a8\"], [0.3333333333333333, \"#9c179e\"], [0.4444444444444444, \"#bd3786\"], [0.5555555555555556, \"#d8576b\"], [0.6666666666666666, \"#ed7953\"], [0.7777777777777778, \"#fb9f3a\"], [0.8888888888888888, \"#fdca26\"], [1.0, \"#f0f921\"]], \"sequentialminus\": [[0.0, \"#0d0887\"], [0.1111111111111111, \"#46039f\"], [0.2222222222222222, \"#7201a8\"], [0.3333333333333333, \"#9c179e\"], [0.4444444444444444, \"#bd3786\"], [0.5555555555555556, \"#d8576b\"], [0.6666666666666666, \"#ed7953\"], [0.7777777777777778, \"#fb9f3a\"], [0.8888888888888888, \"#fdca26\"], [1.0, \"#f0f921\"]]}, \"colorway\": [\"#636efa\", \"#EF553B\", \"#00cc96\", \"#ab63fa\", \"#FFA15A\", \"#19d3f3\", \"#FF6692\", \"#B6E880\", \"#FF97FF\", \"#FECB52\"], \"font\": {\"color\": \"#2a3f5f\"}, \"geo\": {\"bgcolor\": \"white\", \"lakecolor\": \"white\", \"landcolor\": \"#E5ECF6\", \"showlakes\": true, \"showland\": true, \"subunitcolor\": \"white\"}, \"hoverlabel\": {\"align\": \"left\"}, \"hovermode\": \"closest\", \"mapbox\": {\"style\": \"light\"}, \"paper_bgcolor\": \"white\", \"plot_bgcolor\": \"#E5ECF6\", \"polar\": {\"angularaxis\": {\"gridcolor\": \"white\", \"linecolor\": \"white\", \"ticks\": \"\"}, \"bgcolor\": \"#E5ECF6\", \"radialaxis\": {\"gridcolor\": \"white\", \"linecolor\": \"white\", \"ticks\": \"\"}}, \"scene\": {\"xaxis\": {\"backgroundcolor\": \"#E5ECF6\", \"gridcolor\": \"white\", \"gridwidth\": 2, \"linecolor\": \"white\", \"showbackground\": true, \"ticks\": \"\", \"zerolinecolor\": \"white\"}, \"yaxis\": {\"backgroundcolor\": \"#E5ECF6\", \"gridcolor\": \"white\", \"gridwidth\": 2, \"linecolor\": \"white\", \"showbackground\": true, \"ticks\": \"\", \"zerolinecolor\": \"white\"}, \"zaxis\": {\"backgroundcolor\": \"#E5ECF6\", \"gridcolor\": \"white\", \"gridwidth\": 2, \"linecolor\": \"white\", \"showbackground\": true, \"ticks\": \"\", \"zerolinecolor\": \"white\"}}, \"shapedefaults\": {\"line\": {\"color\": \"#2a3f5f\"}}, \"ternary\": {\"aaxis\": {\"gridcolor\": \"white\", \"linecolor\": \"white\", \"ticks\": \"\"}, \"baxis\": {\"gridcolor\": \"white\", \"linecolor\": \"white\", \"ticks\": \"\"}, \"bgcolor\": \"#E5ECF6\", \"caxis\": {\"gridcolor\": \"white\", \"linecolor\": \"white\", \"ticks\": \"\"}}, \"title\": {\"x\": 0.05}, \"xaxis\": {\"automargin\": true, \"gridcolor\": \"white\", \"linecolor\": \"white\", \"ticks\": \"\", \"zerolinecolor\": \"white\", \"zerolinewidth\": 2}, \"yaxis\": {\"automargin\": true, \"gridcolor\": \"white\", \"linecolor\": \"white\", \"ticks\": \"\", \"zerolinecolor\": \"white\", \"zerolinewidth\": 2}}}},\n",
       "                        {\"responsive\": true}\n",
       "                    ).then(function(){\n",
       "                            \n",
       "var gd = document.getElementById('1375ba3f-7a70-4860-b559-bef904e29047');\n",
       "var x = new MutationObserver(function (mutations, observer) {{\n",
       "        var display = window.getComputedStyle(gd).display;\n",
       "        if (!display || display === 'none') {{\n",
       "            console.log([gd, 'removed!']);\n",
       "            Plotly.purge(gd);\n",
       "            observer.disconnect();\n",
       "        }}\n",
       "}});\n",
       "\n",
       "// Listen for the removal of the full notebook cells\n",
       "var notebookContainer = gd.closest('#notebook-container');\n",
       "if (notebookContainer) {{\n",
       "    x.observe(notebookContainer, {childList: true});\n",
       "}}\n",
       "\n",
       "// Listen for the clearing of the current output cell\n",
       "var outputEl = gd.closest('.output');\n",
       "if (outputEl) {{\n",
       "    x.observe(outputEl, {childList: true});\n",
       "}}\n",
       "\n",
       "                        })\n",
       "                };\n",
       "                });\n",
       "            </script>\n",
       "        </div>"
      ]
     },
     "metadata": {},
     "output_type": "display_data"
    }
   ],
   "source": [
    "import plotly.express as px\n",
    "import plotly.graph_objects as go\n",
    "\n",
    "# fig, ax = plt.subplots()\n",
    "# ax.set(title='earnings vs target (awards)', ylabel='earnings', xlabel='awards_proxy')\n",
    "# plt.plot(ethusd['Date'], ethusd['Close'], alpha=.9);\n",
    "# plt.plot(ethusd['Date'], ethusd['Close'], alpha=.9);\n",
    "# plt.plot(ethusd['Date'], ethusd['Close'], alpha=.9);\n",
    "# plt.savefig('img_6_earnings_against_target.png')\n",
    "\n",
    "# date = btcusd['Date']\n",
    "# data = btcusd['Close']\n",
    "\n",
    "# # df = px.data.gapminder().query(\"country=='Canada'\")\n",
    "\n",
    "# data = {'date': date, 'data':data}\n",
    "\n",
    "# df = pd.DataFrame(data)\n",
    "\n",
    "Date_fstd = AggData['Date_fstd']\n",
    "BTC = AggData['price_BTC_lstd']\n",
    "UpORDwn = AggData['upORdwn']\n",
    "vol = AggData['rol_Volume ETH_fstd']\n",
    "\n",
    "# fig = px.line(AggData, x=\"Date_fstd\", y=\"price_BTC_lstd\", title='crypto data')\n",
    "\n",
    "\n",
    "fig = go.Figure()\n",
    "\n",
    "# fig.add_trace(go.Scatter(x=Date_fstd, y=BTC,\n",
    "#                     mode='lines',\n",
    "#                     name='BTC'))\n",
    "\n",
    "# fig.add_trace(go.Scatter(x=Date_fstd, y=ETH,\n",
    "#                     mode='lines',\n",
    "#                     name='ETH'))\n",
    "# fig.add_trace(go.Scatter(x=Date_fstd, y=LTC,\n",
    "#                     mode='lines',\n",
    "#                     name='LTC'))\n",
    "fig.add_trace(go.Scatter(x=UpORDwn, y=vol,\n",
    "                    mode='markers', name=''))\n",
    "\n",
    "fig.show()\n",
    "\n",
    "\n"
   ]
  },
  {
   "cell_type": "code",
   "execution_count": null,
   "metadata": {
    "ExecuteTime": {
     "end_time": "2020-02-12T12:53:23.454095Z",
     "start_time": "2020-02-12T12:53:22.770Z"
    }
   },
   "outputs": [],
   "source": [
    "dashboard_data"
   ]
  },
  {
   "cell_type": "raw",
   "metadata": {},
   "source": []
  },
  {
   "cell_type": "code",
   "execution_count": null,
   "metadata": {},
   "outputs": [],
   "source": []
  },
  {
   "cell_type": "code",
   "execution_count": null,
   "metadata": {
    "ExecuteTime": {
     "end_time": "2020-02-12T12:53:23.455436Z",
     "start_time": "2020-02-12T12:53:22.771Z"
    }
   },
   "outputs": [],
   "source": [
    "def findHighestGrowthAverageToDate(self):\n",
    "    PrevToJan2018_BTC = pd.DataFrame.copy(self.data[(self.data['Date'].dt.year < 2018) & (self.data['Symbol'] == 'BTCUSD')])\n",
    "    PrevToJan2018_ETH = pd.DataFrame.copy(crypto[(self.data['Date'].dt.year < 2018) & (self.data['Symbol'] == 'ETHUSD')])\n",
    "\n",
    "    eth_growth = (PrevToJan2018_ETH['Open'].head(1).values[0] - PrevToJan2018_ETH['Open'].tail(1).values[0])/PrevToJan2018_ETH['Open'].tail(1).values[0]\n",
    "    btc_growth = (PrevToJan2018_BTC['Open'].head(1).values[0] - PrevToJan2018_BTC['Open'].tail(1).values[0])/PrevToJan2018_BTC['Open'].tail(1).values[0]\n",
    "\n",
    "    eth_initalPercent = eth_growth / (eth_growth + btc_growth)\n",
    "    btc_initalPercent = btc_growth / (eth_growth + btc_growth)\n",
    "\n",
    "    eth_initialInvestment = A1.initialAmmount * eth_initalPercent\n",
    "    btc_initialInvestment = A1.initialAmmount * btc_initalPercent\n"
   ]
  },
  {
   "cell_type": "code",
   "execution_count": null,
   "metadata": {
    "ExecuteTime": {
     "end_time": "2020-02-12T12:53:23.456274Z",
     "start_time": "2020-02-12T12:53:22.773Z"
    }
   },
   "outputs": [],
   "source": [
    "    def setWeekID(self,cryptoData):\n",
    "        cryptoData['Date'] = pd.to_datetime(cryptoData['Date'], infer_datetime_format=True)\n",
    "        cryptoData['year'] = cryptoData['Date'].dt.year\n",
    "        cryptoData['weekN'] = cryptoData['Date'].dt.week\n",
    "        cryptoData['weekD'] = cryptoData['Date'].dt.day\n",
    "        cryptoData['weekID'] = cryptoData['year'].astype(str).str.cat(cryptoData['weekN'].astype(str))\n",
    "        return cryptoDatax"
   ]
  }
 ],
 "metadata": {
  "kernelspec": {
   "display_name": "Python 3",
   "language": "python",
   "name": "python3"
  },
  "language_info": {
   "codemirror_mode": {
    "name": "ipython",
    "version": 3
   },
   "file_extension": ".py",
   "mimetype": "text/x-python",
   "name": "python",
   "nbconvert_exporter": "python",
   "pygments_lexer": "ipython3",
   "version": "3.6.4"
  },
  "toc": {
   "base_numbering": 1,
   "nav_menu": {},
   "number_sections": true,
   "sideBar": true,
   "skip_h1_title": false,
   "title_cell": "Table of Contents",
   "title_sidebar": "Contents",
   "toc_cell": false,
   "toc_position": {},
   "toc_section_display": true,
   "toc_window_display": false
  },
  "varInspector": {
   "cols": {
    "lenName": 16,
    "lenType": 16,
    "lenVar": 40
   },
   "kernels_config": {
    "python": {
     "delete_cmd_postfix": "",
     "delete_cmd_prefix": "del ",
     "library": "var_list.py",
     "varRefreshCmd": "print(var_dic_list())"
    },
    "r": {
     "delete_cmd_postfix": ") ",
     "delete_cmd_prefix": "rm(",
     "library": "var_list.r",
     "varRefreshCmd": "cat(var_dic_list()) "
    }
   },
   "types_to_exclude": [
    "module",
    "function",
    "builtin_function_or_method",
    "instance",
    "_Feature"
   ],
   "window_display": false
  }
 },
 "nbformat": 4,
 "nbformat_minor": 2
}
